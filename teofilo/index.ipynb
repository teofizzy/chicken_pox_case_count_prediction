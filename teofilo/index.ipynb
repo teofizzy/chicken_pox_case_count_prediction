{
 "cells": [
  {
   "cell_type": "code",
   "execution_count": 13,
   "id": "8ab30148",
   "metadata": {},
   "outputs": [],
   "source": [
    "# import dependencies\n",
    "import pandas as pd\n",
    "import calendar\n",
    "import geopandas as gpd\n",
    "import numpy as np\n",
    "import matplotlib.pyplot as plt\n",
    "import seaborn as sns\n",
    "import plotly.express as px\n",
    "import plotly.graph_objects as go\n",
    "import warnings\n",
    "warnings.filterwarnings(\"ignore\")\n",
    "\n",
    "## ML\n",
    "from sklearn.model_selection import train_test_split\n",
    "from sklearn.preprocessing import MinMaxScaler, StandardScaler, OrdinalEncoder, PolynomialFeatures\n",
    "from sklearn.ensemble import GradientBoostingRegressor\n",
    "from sklearn.linear_model import LinearRegression\n",
    "\n",
    "from tasks import Understand"
   ]
  },
  {
   "attachments": {},
   "cell_type": "markdown",
   "id": "a3486ed0",
   "metadata": {},
   "source": [
    "# 1. Data Understanding\n",
    "> Inspecting the data"
   ]
  },
  {
   "cell_type": "code",
   "execution_count": 14,
   "id": "ba81df10",
   "metadata": {},
   "outputs": [
    {
     "data": {
      "text/html": [
       "<div>\n",
       "<style scoped>\n",
       "    .dataframe tbody tr th:only-of-type {\n",
       "        vertical-align: middle;\n",
       "    }\n",
       "\n",
       "    .dataframe tbody tr th {\n",
       "        vertical-align: top;\n",
       "    }\n",
       "\n",
       "    .dataframe thead th {\n",
       "        text-align: right;\n",
       "    }\n",
       "</style>\n",
       "<table border=\"1\" class=\"dataframe\">\n",
       "  <thead>\n",
       "    <tr style=\"text-align: right;\">\n",
       "      <th></th>\n",
       "      <th>Date</th>\n",
       "      <th>BUDAPEST</th>\n",
       "      <th>BARANYA</th>\n",
       "      <th>BACS</th>\n",
       "      <th>BEKES</th>\n",
       "      <th>BORSOD</th>\n",
       "      <th>CSONGRAD</th>\n",
       "      <th>FEJER</th>\n",
       "      <th>GYOR</th>\n",
       "      <th>HAJDU</th>\n",
       "      <th>...</th>\n",
       "      <th>JASZ</th>\n",
       "      <th>KOMAROM</th>\n",
       "      <th>NOGRAD</th>\n",
       "      <th>PEST</th>\n",
       "      <th>SOMOGY</th>\n",
       "      <th>SZABOLCS</th>\n",
       "      <th>TOLNA</th>\n",
       "      <th>VAS</th>\n",
       "      <th>VESZPREM</th>\n",
       "      <th>ZALA</th>\n",
       "    </tr>\n",
       "  </thead>\n",
       "  <tbody>\n",
       "    <tr>\n",
       "      <th>0</th>\n",
       "      <td>03/01/2005</td>\n",
       "      <td>168</td>\n",
       "      <td>79</td>\n",
       "      <td>30</td>\n",
       "      <td>173</td>\n",
       "      <td>169</td>\n",
       "      <td>42</td>\n",
       "      <td>136</td>\n",
       "      <td>120</td>\n",
       "      <td>162</td>\n",
       "      <td>...</td>\n",
       "      <td>130</td>\n",
       "      <td>57</td>\n",
       "      <td>2</td>\n",
       "      <td>178</td>\n",
       "      <td>66</td>\n",
       "      <td>64</td>\n",
       "      <td>11</td>\n",
       "      <td>29</td>\n",
       "      <td>87</td>\n",
       "      <td>68</td>\n",
       "    </tr>\n",
       "    <tr>\n",
       "      <th>1</th>\n",
       "      <td>10/01/2005</td>\n",
       "      <td>157</td>\n",
       "      <td>60</td>\n",
       "      <td>30</td>\n",
       "      <td>92</td>\n",
       "      <td>200</td>\n",
       "      <td>53</td>\n",
       "      <td>51</td>\n",
       "      <td>70</td>\n",
       "      <td>84</td>\n",
       "      <td>...</td>\n",
       "      <td>80</td>\n",
       "      <td>50</td>\n",
       "      <td>29</td>\n",
       "      <td>141</td>\n",
       "      <td>48</td>\n",
       "      <td>29</td>\n",
       "      <td>58</td>\n",
       "      <td>53</td>\n",
       "      <td>68</td>\n",
       "      <td>26</td>\n",
       "    </tr>\n",
       "    <tr>\n",
       "      <th>2</th>\n",
       "      <td>17/01/2005</td>\n",
       "      <td>96</td>\n",
       "      <td>44</td>\n",
       "      <td>31</td>\n",
       "      <td>86</td>\n",
       "      <td>93</td>\n",
       "      <td>30</td>\n",
       "      <td>93</td>\n",
       "      <td>84</td>\n",
       "      <td>191</td>\n",
       "      <td>...</td>\n",
       "      <td>64</td>\n",
       "      <td>46</td>\n",
       "      <td>4</td>\n",
       "      <td>157</td>\n",
       "      <td>33</td>\n",
       "      <td>33</td>\n",
       "      <td>24</td>\n",
       "      <td>18</td>\n",
       "      <td>62</td>\n",
       "      <td>44</td>\n",
       "    </tr>\n",
       "    <tr>\n",
       "      <th>3</th>\n",
       "      <td>24/01/2005</td>\n",
       "      <td>163</td>\n",
       "      <td>49</td>\n",
       "      <td>43</td>\n",
       "      <td>126</td>\n",
       "      <td>46</td>\n",
       "      <td>39</td>\n",
       "      <td>52</td>\n",
       "      <td>114</td>\n",
       "      <td>107</td>\n",
       "      <td>...</td>\n",
       "      <td>63</td>\n",
       "      <td>54</td>\n",
       "      <td>14</td>\n",
       "      <td>107</td>\n",
       "      <td>66</td>\n",
       "      <td>50</td>\n",
       "      <td>25</td>\n",
       "      <td>21</td>\n",
       "      <td>43</td>\n",
       "      <td>31</td>\n",
       "    </tr>\n",
       "    <tr>\n",
       "      <th>4</th>\n",
       "      <td>31/01/2005</td>\n",
       "      <td>122</td>\n",
       "      <td>78</td>\n",
       "      <td>53</td>\n",
       "      <td>87</td>\n",
       "      <td>103</td>\n",
       "      <td>34</td>\n",
       "      <td>95</td>\n",
       "      <td>131</td>\n",
       "      <td>172</td>\n",
       "      <td>...</td>\n",
       "      <td>61</td>\n",
       "      <td>49</td>\n",
       "      <td>11</td>\n",
       "      <td>124</td>\n",
       "      <td>63</td>\n",
       "      <td>56</td>\n",
       "      <td>7</td>\n",
       "      <td>47</td>\n",
       "      <td>85</td>\n",
       "      <td>60</td>\n",
       "    </tr>\n",
       "  </tbody>\n",
       "</table>\n",
       "<p>5 rows × 21 columns</p>\n",
       "</div>"
      ],
      "text/plain": [
       "         Date  BUDAPEST  BARANYA  BACS  BEKES  BORSOD  CSONGRAD  FEJER  GYOR  \\\n",
       "0  03/01/2005       168       79    30    173     169        42    136   120   \n",
       "1  10/01/2005       157       60    30     92     200        53     51    70   \n",
       "2  17/01/2005        96       44    31     86      93        30     93    84   \n",
       "3  24/01/2005       163       49    43    126      46        39     52   114   \n",
       "4  31/01/2005       122       78    53     87     103        34     95   131   \n",
       "\n",
       "   HAJDU  ...  JASZ  KOMAROM  NOGRAD  PEST  SOMOGY  SZABOLCS  TOLNA  VAS  \\\n",
       "0    162  ...   130       57       2   178      66        64     11   29   \n",
       "1     84  ...    80       50      29   141      48        29     58   53   \n",
       "2    191  ...    64       46       4   157      33        33     24   18   \n",
       "3    107  ...    63       54      14   107      66        50     25   21   \n",
       "4    172  ...    61       49      11   124      63        56      7   47   \n",
       "\n",
       "   VESZPREM  ZALA  \n",
       "0        87    68  \n",
       "1        68    26  \n",
       "2        62    44  \n",
       "3        43    31  \n",
       "4        85    60  \n",
       "\n",
       "[5 rows x 21 columns]"
      ]
     },
     "execution_count": 14,
     "metadata": {},
     "output_type": "execute_result"
    }
   ],
   "source": [
    "# load data\n",
    "chickenpox_df = pd.read_csv('/home/teofilo_acholla_ligawa_gafna/Documents/hamoye/mlops/projects/chicken_pox_case_count_prediction/data/hungary_chickenpox.csv')\n",
    "county_edge_df = pd.read_csv('/home/teofilo_acholla_ligawa_gafna/Documents/hamoye/mlops/projects/chicken_pox_case_count_prediction/data/hungary_county_edges.csv')\n",
    "\n",
    "# Preview chickenpox_df - 1st 5 rows\n",
    "chickenpox_df.head()"
   ]
  },
  {
   "cell_type": "code",
   "execution_count": 15,
   "id": "22c899a6",
   "metadata": {},
   "outputs": [
    {
     "data": {
      "text/html": [
       "<div>\n",
       "<style scoped>\n",
       "    .dataframe tbody tr th:only-of-type {\n",
       "        vertical-align: middle;\n",
       "    }\n",
       "\n",
       "    .dataframe tbody tr th {\n",
       "        vertical-align: top;\n",
       "    }\n",
       "\n",
       "    .dataframe thead th {\n",
       "        text-align: right;\n",
       "    }\n",
       "</style>\n",
       "<table border=\"1\" class=\"dataframe\">\n",
       "  <thead>\n",
       "    <tr style=\"text-align: right;\">\n",
       "      <th></th>\n",
       "      <th>Date</th>\n",
       "      <th>BUDAPEST</th>\n",
       "      <th>BARANYA</th>\n",
       "      <th>BACS</th>\n",
       "      <th>BEKES</th>\n",
       "      <th>BORSOD</th>\n",
       "      <th>CSONGRAD</th>\n",
       "      <th>FEJER</th>\n",
       "      <th>GYOR</th>\n",
       "      <th>HAJDU</th>\n",
       "      <th>...</th>\n",
       "      <th>JASZ</th>\n",
       "      <th>KOMAROM</th>\n",
       "      <th>NOGRAD</th>\n",
       "      <th>PEST</th>\n",
       "      <th>SOMOGY</th>\n",
       "      <th>SZABOLCS</th>\n",
       "      <th>TOLNA</th>\n",
       "      <th>VAS</th>\n",
       "      <th>VESZPREM</th>\n",
       "      <th>ZALA</th>\n",
       "    </tr>\n",
       "  </thead>\n",
       "  <tbody>\n",
       "    <tr>\n",
       "      <th>517</th>\n",
       "      <td>01/12/2014</td>\n",
       "      <td>95</td>\n",
       "      <td>12</td>\n",
       "      <td>41</td>\n",
       "      <td>6</td>\n",
       "      <td>39</td>\n",
       "      <td>0</td>\n",
       "      <td>16</td>\n",
       "      <td>15</td>\n",
       "      <td>14</td>\n",
       "      <td>...</td>\n",
       "      <td>56</td>\n",
       "      <td>7</td>\n",
       "      <td>13</td>\n",
       "      <td>122</td>\n",
       "      <td>4</td>\n",
       "      <td>23</td>\n",
       "      <td>4</td>\n",
       "      <td>11</td>\n",
       "      <td>110</td>\n",
       "      <td>10</td>\n",
       "    </tr>\n",
       "    <tr>\n",
       "      <th>518</th>\n",
       "      <td>08/12/2014</td>\n",
       "      <td>43</td>\n",
       "      <td>39</td>\n",
       "      <td>31</td>\n",
       "      <td>10</td>\n",
       "      <td>34</td>\n",
       "      <td>3</td>\n",
       "      <td>2</td>\n",
       "      <td>30</td>\n",
       "      <td>25</td>\n",
       "      <td>...</td>\n",
       "      <td>34</td>\n",
       "      <td>20</td>\n",
       "      <td>18</td>\n",
       "      <td>70</td>\n",
       "      <td>36</td>\n",
       "      <td>5</td>\n",
       "      <td>23</td>\n",
       "      <td>22</td>\n",
       "      <td>63</td>\n",
       "      <td>9</td>\n",
       "    </tr>\n",
       "    <tr>\n",
       "      <th>519</th>\n",
       "      <td>15/12/2014</td>\n",
       "      <td>35</td>\n",
       "      <td>7</td>\n",
       "      <td>15</td>\n",
       "      <td>0</td>\n",
       "      <td>0</td>\n",
       "      <td>0</td>\n",
       "      <td>7</td>\n",
       "      <td>7</td>\n",
       "      <td>4</td>\n",
       "      <td>...</td>\n",
       "      <td>30</td>\n",
       "      <td>36</td>\n",
       "      <td>4</td>\n",
       "      <td>72</td>\n",
       "      <td>5</td>\n",
       "      <td>21</td>\n",
       "      <td>14</td>\n",
       "      <td>0</td>\n",
       "      <td>17</td>\n",
       "      <td>10</td>\n",
       "    </tr>\n",
       "    <tr>\n",
       "      <th>520</th>\n",
       "      <td>22/12/2014</td>\n",
       "      <td>30</td>\n",
       "      <td>23</td>\n",
       "      <td>8</td>\n",
       "      <td>0</td>\n",
       "      <td>11</td>\n",
       "      <td>4</td>\n",
       "      <td>1</td>\n",
       "      <td>9</td>\n",
       "      <td>10</td>\n",
       "      <td>...</td>\n",
       "      <td>27</td>\n",
       "      <td>17</td>\n",
       "      <td>21</td>\n",
       "      <td>12</td>\n",
       "      <td>5</td>\n",
       "      <td>17</td>\n",
       "      <td>1</td>\n",
       "      <td>1</td>\n",
       "      <td>83</td>\n",
       "      <td>2</td>\n",
       "    </tr>\n",
       "    <tr>\n",
       "      <th>521</th>\n",
       "      <td>29/12/2014</td>\n",
       "      <td>259</td>\n",
       "      <td>42</td>\n",
       "      <td>49</td>\n",
       "      <td>32</td>\n",
       "      <td>38</td>\n",
       "      <td>15</td>\n",
       "      <td>11</td>\n",
       "      <td>98</td>\n",
       "      <td>61</td>\n",
       "      <td>...</td>\n",
       "      <td>112</td>\n",
       "      <td>61</td>\n",
       "      <td>53</td>\n",
       "      <td>256</td>\n",
       "      <td>45</td>\n",
       "      <td>39</td>\n",
       "      <td>27</td>\n",
       "      <td>11</td>\n",
       "      <td>103</td>\n",
       "      <td>25</td>\n",
       "    </tr>\n",
       "  </tbody>\n",
       "</table>\n",
       "<p>5 rows × 21 columns</p>\n",
       "</div>"
      ],
      "text/plain": [
       "           Date  BUDAPEST  BARANYA  BACS  BEKES  BORSOD  CSONGRAD  FEJER  \\\n",
       "517  01/12/2014        95       12    41      6      39         0     16   \n",
       "518  08/12/2014        43       39    31     10      34         3      2   \n",
       "519  15/12/2014        35        7    15      0       0         0      7   \n",
       "520  22/12/2014        30       23     8      0      11         4      1   \n",
       "521  29/12/2014       259       42    49     32      38        15     11   \n",
       "\n",
       "     GYOR  HAJDU  ...  JASZ  KOMAROM  NOGRAD  PEST  SOMOGY  SZABOLCS  TOLNA  \\\n",
       "517    15     14  ...    56        7      13   122       4        23      4   \n",
       "518    30     25  ...    34       20      18    70      36         5     23   \n",
       "519     7      4  ...    30       36       4    72       5        21     14   \n",
       "520     9     10  ...    27       17      21    12       5        17      1   \n",
       "521    98     61  ...   112       61      53   256      45        39     27   \n",
       "\n",
       "     VAS  VESZPREM  ZALA  \n",
       "517   11       110    10  \n",
       "518   22        63     9  \n",
       "519    0        17    10  \n",
       "520    1        83     2  \n",
       "521   11       103    25  \n",
       "\n",
       "[5 rows x 21 columns]"
      ]
     },
     "execution_count": 15,
     "metadata": {},
     "output_type": "execute_result"
    }
   ],
   "source": [
    "# Preview chickenpox_df - last 5 rows\n",
    "chickenpox_df.tail()"
   ]
  },
  {
   "cell_type": "code",
   "execution_count": 16,
   "id": "356bb832",
   "metadata": {},
   "outputs": [
    {
     "name": "stdout",
     "output_type": "stream",
     "text": [
      "<class 'pandas.core.frame.DataFrame'>\n",
      "RangeIndex: 522 entries, 0 to 521\n",
      "Data columns (total 21 columns):\n",
      " #   Column    Non-Null Count  Dtype \n",
      "---  ------    --------------  ----- \n",
      " 0   Date      522 non-null    object\n",
      " 1   BUDAPEST  522 non-null    int64 \n",
      " 2   BARANYA   522 non-null    int64 \n",
      " 3   BACS      522 non-null    int64 \n",
      " 4   BEKES     522 non-null    int64 \n",
      " 5   BORSOD    522 non-null    int64 \n",
      " 6   CSONGRAD  522 non-null    int64 \n",
      " 7   FEJER     522 non-null    int64 \n",
      " 8   GYOR      522 non-null    int64 \n",
      " 9   HAJDU     522 non-null    int64 \n",
      " 10  HEVES     522 non-null    int64 \n",
      " 11  JASZ      522 non-null    int64 \n",
      " 12  KOMAROM   522 non-null    int64 \n",
      " 13  NOGRAD    522 non-null    int64 \n",
      " 14  PEST      522 non-null    int64 \n",
      " 15  SOMOGY    522 non-null    int64 \n",
      " 16  SZABOLCS  522 non-null    int64 \n",
      " 17  TOLNA     522 non-null    int64 \n",
      " 18  VAS       522 non-null    int64 \n",
      " 19  VESZPREM  522 non-null    int64 \n",
      " 20  ZALA      522 non-null    int64 \n",
      "dtypes: int64(20), object(1)\n",
      "memory usage: 85.8+ KB\n"
     ]
    },
    {
     "data": {
      "text/plain": [
       "{'Dimensions': 'This data set has 522 rows and 21 columns',\n",
       " 'Duplicates': 'The data has 0 duplicated entries and 522 non duplicated entries',\n",
       " 'Missing values (%)': '0.0 % of the data has missing values',\n",
       " 'Summary statistics':           count        mean        std  min    25%   50%     75%    max\n",
       " BUDAPEST  522.0  101.245211  76.354872  0.0  34.25  93.0  149.00  479.0\n",
       " BARANYA   522.0   34.204981  32.567222  0.0   8.00  25.0   51.00  194.0\n",
       " BACS      522.0   37.166667  36.843095  0.0   8.00  29.5   53.00  274.0\n",
       " BEKES     522.0   28.911877  37.618092  0.0   4.00  14.0   38.75  271.0\n",
       " BORSOD    522.0   57.082375  50.725437  0.0  14.25  46.5   83.75  355.0\n",
       " CSONGRAD  522.0   31.488506  33.790208  0.0   6.00  20.5   47.00  199.0\n",
       " FEJER     522.0   33.272031  31.397989  0.0   7.00  24.0   51.75  164.0\n",
       " GYOR      522.0   41.436782  36.014297  0.0   9.00  35.0   63.00  181.0\n",
       " HAJDU     522.0   47.097701  44.610836  0.0  11.00  37.0   68.00  262.0\n",
       " HEVES     522.0   29.691571  31.857750  0.0   6.25  21.0   41.00  210.0\n",
       " JASZ      522.0   40.869732  37.283299  0.0  10.00  31.0   61.75  224.0\n",
       " KOMAROM   522.0   25.643678  24.467995  0.0   6.00  19.0   39.00  160.0\n",
       " NOGRAD    522.0   21.850575  22.025999  0.0   4.00  15.0   32.75  112.0\n",
       " PEST      522.0   86.101533  66.773741  0.0  28.25  81.0  129.75  431.0\n",
       " SOMOGY    522.0   27.609195  26.724236  0.0   6.00  20.5   41.00  155.0\n",
       " SZABOLCS  522.0   29.854406  31.814630  0.0   6.00  18.5   45.00  203.0\n",
       " TOLNA     522.0   20.352490  23.273025  0.0   4.00  12.0   29.00  131.0\n",
       " VAS       522.0   22.467433  25.006638  0.0   3.00  13.0   34.00  141.0\n",
       " VESZPREM  522.0   40.636015  40.699471  0.0   7.25  32.0   59.00  230.0\n",
       " ZALA      522.0   19.873563  21.999636  0.0   4.00  13.0   31.00  216.0,\n",
       " 'Info (printed above)': None}"
      ]
     },
     "execution_count": 16,
     "metadata": {},
     "output_type": "execute_result"
    }
   ],
   "source": [
    "# An object of class understand\n",
    "understand_pox = Understand(chickenpox_df)\n",
    "\n",
    "# Inspecting the chickenpox_df\n",
    "understand_pox.inspect_df()"
   ]
  },
  {
   "cell_type": "code",
   "execution_count": 17,
   "id": "0ccadc1b",
   "metadata": {},
   "outputs": [
    {
     "data": {
      "text/html": [
       "<div>\n",
       "<style scoped>\n",
       "    .dataframe tbody tr th:only-of-type {\n",
       "        vertical-align: middle;\n",
       "    }\n",
       "\n",
       "    .dataframe tbody tr th {\n",
       "        vertical-align: top;\n",
       "    }\n",
       "\n",
       "    .dataframe thead th {\n",
       "        text-align: right;\n",
       "    }\n",
       "</style>\n",
       "<table border=\"1\" class=\"dataframe\">\n",
       "  <thead>\n",
       "    <tr style=\"text-align: right;\">\n",
       "      <th></th>\n",
       "      <th>name_1</th>\n",
       "      <th>name_2</th>\n",
       "      <th>id_1</th>\n",
       "      <th>id_2</th>\n",
       "    </tr>\n",
       "  </thead>\n",
       "  <tbody>\n",
       "    <tr>\n",
       "      <th>0</th>\n",
       "      <td>BACS</td>\n",
       "      <td>JASZ</td>\n",
       "      <td>0</td>\n",
       "      <td>10</td>\n",
       "    </tr>\n",
       "    <tr>\n",
       "      <th>1</th>\n",
       "      <td>BACS</td>\n",
       "      <td>BACS</td>\n",
       "      <td>0</td>\n",
       "      <td>0</td>\n",
       "    </tr>\n",
       "    <tr>\n",
       "      <th>2</th>\n",
       "      <td>BACS</td>\n",
       "      <td>BARANYA</td>\n",
       "      <td>0</td>\n",
       "      <td>1</td>\n",
       "    </tr>\n",
       "    <tr>\n",
       "      <th>3</th>\n",
       "      <td>BACS</td>\n",
       "      <td>CSONGRAD</td>\n",
       "      <td>0</td>\n",
       "      <td>5</td>\n",
       "    </tr>\n",
       "    <tr>\n",
       "      <th>4</th>\n",
       "      <td>BACS</td>\n",
       "      <td>PEST</td>\n",
       "      <td>0</td>\n",
       "      <td>13</td>\n",
       "    </tr>\n",
       "  </tbody>\n",
       "</table>\n",
       "</div>"
      ],
      "text/plain": [
       "  name_1    name_2  id_1  id_2\n",
       "0   BACS      JASZ     0    10\n",
       "1   BACS      BACS     0     0\n",
       "2   BACS   BARANYA     0     1\n",
       "3   BACS  CSONGRAD     0     5\n",
       "4   BACS      PEST     0    13"
      ]
     },
     "execution_count": 17,
     "metadata": {},
     "output_type": "execute_result"
    }
   ],
   "source": [
    "# Preview county edges\n",
    "county_edge_df.head()"
   ]
  },
  {
   "cell_type": "code",
   "execution_count": 18,
   "id": "48ee4dbe",
   "metadata": {},
   "outputs": [
    {
     "data": {
      "text/html": [
       "<div>\n",
       "<style scoped>\n",
       "    .dataframe tbody tr th:only-of-type {\n",
       "        vertical-align: middle;\n",
       "    }\n",
       "\n",
       "    .dataframe tbody tr th {\n",
       "        vertical-align: top;\n",
       "    }\n",
       "\n",
       "    .dataframe thead th {\n",
       "        text-align: right;\n",
       "    }\n",
       "</style>\n",
       "<table border=\"1\" class=\"dataframe\">\n",
       "  <thead>\n",
       "    <tr style=\"text-align: right;\">\n",
       "      <th></th>\n",
       "      <th>name_1</th>\n",
       "      <th>name_2</th>\n",
       "      <th>id_1</th>\n",
       "      <th>id_2</th>\n",
       "    </tr>\n",
       "  </thead>\n",
       "  <tbody>\n",
       "    <tr>\n",
       "      <th>97</th>\n",
       "      <td>VESZPREM</td>\n",
       "      <td>SOMOGY</td>\n",
       "      <td>18</td>\n",
       "      <td>14</td>\n",
       "    </tr>\n",
       "    <tr>\n",
       "      <th>98</th>\n",
       "      <td>ZALA</td>\n",
       "      <td>VAS</td>\n",
       "      <td>19</td>\n",
       "      <td>17</td>\n",
       "    </tr>\n",
       "    <tr>\n",
       "      <th>99</th>\n",
       "      <td>ZALA</td>\n",
       "      <td>ZALA</td>\n",
       "      <td>19</td>\n",
       "      <td>19</td>\n",
       "    </tr>\n",
       "    <tr>\n",
       "      <th>100</th>\n",
       "      <td>ZALA</td>\n",
       "      <td>SOMOGY</td>\n",
       "      <td>19</td>\n",
       "      <td>14</td>\n",
       "    </tr>\n",
       "    <tr>\n",
       "      <th>101</th>\n",
       "      <td>ZALA</td>\n",
       "      <td>VESZPREM</td>\n",
       "      <td>19</td>\n",
       "      <td>18</td>\n",
       "    </tr>\n",
       "  </tbody>\n",
       "</table>\n",
       "</div>"
      ],
      "text/plain": [
       "       name_1    name_2  id_1  id_2\n",
       "97   VESZPREM    SOMOGY    18    14\n",
       "98       ZALA       VAS    19    17\n",
       "99       ZALA      ZALA    19    19\n",
       "100      ZALA    SOMOGY    19    14\n",
       "101      ZALA  VESZPREM    19    18"
      ]
     },
     "execution_count": 18,
     "metadata": {},
     "output_type": "execute_result"
    }
   ],
   "source": [
    "# Last 5 rows\n",
    "county_edge_df.tail()"
   ]
  },
  {
   "cell_type": "code",
   "execution_count": 19,
   "id": "b7c20330",
   "metadata": {},
   "outputs": [
    {
     "name": "stdout",
     "output_type": "stream",
     "text": [
      "<class 'pandas.core.frame.DataFrame'>\n",
      "RangeIndex: 102 entries, 0 to 101\n",
      "Data columns (total 4 columns):\n",
      " #   Column  Non-Null Count  Dtype \n",
      "---  ------  --------------  ----- \n",
      " 0   name_1  102 non-null    object\n",
      " 1   name_2  102 non-null    object\n",
      " 2   id_1    102 non-null    int64 \n",
      " 3   id_2    102 non-null    int64 \n",
      "dtypes: int64(2), object(2)\n",
      "memory usage: 3.3+ KB\n"
     ]
    },
    {
     "data": {
      "text/plain": [
       "{'Dimensions': 'This data set has 102 rows and 4 columns',\n",
       " 'Duplicates': 'The data has 0 duplicated entries and 102 non duplicated entries',\n",
       " 'Missing values (%)': '0.0 % of the data has missing values',\n",
       " 'Summary statistics':       count      mean       std  min  25%   50%   75%   max\n",
       " id_1  102.0  9.598039  5.728615  0.0  5.0  10.0  14.0  19.0\n",
       " id_2  102.0  9.598039  5.728615  0.0  5.0  10.0  14.0  19.0,\n",
       " 'Info (printed above)': None}"
      ]
     },
     "execution_count": 19,
     "metadata": {},
     "output_type": "execute_result"
    }
   ],
   "source": [
    "# object of class Understand\n",
    "understand_county = Understand(county_edge_df)\n",
    "\n",
    "# Inspect the data frame\n",
    "understand_county.inspect_df()"
   ]
  },
  {
   "attachments": {},
   "cell_type": "markdown",
   "id": "af497db7",
   "metadata": {},
   "source": [
    "#### Observations:\n",
    "* There are no missing values in this data\n",
    "* **chickenpox_df** contains continuous data while **county_edge_df** contains discrete data.\n",
    "* The data is a time series arranged weekly.\n",
    "* The minimum value of case counts for each county is 0 and the maximum value varies\n",
    "* The counties with the highest mean count during the duration between 2005 and 2015 is Budapest and Pest - this may be attributed to high population.\n",
    "* All the columns in **chickenpox_df** with the exception of the `date` column represent counties in Hungary.\n",
    "* County codes are consistent with the official Hungarian statistics (https://www.ksh.hu/?lang=en).\n"
   ]
  },
  {
   "attachments": {},
   "cell_type": "markdown",
   "id": "68b34200",
   "metadata": {},
   "source": [
    "# Data Preparation\n",
    "> Since most of the aspects of the data such as validity, uniformity, consistency and completeness look okay, we shall mostly be doing feature engineering."
   ]
  },
  {
   "cell_type": "code",
   "execution_count": 20,
   "id": "167b4858",
   "metadata": {},
   "outputs": [
    {
     "name": "stdout",
     "output_type": "stream",
     "text": [
      "Column: Date\n",
      "Data type: object\n",
      "Number of unique values: 522\n",
      "--------\n",
      "Column: BUDAPEST\n",
      "Data type: int64\n",
      "Number of unique values: 217\n",
      "--------\n",
      "Column: BARANYA\n",
      "Data type: int64\n",
      "Number of unique values: 114\n",
      "--------\n",
      "Column: BACS\n",
      "Data type: int64\n",
      "Number of unique values: 120\n",
      "--------\n",
      "Column: BEKES\n",
      "Data type: int64\n",
      "Number of unique values: 110\n",
      "--------\n",
      "Column: BORSOD\n",
      "Data type: int64\n",
      "Number of unique values: 160\n",
      "--------\n",
      "Column: CSONGRAD\n",
      "Data type: int64\n",
      "Number of unique values: 113\n",
      "--------\n",
      "Column: FEJER\n",
      "Data type: int64\n",
      "Number of unique values: 110\n",
      "--------\n",
      "Column: GYOR\n",
      "Data type: int64\n",
      "Number of unique values: 123\n",
      "--------\n",
      "Column: HAJDU\n",
      "Data type: int64\n",
      "Number of unique values: 140\n",
      "--------\n",
      "Column: HEVES\n",
      "Data type: int64\n",
      "Number of unique values: 105\n",
      "--------\n",
      "Column: JASZ\n",
      "Data type: int64\n",
      "Number of unique values: 126\n",
      "--------\n",
      "Column: KOMAROM\n",
      "Data type: int64\n",
      "Number of unique values: 86\n",
      "--------\n",
      "Column: NOGRAD\n",
      "Data type: int64\n",
      "Number of unique values: 82\n",
      "--------\n",
      "Column: PEST\n",
      "Data type: int64\n",
      "Number of unique values: 196\n",
      "--------\n",
      "Column: SOMOGY\n",
      "Data type: int64\n",
      "Number of unique values: 96\n",
      "--------\n",
      "Column: SZABOLCS\n",
      "Data type: int64\n",
      "Number of unique values: 104\n",
      "--------\n",
      "Column: TOLNA\n",
      "Data type: int64\n",
      "Number of unique values: 83\n",
      "--------\n",
      "Column: VAS\n",
      "Data type: int64\n",
      "Number of unique values: 90\n",
      "--------\n",
      "Column: VESZPREM\n",
      "Data type: int64\n",
      "Number of unique values: 128\n",
      "--------\n",
      "Column: ZALA\n",
      "Data type: int64\n",
      "Number of unique values: 80\n",
      "--------\n"
     ]
    }
   ],
   "source": [
    "# Looping through each column in chickenpox_df to show the distribution of values in each of the columns\n",
    "for col in chickenpox_df.columns:\n",
    "    print(f\"Column: {col}\")\n",
    "    print(f\"Data type: {chickenpox_df[col].dtype}\")\n",
    "    print(f\"Number of unique values: {chickenpox_df[col].nunique()}\")\n",
    "    print(\"--------\")"
   ]
  },
  {
   "cell_type": "code",
   "execution_count": 21,
   "id": "36d19364",
   "metadata": {},
   "outputs": [
    {
     "name": "stdout",
     "output_type": "stream",
     "text": [
      "Column: name_1\n",
      "Data type: object\n",
      "Number of unique values: 20\n",
      "--------\n",
      "Column: name_2\n",
      "Data type: object\n",
      "Number of unique values: 20\n",
      "--------\n",
      "Column: id_1\n",
      "Data type: int64\n",
      "Number of unique values: 20\n",
      "--------\n",
      "Column: id_2\n",
      "Data type: int64\n",
      "Number of unique values: 20\n",
      "--------\n"
     ]
    }
   ],
   "source": [
    "# Looping through each column in county_edge_df to show the distribution of values in each of the columns\n",
    "for col in county_edge_df.columns:\n",
    "    print(f\"Column: {col}\")\n",
    "    print(f\"Data type: {county_edge_df[col].dtype}\")\n",
    "    print(f\"Number of unique values: {county_edge_df[col].nunique()}\")\n",
    "    print(\"--------\")"
   ]
  },
  {
   "cell_type": "code",
   "execution_count": 22,
   "id": "bffde9c1",
   "metadata": {},
   "outputs": [],
   "source": [
    "# # Create a copy of the chickenpox_df to store the new interaction columns\n",
    "# interaction_df = chickenpox_df.copy()\n",
    "\n",
    "# # Loop through each county in name_1 column of county_edge_df\n",
    "# for county in county_edge_df['name_1']:\n",
    "#     # Find the corresponding county name in name_2 column\n",
    "#     corresponding_county = county_edge_df.loc[county_edge_df['name_1'] == county, 'name_2'].values[0]\n",
    "    \n",
    "#     # Calculate the sum of weekly chickenpox counts for the two counties\n",
    "#     interaction_df[f'{county}_{corresponding_county}_Interaction'] = chickenpox_df[county] + chickenpox_df[corresponding_county]\n",
    "\n",
    "# # Print the updated interaction_df with the new interaction columns\n",
    "# interaction_df"
   ]
  },
  {
   "attachments": {},
   "cell_type": "markdown",
   "id": "29449c32",
   "metadata": {},
   "source": [
    "## Feature Engineering"
   ]
  },
  {
   "attachments": {},
   "cell_type": "markdown",
   "id": "1f76a644",
   "metadata": {},
   "source": [
    "### National Total Case count per day\n",
    "> Summing up the daily case count of each county to get the national total per day"
   ]
  },
  {
   "cell_type": "code",
   "execution_count": 23,
   "id": "2c8feb34",
   "metadata": {},
   "outputs": [
    {
     "data": {
      "text/html": [
       "<div>\n",
       "<style scoped>\n",
       "    .dataframe tbody tr th:only-of-type {\n",
       "        vertical-align: middle;\n",
       "    }\n",
       "\n",
       "    .dataframe tbody tr th {\n",
       "        vertical-align: top;\n",
       "    }\n",
       "\n",
       "    .dataframe thead th {\n",
       "        text-align: right;\n",
       "    }\n",
       "</style>\n",
       "<table border=\"1\" class=\"dataframe\">\n",
       "  <thead>\n",
       "    <tr style=\"text-align: right;\">\n",
       "      <th></th>\n",
       "      <th>Date</th>\n",
       "      <th>BUDAPEST</th>\n",
       "      <th>BARANYA</th>\n",
       "      <th>BACS</th>\n",
       "      <th>BEKES</th>\n",
       "      <th>BORSOD</th>\n",
       "      <th>CSONGRAD</th>\n",
       "      <th>FEJER</th>\n",
       "      <th>GYOR</th>\n",
       "      <th>HAJDU</th>\n",
       "      <th>...</th>\n",
       "      <th>KOMAROM</th>\n",
       "      <th>NOGRAD</th>\n",
       "      <th>PEST</th>\n",
       "      <th>SOMOGY</th>\n",
       "      <th>SZABOLCS</th>\n",
       "      <th>TOLNA</th>\n",
       "      <th>VAS</th>\n",
       "      <th>VESZPREM</th>\n",
       "      <th>ZALA</th>\n",
       "      <th>National_Total</th>\n",
       "    </tr>\n",
       "  </thead>\n",
       "  <tbody>\n",
       "    <tr>\n",
       "      <th>0</th>\n",
       "      <td>03/01/2005</td>\n",
       "      <td>168</td>\n",
       "      <td>79</td>\n",
       "      <td>30</td>\n",
       "      <td>173</td>\n",
       "      <td>169</td>\n",
       "      <td>42</td>\n",
       "      <td>136</td>\n",
       "      <td>120</td>\n",
       "      <td>162</td>\n",
       "      <td>...</td>\n",
       "      <td>57</td>\n",
       "      <td>2</td>\n",
       "      <td>178</td>\n",
       "      <td>66</td>\n",
       "      <td>64</td>\n",
       "      <td>11</td>\n",
       "      <td>29</td>\n",
       "      <td>87</td>\n",
       "      <td>68</td>\n",
       "      <td>1807</td>\n",
       "    </tr>\n",
       "    <tr>\n",
       "      <th>1</th>\n",
       "      <td>10/01/2005</td>\n",
       "      <td>157</td>\n",
       "      <td>60</td>\n",
       "      <td>30</td>\n",
       "      <td>92</td>\n",
       "      <td>200</td>\n",
       "      <td>53</td>\n",
       "      <td>51</td>\n",
       "      <td>70</td>\n",
       "      <td>84</td>\n",
       "      <td>...</td>\n",
       "      <td>50</td>\n",
       "      <td>29</td>\n",
       "      <td>141</td>\n",
       "      <td>48</td>\n",
       "      <td>29</td>\n",
       "      <td>58</td>\n",
       "      <td>53</td>\n",
       "      <td>68</td>\n",
       "      <td>26</td>\n",
       "      <td>1407</td>\n",
       "    </tr>\n",
       "    <tr>\n",
       "      <th>2</th>\n",
       "      <td>17/01/2005</td>\n",
       "      <td>96</td>\n",
       "      <td>44</td>\n",
       "      <td>31</td>\n",
       "      <td>86</td>\n",
       "      <td>93</td>\n",
       "      <td>30</td>\n",
       "      <td>93</td>\n",
       "      <td>84</td>\n",
       "      <td>191</td>\n",
       "      <td>...</td>\n",
       "      <td>46</td>\n",
       "      <td>4</td>\n",
       "      <td>157</td>\n",
       "      <td>33</td>\n",
       "      <td>33</td>\n",
       "      <td>24</td>\n",
       "      <td>18</td>\n",
       "      <td>62</td>\n",
       "      <td>44</td>\n",
       "      <td>1284</td>\n",
       "    </tr>\n",
       "    <tr>\n",
       "      <th>3</th>\n",
       "      <td>24/01/2005</td>\n",
       "      <td>163</td>\n",
       "      <td>49</td>\n",
       "      <td>43</td>\n",
       "      <td>126</td>\n",
       "      <td>46</td>\n",
       "      <td>39</td>\n",
       "      <td>52</td>\n",
       "      <td>114</td>\n",
       "      <td>107</td>\n",
       "      <td>...</td>\n",
       "      <td>54</td>\n",
       "      <td>14</td>\n",
       "      <td>107</td>\n",
       "      <td>66</td>\n",
       "      <td>50</td>\n",
       "      <td>25</td>\n",
       "      <td>21</td>\n",
       "      <td>43</td>\n",
       "      <td>31</td>\n",
       "      <td>1255</td>\n",
       "    </tr>\n",
       "    <tr>\n",
       "      <th>4</th>\n",
       "      <td>31/01/2005</td>\n",
       "      <td>122</td>\n",
       "      <td>78</td>\n",
       "      <td>53</td>\n",
       "      <td>87</td>\n",
       "      <td>103</td>\n",
       "      <td>34</td>\n",
       "      <td>95</td>\n",
       "      <td>131</td>\n",
       "      <td>172</td>\n",
       "      <td>...</td>\n",
       "      <td>49</td>\n",
       "      <td>11</td>\n",
       "      <td>124</td>\n",
       "      <td>63</td>\n",
       "      <td>56</td>\n",
       "      <td>7</td>\n",
       "      <td>47</td>\n",
       "      <td>85</td>\n",
       "      <td>60</td>\n",
       "      <td>1478</td>\n",
       "    </tr>\n",
       "    <tr>\n",
       "      <th>...</th>\n",
       "      <td>...</td>\n",
       "      <td>...</td>\n",
       "      <td>...</td>\n",
       "      <td>...</td>\n",
       "      <td>...</td>\n",
       "      <td>...</td>\n",
       "      <td>...</td>\n",
       "      <td>...</td>\n",
       "      <td>...</td>\n",
       "      <td>...</td>\n",
       "      <td>...</td>\n",
       "      <td>...</td>\n",
       "      <td>...</td>\n",
       "      <td>...</td>\n",
       "      <td>...</td>\n",
       "      <td>...</td>\n",
       "      <td>...</td>\n",
       "      <td>...</td>\n",
       "      <td>...</td>\n",
       "      <td>...</td>\n",
       "      <td>...</td>\n",
       "    </tr>\n",
       "    <tr>\n",
       "      <th>517</th>\n",
       "      <td>01/12/2014</td>\n",
       "      <td>95</td>\n",
       "      <td>12</td>\n",
       "      <td>41</td>\n",
       "      <td>6</td>\n",
       "      <td>39</td>\n",
       "      <td>0</td>\n",
       "      <td>16</td>\n",
       "      <td>15</td>\n",
       "      <td>14</td>\n",
       "      <td>...</td>\n",
       "      <td>7</td>\n",
       "      <td>13</td>\n",
       "      <td>122</td>\n",
       "      <td>4</td>\n",
       "      <td>23</td>\n",
       "      <td>4</td>\n",
       "      <td>11</td>\n",
       "      <td>110</td>\n",
       "      <td>10</td>\n",
       "      <td>608</td>\n",
       "    </tr>\n",
       "    <tr>\n",
       "      <th>518</th>\n",
       "      <td>08/12/2014</td>\n",
       "      <td>43</td>\n",
       "      <td>39</td>\n",
       "      <td>31</td>\n",
       "      <td>10</td>\n",
       "      <td>34</td>\n",
       "      <td>3</td>\n",
       "      <td>2</td>\n",
       "      <td>30</td>\n",
       "      <td>25</td>\n",
       "      <td>...</td>\n",
       "      <td>20</td>\n",
       "      <td>18</td>\n",
       "      <td>70</td>\n",
       "      <td>36</td>\n",
       "      <td>5</td>\n",
       "      <td>23</td>\n",
       "      <td>22</td>\n",
       "      <td>63</td>\n",
       "      <td>9</td>\n",
       "      <td>536</td>\n",
       "    </tr>\n",
       "    <tr>\n",
       "      <th>519</th>\n",
       "      <td>15/12/2014</td>\n",
       "      <td>35</td>\n",
       "      <td>7</td>\n",
       "      <td>15</td>\n",
       "      <td>0</td>\n",
       "      <td>0</td>\n",
       "      <td>0</td>\n",
       "      <td>7</td>\n",
       "      <td>7</td>\n",
       "      <td>4</td>\n",
       "      <td>...</td>\n",
       "      <td>36</td>\n",
       "      <td>4</td>\n",
       "      <td>72</td>\n",
       "      <td>5</td>\n",
       "      <td>21</td>\n",
       "      <td>14</td>\n",
       "      <td>0</td>\n",
       "      <td>17</td>\n",
       "      <td>10</td>\n",
       "      <td>286</td>\n",
       "    </tr>\n",
       "    <tr>\n",
       "      <th>520</th>\n",
       "      <td>22/12/2014</td>\n",
       "      <td>30</td>\n",
       "      <td>23</td>\n",
       "      <td>8</td>\n",
       "      <td>0</td>\n",
       "      <td>11</td>\n",
       "      <td>4</td>\n",
       "      <td>1</td>\n",
       "      <td>9</td>\n",
       "      <td>10</td>\n",
       "      <td>...</td>\n",
       "      <td>17</td>\n",
       "      <td>21</td>\n",
       "      <td>12</td>\n",
       "      <td>5</td>\n",
       "      <td>17</td>\n",
       "      <td>1</td>\n",
       "      <td>1</td>\n",
       "      <td>83</td>\n",
       "      <td>2</td>\n",
       "      <td>299</td>\n",
       "    </tr>\n",
       "    <tr>\n",
       "      <th>521</th>\n",
       "      <td>29/12/2014</td>\n",
       "      <td>259</td>\n",
       "      <td>42</td>\n",
       "      <td>49</td>\n",
       "      <td>32</td>\n",
       "      <td>38</td>\n",
       "      <td>15</td>\n",
       "      <td>11</td>\n",
       "      <td>98</td>\n",
       "      <td>61</td>\n",
       "      <td>...</td>\n",
       "      <td>61</td>\n",
       "      <td>53</td>\n",
       "      <td>256</td>\n",
       "      <td>45</td>\n",
       "      <td>39</td>\n",
       "      <td>27</td>\n",
       "      <td>11</td>\n",
       "      <td>103</td>\n",
       "      <td>25</td>\n",
       "      <td>1375</td>\n",
       "    </tr>\n",
       "  </tbody>\n",
       "</table>\n",
       "<p>522 rows × 22 columns</p>\n",
       "</div>"
      ],
      "text/plain": [
       "           Date  BUDAPEST  BARANYA  BACS  BEKES  BORSOD  CSONGRAD  FEJER  \\\n",
       "0    03/01/2005       168       79    30    173     169        42    136   \n",
       "1    10/01/2005       157       60    30     92     200        53     51   \n",
       "2    17/01/2005        96       44    31     86      93        30     93   \n",
       "3    24/01/2005       163       49    43    126      46        39     52   \n",
       "4    31/01/2005       122       78    53     87     103        34     95   \n",
       "..          ...       ...      ...   ...    ...     ...       ...    ...   \n",
       "517  01/12/2014        95       12    41      6      39         0     16   \n",
       "518  08/12/2014        43       39    31     10      34         3      2   \n",
       "519  15/12/2014        35        7    15      0       0         0      7   \n",
       "520  22/12/2014        30       23     8      0      11         4      1   \n",
       "521  29/12/2014       259       42    49     32      38        15     11   \n",
       "\n",
       "     GYOR  HAJDU  ...  KOMAROM  NOGRAD  PEST  SOMOGY  SZABOLCS  TOLNA  VAS  \\\n",
       "0     120    162  ...       57       2   178      66        64     11   29   \n",
       "1      70     84  ...       50      29   141      48        29     58   53   \n",
       "2      84    191  ...       46       4   157      33        33     24   18   \n",
       "3     114    107  ...       54      14   107      66        50     25   21   \n",
       "4     131    172  ...       49      11   124      63        56      7   47   \n",
       "..    ...    ...  ...      ...     ...   ...     ...       ...    ...  ...   \n",
       "517    15     14  ...        7      13   122       4        23      4   11   \n",
       "518    30     25  ...       20      18    70      36         5     23   22   \n",
       "519     7      4  ...       36       4    72       5        21     14    0   \n",
       "520     9     10  ...       17      21    12       5        17      1    1   \n",
       "521    98     61  ...       61      53   256      45        39     27   11   \n",
       "\n",
       "     VESZPREM  ZALA  National_Total  \n",
       "0          87    68            1807  \n",
       "1          68    26            1407  \n",
       "2          62    44            1284  \n",
       "3          43    31            1255  \n",
       "4          85    60            1478  \n",
       "..        ...   ...             ...  \n",
       "517       110    10             608  \n",
       "518        63     9             536  \n",
       "519        17    10             286  \n",
       "520        83     2             299  \n",
       "521       103    25            1375  \n",
       "\n",
       "[522 rows x 22 columns]"
      ]
     },
     "execution_count": 23,
     "metadata": {},
     "output_type": "execute_result"
    }
   ],
   "source": [
    "# Calculate the daily national total\n",
    "chickenpox_df['National_Total'] = chickenpox_df.drop('Date', axis=1).apply(lambda row: row.sum(), axis=1)\n",
    "\n",
    "# Preview\n",
    "chickenpox_df"
   ]
  },
  {
   "cell_type": "code",
   "execution_count": 24,
   "id": "1d1a8dbe",
   "metadata": {},
   "outputs": [
    {
     "data": {
      "text/html": [
       "<div>\n",
       "<style scoped>\n",
       "    .dataframe tbody tr th:only-of-type {\n",
       "        vertical-align: middle;\n",
       "    }\n",
       "\n",
       "    .dataframe tbody tr th {\n",
       "        vertical-align: top;\n",
       "    }\n",
       "\n",
       "    .dataframe thead th {\n",
       "        text-align: right;\n",
       "    }\n",
       "</style>\n",
       "<table border=\"1\" class=\"dataframe\">\n",
       "  <thead>\n",
       "    <tr style=\"text-align: right;\">\n",
       "      <th></th>\n",
       "      <th>name_1</th>\n",
       "      <th>name_2</th>\n",
       "      <th>id_1</th>\n",
       "      <th>id_2</th>\n",
       "    </tr>\n",
       "  </thead>\n",
       "  <tbody>\n",
       "    <tr>\n",
       "      <th>0</th>\n",
       "      <td>BACS</td>\n",
       "      <td>JASZ</td>\n",
       "      <td>0</td>\n",
       "      <td>10</td>\n",
       "    </tr>\n",
       "    <tr>\n",
       "      <th>1</th>\n",
       "      <td>BACS</td>\n",
       "      <td>BACS</td>\n",
       "      <td>0</td>\n",
       "      <td>0</td>\n",
       "    </tr>\n",
       "    <tr>\n",
       "      <th>2</th>\n",
       "      <td>BACS</td>\n",
       "      <td>BARANYA</td>\n",
       "      <td>0</td>\n",
       "      <td>1</td>\n",
       "    </tr>\n",
       "    <tr>\n",
       "      <th>3</th>\n",
       "      <td>BACS</td>\n",
       "      <td>CSONGRAD</td>\n",
       "      <td>0</td>\n",
       "      <td>5</td>\n",
       "    </tr>\n",
       "    <tr>\n",
       "      <th>4</th>\n",
       "      <td>BACS</td>\n",
       "      <td>PEST</td>\n",
       "      <td>0</td>\n",
       "      <td>13</td>\n",
       "    </tr>\n",
       "    <tr>\n",
       "      <th>5</th>\n",
       "      <td>BACS</td>\n",
       "      <td>FEJER</td>\n",
       "      <td>0</td>\n",
       "      <td>6</td>\n",
       "    </tr>\n",
       "    <tr>\n",
       "      <th>6</th>\n",
       "      <td>BACS</td>\n",
       "      <td>TOLNA</td>\n",
       "      <td>0</td>\n",
       "      <td>16</td>\n",
       "    </tr>\n",
       "  </tbody>\n",
       "</table>\n",
       "</div>"
      ],
      "text/plain": [
       "  name_1    name_2  id_1  id_2\n",
       "0   BACS      JASZ     0    10\n",
       "1   BACS      BACS     0     0\n",
       "2   BACS   BARANYA     0     1\n",
       "3   BACS  CSONGRAD     0     5\n",
       "4   BACS      PEST     0    13\n",
       "5   BACS     FEJER     0     6\n",
       "6   BACS     TOLNA     0    16"
      ]
     },
     "execution_count": 24,
     "metadata": {},
     "output_type": "execute_result"
    }
   ],
   "source": [
    "county_edge_df.loc[county_edge_df['name_1'] == 'BACS']"
   ]
  },
  {
   "attachments": {},
   "cell_type": "markdown",
   "id": "d3fffa2b",
   "metadata": {},
   "source": [
    "### Interaction terms\n",
    "> Finding the counties that share a border and calculating the sum total of each interaction\n",
    "\n",
    "This is because we are trying to identify the spacial-temporal relationships in this data."
   ]
  },
  {
   "cell_type": "code",
   "execution_count": 25,
   "id": "1bfda6c4",
   "metadata": {},
   "outputs": [
    {
     "data": {
      "text/html": [
       "<div>\n",
       "<style scoped>\n",
       "    .dataframe tbody tr th:only-of-type {\n",
       "        vertical-align: middle;\n",
       "    }\n",
       "\n",
       "    .dataframe tbody tr th {\n",
       "        vertical-align: top;\n",
       "    }\n",
       "\n",
       "    .dataframe thead th {\n",
       "        text-align: right;\n",
       "    }\n",
       "</style>\n",
       "<table border=\"1\" class=\"dataframe\">\n",
       "  <thead>\n",
       "    <tr style=\"text-align: right;\">\n",
       "      <th></th>\n",
       "      <th>Date</th>\n",
       "      <th>BUDAPEST</th>\n",
       "      <th>BARANYA</th>\n",
       "      <th>BACS</th>\n",
       "      <th>BEKES</th>\n",
       "      <th>BORSOD</th>\n",
       "      <th>CSONGRAD</th>\n",
       "      <th>FEJER</th>\n",
       "      <th>GYOR</th>\n",
       "      <th>HAJDU</th>\n",
       "      <th>...</th>\n",
       "      <th>VAS_VESZPREM_Interaction</th>\n",
       "      <th>VESZPREM_KOMAROM_Interaction</th>\n",
       "      <th>VESZPREM_ZALA_Interaction</th>\n",
       "      <th>VESZPREM_GYOR_Interaction</th>\n",
       "      <th>VESZPREM_FEJER_Interaction</th>\n",
       "      <th>VESZPREM_VAS_Interaction</th>\n",
       "      <th>VESZPREM_SOMOGY_Interaction</th>\n",
       "      <th>ZALA_VAS_Interaction</th>\n",
       "      <th>ZALA_SOMOGY_Interaction</th>\n",
       "      <th>ZALA_VESZPREM_Interaction</th>\n",
       "    </tr>\n",
       "  </thead>\n",
       "  <tbody>\n",
       "    <tr>\n",
       "      <th>0</th>\n",
       "      <td>03/01/2005</td>\n",
       "      <td>168</td>\n",
       "      <td>79</td>\n",
       "      <td>30</td>\n",
       "      <td>173</td>\n",
       "      <td>169</td>\n",
       "      <td>42</td>\n",
       "      <td>136</td>\n",
       "      <td>120</td>\n",
       "      <td>162</td>\n",
       "      <td>...</td>\n",
       "      <td>116</td>\n",
       "      <td>144</td>\n",
       "      <td>155</td>\n",
       "      <td>207</td>\n",
       "      <td>223</td>\n",
       "      <td>116</td>\n",
       "      <td>153</td>\n",
       "      <td>97</td>\n",
       "      <td>134</td>\n",
       "      <td>155</td>\n",
       "    </tr>\n",
       "    <tr>\n",
       "      <th>1</th>\n",
       "      <td>10/01/2005</td>\n",
       "      <td>157</td>\n",
       "      <td>60</td>\n",
       "      <td>30</td>\n",
       "      <td>92</td>\n",
       "      <td>200</td>\n",
       "      <td>53</td>\n",
       "      <td>51</td>\n",
       "      <td>70</td>\n",
       "      <td>84</td>\n",
       "      <td>...</td>\n",
       "      <td>121</td>\n",
       "      <td>118</td>\n",
       "      <td>94</td>\n",
       "      <td>138</td>\n",
       "      <td>119</td>\n",
       "      <td>121</td>\n",
       "      <td>116</td>\n",
       "      <td>79</td>\n",
       "      <td>74</td>\n",
       "      <td>94</td>\n",
       "    </tr>\n",
       "    <tr>\n",
       "      <th>2</th>\n",
       "      <td>17/01/2005</td>\n",
       "      <td>96</td>\n",
       "      <td>44</td>\n",
       "      <td>31</td>\n",
       "      <td>86</td>\n",
       "      <td>93</td>\n",
       "      <td>30</td>\n",
       "      <td>93</td>\n",
       "      <td>84</td>\n",
       "      <td>191</td>\n",
       "      <td>...</td>\n",
       "      <td>80</td>\n",
       "      <td>108</td>\n",
       "      <td>106</td>\n",
       "      <td>146</td>\n",
       "      <td>155</td>\n",
       "      <td>80</td>\n",
       "      <td>95</td>\n",
       "      <td>62</td>\n",
       "      <td>77</td>\n",
       "      <td>106</td>\n",
       "    </tr>\n",
       "    <tr>\n",
       "      <th>3</th>\n",
       "      <td>24/01/2005</td>\n",
       "      <td>163</td>\n",
       "      <td>49</td>\n",
       "      <td>43</td>\n",
       "      <td>126</td>\n",
       "      <td>46</td>\n",
       "      <td>39</td>\n",
       "      <td>52</td>\n",
       "      <td>114</td>\n",
       "      <td>107</td>\n",
       "      <td>...</td>\n",
       "      <td>64</td>\n",
       "      <td>97</td>\n",
       "      <td>74</td>\n",
       "      <td>157</td>\n",
       "      <td>95</td>\n",
       "      <td>64</td>\n",
       "      <td>109</td>\n",
       "      <td>52</td>\n",
       "      <td>97</td>\n",
       "      <td>74</td>\n",
       "    </tr>\n",
       "    <tr>\n",
       "      <th>4</th>\n",
       "      <td>31/01/2005</td>\n",
       "      <td>122</td>\n",
       "      <td>78</td>\n",
       "      <td>53</td>\n",
       "      <td>87</td>\n",
       "      <td>103</td>\n",
       "      <td>34</td>\n",
       "      <td>95</td>\n",
       "      <td>131</td>\n",
       "      <td>172</td>\n",
       "      <td>...</td>\n",
       "      <td>132</td>\n",
       "      <td>134</td>\n",
       "      <td>145</td>\n",
       "      <td>216</td>\n",
       "      <td>180</td>\n",
       "      <td>132</td>\n",
       "      <td>148</td>\n",
       "      <td>107</td>\n",
       "      <td>123</td>\n",
       "      <td>145</td>\n",
       "    </tr>\n",
       "    <tr>\n",
       "      <th>...</th>\n",
       "      <td>...</td>\n",
       "      <td>...</td>\n",
       "      <td>...</td>\n",
       "      <td>...</td>\n",
       "      <td>...</td>\n",
       "      <td>...</td>\n",
       "      <td>...</td>\n",
       "      <td>...</td>\n",
       "      <td>...</td>\n",
       "      <td>...</td>\n",
       "      <td>...</td>\n",
       "      <td>...</td>\n",
       "      <td>...</td>\n",
       "      <td>...</td>\n",
       "      <td>...</td>\n",
       "      <td>...</td>\n",
       "      <td>...</td>\n",
       "      <td>...</td>\n",
       "      <td>...</td>\n",
       "      <td>...</td>\n",
       "      <td>...</td>\n",
       "    </tr>\n",
       "    <tr>\n",
       "      <th>517</th>\n",
       "      <td>01/12/2014</td>\n",
       "      <td>95</td>\n",
       "      <td>12</td>\n",
       "      <td>41</td>\n",
       "      <td>6</td>\n",
       "      <td>39</td>\n",
       "      <td>0</td>\n",
       "      <td>16</td>\n",
       "      <td>15</td>\n",
       "      <td>14</td>\n",
       "      <td>...</td>\n",
       "      <td>121</td>\n",
       "      <td>117</td>\n",
       "      <td>120</td>\n",
       "      <td>125</td>\n",
       "      <td>126</td>\n",
       "      <td>121</td>\n",
       "      <td>114</td>\n",
       "      <td>21</td>\n",
       "      <td>14</td>\n",
       "      <td>120</td>\n",
       "    </tr>\n",
       "    <tr>\n",
       "      <th>518</th>\n",
       "      <td>08/12/2014</td>\n",
       "      <td>43</td>\n",
       "      <td>39</td>\n",
       "      <td>31</td>\n",
       "      <td>10</td>\n",
       "      <td>34</td>\n",
       "      <td>3</td>\n",
       "      <td>2</td>\n",
       "      <td>30</td>\n",
       "      <td>25</td>\n",
       "      <td>...</td>\n",
       "      <td>85</td>\n",
       "      <td>83</td>\n",
       "      <td>72</td>\n",
       "      <td>93</td>\n",
       "      <td>65</td>\n",
       "      <td>85</td>\n",
       "      <td>99</td>\n",
       "      <td>31</td>\n",
       "      <td>45</td>\n",
       "      <td>72</td>\n",
       "    </tr>\n",
       "    <tr>\n",
       "      <th>519</th>\n",
       "      <td>15/12/2014</td>\n",
       "      <td>35</td>\n",
       "      <td>7</td>\n",
       "      <td>15</td>\n",
       "      <td>0</td>\n",
       "      <td>0</td>\n",
       "      <td>0</td>\n",
       "      <td>7</td>\n",
       "      <td>7</td>\n",
       "      <td>4</td>\n",
       "      <td>...</td>\n",
       "      <td>17</td>\n",
       "      <td>53</td>\n",
       "      <td>27</td>\n",
       "      <td>24</td>\n",
       "      <td>24</td>\n",
       "      <td>17</td>\n",
       "      <td>22</td>\n",
       "      <td>10</td>\n",
       "      <td>15</td>\n",
       "      <td>27</td>\n",
       "    </tr>\n",
       "    <tr>\n",
       "      <th>520</th>\n",
       "      <td>22/12/2014</td>\n",
       "      <td>30</td>\n",
       "      <td>23</td>\n",
       "      <td>8</td>\n",
       "      <td>0</td>\n",
       "      <td>11</td>\n",
       "      <td>4</td>\n",
       "      <td>1</td>\n",
       "      <td>9</td>\n",
       "      <td>10</td>\n",
       "      <td>...</td>\n",
       "      <td>84</td>\n",
       "      <td>100</td>\n",
       "      <td>85</td>\n",
       "      <td>92</td>\n",
       "      <td>84</td>\n",
       "      <td>84</td>\n",
       "      <td>88</td>\n",
       "      <td>3</td>\n",
       "      <td>7</td>\n",
       "      <td>85</td>\n",
       "    </tr>\n",
       "    <tr>\n",
       "      <th>521</th>\n",
       "      <td>29/12/2014</td>\n",
       "      <td>259</td>\n",
       "      <td>42</td>\n",
       "      <td>49</td>\n",
       "      <td>32</td>\n",
       "      <td>38</td>\n",
       "      <td>15</td>\n",
       "      <td>11</td>\n",
       "      <td>98</td>\n",
       "      <td>61</td>\n",
       "      <td>...</td>\n",
       "      <td>114</td>\n",
       "      <td>164</td>\n",
       "      <td>128</td>\n",
       "      <td>201</td>\n",
       "      <td>114</td>\n",
       "      <td>114</td>\n",
       "      <td>148</td>\n",
       "      <td>36</td>\n",
       "      <td>70</td>\n",
       "      <td>128</td>\n",
       "    </tr>\n",
       "  </tbody>\n",
       "</table>\n",
       "<p>522 rows × 104 columns</p>\n",
       "</div>"
      ],
      "text/plain": [
       "           Date  BUDAPEST  BARANYA  BACS  BEKES  BORSOD  CSONGRAD  FEJER  \\\n",
       "0    03/01/2005       168       79    30    173     169        42    136   \n",
       "1    10/01/2005       157       60    30     92     200        53     51   \n",
       "2    17/01/2005        96       44    31     86      93        30     93   \n",
       "3    24/01/2005       163       49    43    126      46        39     52   \n",
       "4    31/01/2005       122       78    53     87     103        34     95   \n",
       "..          ...       ...      ...   ...    ...     ...       ...    ...   \n",
       "517  01/12/2014        95       12    41      6      39         0     16   \n",
       "518  08/12/2014        43       39    31     10      34         3      2   \n",
       "519  15/12/2014        35        7    15      0       0         0      7   \n",
       "520  22/12/2014        30       23     8      0      11         4      1   \n",
       "521  29/12/2014       259       42    49     32      38        15     11   \n",
       "\n",
       "     GYOR  HAJDU  ...  VAS_VESZPREM_Interaction  VESZPREM_KOMAROM_Interaction  \\\n",
       "0     120    162  ...                       116                           144   \n",
       "1      70     84  ...                       121                           118   \n",
       "2      84    191  ...                        80                           108   \n",
       "3     114    107  ...                        64                            97   \n",
       "4     131    172  ...                       132                           134   \n",
       "..    ...    ...  ...                       ...                           ...   \n",
       "517    15     14  ...                       121                           117   \n",
       "518    30     25  ...                        85                            83   \n",
       "519     7      4  ...                        17                            53   \n",
       "520     9     10  ...                        84                           100   \n",
       "521    98     61  ...                       114                           164   \n",
       "\n",
       "     VESZPREM_ZALA_Interaction  VESZPREM_GYOR_Interaction  \\\n",
       "0                          155                        207   \n",
       "1                           94                        138   \n",
       "2                          106                        146   \n",
       "3                           74                        157   \n",
       "4                          145                        216   \n",
       "..                         ...                        ...   \n",
       "517                        120                        125   \n",
       "518                         72                         93   \n",
       "519                         27                         24   \n",
       "520                         85                         92   \n",
       "521                        128                        201   \n",
       "\n",
       "     VESZPREM_FEJER_Interaction  VESZPREM_VAS_Interaction  \\\n",
       "0                           223                       116   \n",
       "1                           119                       121   \n",
       "2                           155                        80   \n",
       "3                            95                        64   \n",
       "4                           180                       132   \n",
       "..                          ...                       ...   \n",
       "517                         126                       121   \n",
       "518                          65                        85   \n",
       "519                          24                        17   \n",
       "520                          84                        84   \n",
       "521                         114                       114   \n",
       "\n",
       "     VESZPREM_SOMOGY_Interaction  ZALA_VAS_Interaction  \\\n",
       "0                            153                    97   \n",
       "1                            116                    79   \n",
       "2                             95                    62   \n",
       "3                            109                    52   \n",
       "4                            148                   107   \n",
       "..                           ...                   ...   \n",
       "517                          114                    21   \n",
       "518                           99                    31   \n",
       "519                           22                    10   \n",
       "520                           88                     3   \n",
       "521                          148                    36   \n",
       "\n",
       "     ZALA_SOMOGY_Interaction  ZALA_VESZPREM_Interaction  \n",
       "0                        134                        155  \n",
       "1                         74                         94  \n",
       "2                         77                        106  \n",
       "3                         97                         74  \n",
       "4                        123                        145  \n",
       "..                       ...                        ...  \n",
       "517                       14                        120  \n",
       "518                       45                         72  \n",
       "519                       15                         27  \n",
       "520                        7                         85  \n",
       "521                       70                        128  \n",
       "\n",
       "[522 rows x 104 columns]"
      ]
     },
     "execution_count": 25,
     "metadata": {},
     "output_type": "execute_result"
    }
   ],
   "source": [
    "# Create a copy of the chickenpox_df to store the new interaction columns\n",
    "interaction_df = chickenpox_df.copy()\n",
    "\n",
    "# Iterate through each row in the county_edge_df\n",
    "for index, row in county_edge_df.iterrows():\n",
    "    county1 = row['name_1']\n",
    "    county2 = row['name_2']\n",
    "    \n",
    "    # Eliminate self interaction\n",
    "    if county1 != county2:\n",
    "        \n",
    "        # Check if the counties share a border\n",
    "        if county1 in chickenpox_df.columns and county2 in chickenpox_df.columns:\n",
    "            \n",
    "            # Calculate the sum of weekly chickenpox counts for the two counties\n",
    "            interaction_df[f'{county1}_{county2}_Interaction'] = chickenpox_df[county1] + chickenpox_df[county2]\n",
    "\n",
    "# Print the updated interaction_df with the new interaction columns\n",
    "interaction_df"
   ]
  },
  {
   "attachments": {},
   "cell_type": "markdown",
   "id": "3a1bc5e3",
   "metadata": {},
   "source": [
    "The study has interacted those counties that share a border with each other to find out if the interaction has an effect on the case counts in other counties."
   ]
  },
  {
   "attachments": {},
   "cell_type": "markdown",
   "id": "9ac61016",
   "metadata": {},
   "source": [
    "# Exploratory Data Analysis\n",
    "> In this stage we shall perform univariate and bivariate data analysis to gain insight from this data"
   ]
  },
  {
   "attachments": {},
   "cell_type": "markdown",
   "id": "f07684ff",
   "metadata": {},
   "source": [
    "## Univariate Data Analysis\n",
    "> In this section we will attempt to answers questions like:\n",
    "* Which county has the highest average daily case counts?\n",
    "* Which year had the most case counts?\n",
    "* Which month had the most case counts?\n",
    "* How does the distribution of cases differ between urban and rural counties?\n",
    "* Are there extreme values (outliers) in the case counts?\n",
    "* What is the variability of cases?"
   ]
  },
  {
   "cell_type": "code",
   "execution_count": 26,
   "id": "fe66a9f2",
   "metadata": {},
   "outputs": [
    {
     "data": {
      "application/vnd.plotly.v1+json": {
       "config": {
        "plotlyServerURL": "https://plot.ly"
       },
       "data": [
        {
         "alignmentgroup": "True",
         "hovertemplate": "x=%{x}<br>y=%{y}<extra></extra>",
         "legendgroup": "",
         "marker": {
          "color": "#636efa",
          "pattern": {
           "shape": ""
          }
         },
         "name": "",
         "offsetgroup": "",
         "orientation": "v",
         "showlegend": false,
         "textposition": "auto",
         "type": "bar",
         "x": [
          "BUDAPEST",
          "BARANYA",
          "BACS",
          "BEKES",
          "BORSOD",
          "CSONGRAD",
          "FEJER",
          "GYOR",
          "HAJDU",
          "HEVES",
          "JASZ",
          "KOMAROM",
          "NOGRAD",
          "PEST",
          "SOMOGY",
          "SZABOLCS",
          "TOLNA",
          "VAS",
          "VESZPREM",
          "ZALA"
         ],
         "xaxis": "x",
         "y": [
          52850,
          17855,
          19401,
          15092,
          29797,
          16437,
          17368,
          21630,
          24585,
          15499,
          21334,
          13386,
          11406,
          44945,
          14412,
          15584,
          10624,
          11728,
          21212,
          10374
         ],
         "yaxis": "y"
        }
       ],
       "layout": {
        "barmode": "relative",
        "legend": {
         "tracegroupgap": 0
        },
        "margin": {
         "t": 60
        },
        "template": {
         "data": {
          "bar": [
           {
            "error_x": {
             "color": "#2a3f5f"
            },
            "error_y": {
             "color": "#2a3f5f"
            },
            "marker": {
             "line": {
              "color": "#E5ECF6",
              "width": 0.5
             },
             "pattern": {
              "fillmode": "overlay",
              "size": 10,
              "solidity": 0.2
             }
            },
            "type": "bar"
           }
          ],
          "barpolar": [
           {
            "marker": {
             "line": {
              "color": "#E5ECF6",
              "width": 0.5
             },
             "pattern": {
              "fillmode": "overlay",
              "size": 10,
              "solidity": 0.2
             }
            },
            "type": "barpolar"
           }
          ],
          "carpet": [
           {
            "aaxis": {
             "endlinecolor": "#2a3f5f",
             "gridcolor": "white",
             "linecolor": "white",
             "minorgridcolor": "white",
             "startlinecolor": "#2a3f5f"
            },
            "baxis": {
             "endlinecolor": "#2a3f5f",
             "gridcolor": "white",
             "linecolor": "white",
             "minorgridcolor": "white",
             "startlinecolor": "#2a3f5f"
            },
            "type": "carpet"
           }
          ],
          "choropleth": [
           {
            "colorbar": {
             "outlinewidth": 0,
             "ticks": ""
            },
            "type": "choropleth"
           }
          ],
          "contour": [
           {
            "colorbar": {
             "outlinewidth": 0,
             "ticks": ""
            },
            "colorscale": [
             [
              0,
              "#0d0887"
             ],
             [
              0.1111111111111111,
              "#46039f"
             ],
             [
              0.2222222222222222,
              "#7201a8"
             ],
             [
              0.3333333333333333,
              "#9c179e"
             ],
             [
              0.4444444444444444,
              "#bd3786"
             ],
             [
              0.5555555555555556,
              "#d8576b"
             ],
             [
              0.6666666666666666,
              "#ed7953"
             ],
             [
              0.7777777777777778,
              "#fb9f3a"
             ],
             [
              0.8888888888888888,
              "#fdca26"
             ],
             [
              1,
              "#f0f921"
             ]
            ],
            "type": "contour"
           }
          ],
          "contourcarpet": [
           {
            "colorbar": {
             "outlinewidth": 0,
             "ticks": ""
            },
            "type": "contourcarpet"
           }
          ],
          "heatmap": [
           {
            "colorbar": {
             "outlinewidth": 0,
             "ticks": ""
            },
            "colorscale": [
             [
              0,
              "#0d0887"
             ],
             [
              0.1111111111111111,
              "#46039f"
             ],
             [
              0.2222222222222222,
              "#7201a8"
             ],
             [
              0.3333333333333333,
              "#9c179e"
             ],
             [
              0.4444444444444444,
              "#bd3786"
             ],
             [
              0.5555555555555556,
              "#d8576b"
             ],
             [
              0.6666666666666666,
              "#ed7953"
             ],
             [
              0.7777777777777778,
              "#fb9f3a"
             ],
             [
              0.8888888888888888,
              "#fdca26"
             ],
             [
              1,
              "#f0f921"
             ]
            ],
            "type": "heatmap"
           }
          ],
          "heatmapgl": [
           {
            "colorbar": {
             "outlinewidth": 0,
             "ticks": ""
            },
            "colorscale": [
             [
              0,
              "#0d0887"
             ],
             [
              0.1111111111111111,
              "#46039f"
             ],
             [
              0.2222222222222222,
              "#7201a8"
             ],
             [
              0.3333333333333333,
              "#9c179e"
             ],
             [
              0.4444444444444444,
              "#bd3786"
             ],
             [
              0.5555555555555556,
              "#d8576b"
             ],
             [
              0.6666666666666666,
              "#ed7953"
             ],
             [
              0.7777777777777778,
              "#fb9f3a"
             ],
             [
              0.8888888888888888,
              "#fdca26"
             ],
             [
              1,
              "#f0f921"
             ]
            ],
            "type": "heatmapgl"
           }
          ],
          "histogram": [
           {
            "marker": {
             "pattern": {
              "fillmode": "overlay",
              "size": 10,
              "solidity": 0.2
             }
            },
            "type": "histogram"
           }
          ],
          "histogram2d": [
           {
            "colorbar": {
             "outlinewidth": 0,
             "ticks": ""
            },
            "colorscale": [
             [
              0,
              "#0d0887"
             ],
             [
              0.1111111111111111,
              "#46039f"
             ],
             [
              0.2222222222222222,
              "#7201a8"
             ],
             [
              0.3333333333333333,
              "#9c179e"
             ],
             [
              0.4444444444444444,
              "#bd3786"
             ],
             [
              0.5555555555555556,
              "#d8576b"
             ],
             [
              0.6666666666666666,
              "#ed7953"
             ],
             [
              0.7777777777777778,
              "#fb9f3a"
             ],
             [
              0.8888888888888888,
              "#fdca26"
             ],
             [
              1,
              "#f0f921"
             ]
            ],
            "type": "histogram2d"
           }
          ],
          "histogram2dcontour": [
           {
            "colorbar": {
             "outlinewidth": 0,
             "ticks": ""
            },
            "colorscale": [
             [
              0,
              "#0d0887"
             ],
             [
              0.1111111111111111,
              "#46039f"
             ],
             [
              0.2222222222222222,
              "#7201a8"
             ],
             [
              0.3333333333333333,
              "#9c179e"
             ],
             [
              0.4444444444444444,
              "#bd3786"
             ],
             [
              0.5555555555555556,
              "#d8576b"
             ],
             [
              0.6666666666666666,
              "#ed7953"
             ],
             [
              0.7777777777777778,
              "#fb9f3a"
             ],
             [
              0.8888888888888888,
              "#fdca26"
             ],
             [
              1,
              "#f0f921"
             ]
            ],
            "type": "histogram2dcontour"
           }
          ],
          "mesh3d": [
           {
            "colorbar": {
             "outlinewidth": 0,
             "ticks": ""
            },
            "type": "mesh3d"
           }
          ],
          "parcoords": [
           {
            "line": {
             "colorbar": {
              "outlinewidth": 0,
              "ticks": ""
             }
            },
            "type": "parcoords"
           }
          ],
          "pie": [
           {
            "automargin": true,
            "type": "pie"
           }
          ],
          "scatter": [
           {
            "fillpattern": {
             "fillmode": "overlay",
             "size": 10,
             "solidity": 0.2
            },
            "type": "scatter"
           }
          ],
          "scatter3d": [
           {
            "line": {
             "colorbar": {
              "outlinewidth": 0,
              "ticks": ""
             }
            },
            "marker": {
             "colorbar": {
              "outlinewidth": 0,
              "ticks": ""
             }
            },
            "type": "scatter3d"
           }
          ],
          "scattercarpet": [
           {
            "marker": {
             "colorbar": {
              "outlinewidth": 0,
              "ticks": ""
             }
            },
            "type": "scattercarpet"
           }
          ],
          "scattergeo": [
           {
            "marker": {
             "colorbar": {
              "outlinewidth": 0,
              "ticks": ""
             }
            },
            "type": "scattergeo"
           }
          ],
          "scattergl": [
           {
            "marker": {
             "colorbar": {
              "outlinewidth": 0,
              "ticks": ""
             }
            },
            "type": "scattergl"
           }
          ],
          "scattermapbox": [
           {
            "marker": {
             "colorbar": {
              "outlinewidth": 0,
              "ticks": ""
             }
            },
            "type": "scattermapbox"
           }
          ],
          "scatterpolar": [
           {
            "marker": {
             "colorbar": {
              "outlinewidth": 0,
              "ticks": ""
             }
            },
            "type": "scatterpolar"
           }
          ],
          "scatterpolargl": [
           {
            "marker": {
             "colorbar": {
              "outlinewidth": 0,
              "ticks": ""
             }
            },
            "type": "scatterpolargl"
           }
          ],
          "scatterternary": [
           {
            "marker": {
             "colorbar": {
              "outlinewidth": 0,
              "ticks": ""
             }
            },
            "type": "scatterternary"
           }
          ],
          "surface": [
           {
            "colorbar": {
             "outlinewidth": 0,
             "ticks": ""
            },
            "colorscale": [
             [
              0,
              "#0d0887"
             ],
             [
              0.1111111111111111,
              "#46039f"
             ],
             [
              0.2222222222222222,
              "#7201a8"
             ],
             [
              0.3333333333333333,
              "#9c179e"
             ],
             [
              0.4444444444444444,
              "#bd3786"
             ],
             [
              0.5555555555555556,
              "#d8576b"
             ],
             [
              0.6666666666666666,
              "#ed7953"
             ],
             [
              0.7777777777777778,
              "#fb9f3a"
             ],
             [
              0.8888888888888888,
              "#fdca26"
             ],
             [
              1,
              "#f0f921"
             ]
            ],
            "type": "surface"
           }
          ],
          "table": [
           {
            "cells": {
             "fill": {
              "color": "#EBF0F8"
             },
             "line": {
              "color": "white"
             }
            },
            "header": {
             "fill": {
              "color": "#C8D4E3"
             },
             "line": {
              "color": "white"
             }
            },
            "type": "table"
           }
          ]
         },
         "layout": {
          "annotationdefaults": {
           "arrowcolor": "#2a3f5f",
           "arrowhead": 0,
           "arrowwidth": 1
          },
          "autotypenumbers": "strict",
          "coloraxis": {
           "colorbar": {
            "outlinewidth": 0,
            "ticks": ""
           }
          },
          "colorscale": {
           "diverging": [
            [
             0,
             "#8e0152"
            ],
            [
             0.1,
             "#c51b7d"
            ],
            [
             0.2,
             "#de77ae"
            ],
            [
             0.3,
             "#f1b6da"
            ],
            [
             0.4,
             "#fde0ef"
            ],
            [
             0.5,
             "#f7f7f7"
            ],
            [
             0.6,
             "#e6f5d0"
            ],
            [
             0.7,
             "#b8e186"
            ],
            [
             0.8,
             "#7fbc41"
            ],
            [
             0.9,
             "#4d9221"
            ],
            [
             1,
             "#276419"
            ]
           ],
           "sequential": [
            [
             0,
             "#0d0887"
            ],
            [
             0.1111111111111111,
             "#46039f"
            ],
            [
             0.2222222222222222,
             "#7201a8"
            ],
            [
             0.3333333333333333,
             "#9c179e"
            ],
            [
             0.4444444444444444,
             "#bd3786"
            ],
            [
             0.5555555555555556,
             "#d8576b"
            ],
            [
             0.6666666666666666,
             "#ed7953"
            ],
            [
             0.7777777777777778,
             "#fb9f3a"
            ],
            [
             0.8888888888888888,
             "#fdca26"
            ],
            [
             1,
             "#f0f921"
            ]
           ],
           "sequentialminus": [
            [
             0,
             "#0d0887"
            ],
            [
             0.1111111111111111,
             "#46039f"
            ],
            [
             0.2222222222222222,
             "#7201a8"
            ],
            [
             0.3333333333333333,
             "#9c179e"
            ],
            [
             0.4444444444444444,
             "#bd3786"
            ],
            [
             0.5555555555555556,
             "#d8576b"
            ],
            [
             0.6666666666666666,
             "#ed7953"
            ],
            [
             0.7777777777777778,
             "#fb9f3a"
            ],
            [
             0.8888888888888888,
             "#fdca26"
            ],
            [
             1,
             "#f0f921"
            ]
           ]
          },
          "colorway": [
           "#636efa",
           "#EF553B",
           "#00cc96",
           "#ab63fa",
           "#FFA15A",
           "#19d3f3",
           "#FF6692",
           "#B6E880",
           "#FF97FF",
           "#FECB52"
          ],
          "font": {
           "color": "#2a3f5f"
          },
          "geo": {
           "bgcolor": "white",
           "lakecolor": "white",
           "landcolor": "#E5ECF6",
           "showlakes": true,
           "showland": true,
           "subunitcolor": "white"
          },
          "hoverlabel": {
           "align": "left"
          },
          "hovermode": "closest",
          "mapbox": {
           "style": "light"
          },
          "paper_bgcolor": "white",
          "plot_bgcolor": "#E5ECF6",
          "polar": {
           "angularaxis": {
            "gridcolor": "white",
            "linecolor": "white",
            "ticks": ""
           },
           "bgcolor": "#E5ECF6",
           "radialaxis": {
            "gridcolor": "white",
            "linecolor": "white",
            "ticks": ""
           }
          },
          "scene": {
           "xaxis": {
            "backgroundcolor": "#E5ECF6",
            "gridcolor": "white",
            "gridwidth": 2,
            "linecolor": "white",
            "showbackground": true,
            "ticks": "",
            "zerolinecolor": "white"
           },
           "yaxis": {
            "backgroundcolor": "#E5ECF6",
            "gridcolor": "white",
            "gridwidth": 2,
            "linecolor": "white",
            "showbackground": true,
            "ticks": "",
            "zerolinecolor": "white"
           },
           "zaxis": {
            "backgroundcolor": "#E5ECF6",
            "gridcolor": "white",
            "gridwidth": 2,
            "linecolor": "white",
            "showbackground": true,
            "ticks": "",
            "zerolinecolor": "white"
           }
          },
          "shapedefaults": {
           "line": {
            "color": "#2a3f5f"
           }
          },
          "ternary": {
           "aaxis": {
            "gridcolor": "white",
            "linecolor": "white",
            "ticks": ""
           },
           "baxis": {
            "gridcolor": "white",
            "linecolor": "white",
            "ticks": ""
           },
           "bgcolor": "#E5ECF6",
           "caxis": {
            "gridcolor": "white",
            "linecolor": "white",
            "ticks": ""
           }
          },
          "title": {
           "x": 0.05
          },
          "xaxis": {
           "automargin": true,
           "gridcolor": "white",
           "linecolor": "white",
           "ticks": "",
           "title": {
            "standoff": 15
           },
           "zerolinecolor": "white",
           "zerolinewidth": 2
          },
          "yaxis": {
           "automargin": true,
           "gridcolor": "white",
           "linecolor": "white",
           "ticks": "",
           "title": {
            "standoff": 15
           },
           "zerolinecolor": "white",
           "zerolinewidth": 2
          }
         }
        },
        "title": {
         "text": "Distribution of Total Chickenpox Cases across Counties (2005 - 2015)"
        },
        "xaxis": {
         "anchor": "y",
         "domain": [
          0,
          1
         ],
         "tickangle": -45,
         "title": {
          "text": "County"
         }
        },
        "yaxis": {
         "anchor": "x",
         "domain": [
          0,
          1
         ],
         "title": {
          "text": "Total Cases"
         }
        }
       }
      }
     },
     "metadata": {},
     "output_type": "display_data"
    }
   ],
   "source": [
    "# Calculate the total number of cases for each county\n",
    "county_totals = chickenpox_df.drop(['Date', 'National_Total'], axis=1).sum()\n",
    "\n",
    "# Create the bar plot\n",
    "fig = px.bar(x=county_totals.index, y=county_totals.values)\n",
    "\n",
    "# Update the layout\n",
    "fig.update_layout(\n",
    "    title='Distribution of Total Chickenpox Cases across Counties (2005 - 2015)',\n",
    "    xaxis_title='County',\n",
    "    yaxis_title='Total Cases',\n",
    "    xaxis_tickangle=-45\n",
    ")\n",
    "\n",
    "# Show the plot\n",
    "fig.show()"
   ]
  },
  {
   "cell_type": "code",
   "execution_count": 27,
   "id": "be9fb6c1",
   "metadata": {},
   "outputs": [
    {
     "data": {
      "image/png": "[encoded data removed]",
      "text/plain": [
       "<Figure size 1200x600 with 1 Axes>"
      ]
     },
     "metadata": {},
     "output_type": "display_data"
    }
   ],
   "source": [
    "plt.figure(figsize=(12, 6))\n",
    "sns.barplot(x=county_totals.index, y=county_totals.values)\n",
    "plt.xlabel('County')\n",
    "plt.ylabel('Total Cases')\n",
    "plt.title('Distribution of Total Chickenpox Cases across Counties (2005 - 2015)')\n",
    "plt.xticks(rotation=90)\n",
    "plt.show()\n"
   ]
  },
  {
   "cell_type": "code",
   "execution_count": 30,
   "id": "d1b855af",
   "metadata": {},
   "outputs": [
    {
     "data": {
      "application/vnd.plotly.v1+json": {
       "config": {
        "plotlyServerURL": "https://plot.ly"
       },
       "data": [
        {
         "alignmentgroup": "True",
         "hovertemplate": "x=%{x}<br>y=%{y}<extra></extra>",
         "legendgroup": "",
         "marker": {
          "color": "#636efa",
          "pattern": {
           "shape": ""
          }
         },
         "name": "",
         "offsetgroup": "",
         "orientation": "v",
         "showlegend": false,
         "textposition": "auto",
         "type": "bar",
         "x": [
          "BUDAPEST",
          "BARANYA",
          "BACS",
          "BEKES",
          "BORSOD",
          "CSONGRAD",
          "FEJER",
          "GYOR",
          "HAJDU",
          "HEVES",
          "JASZ",
          "KOMAROM",
          "NOGRAD",
          "PEST",
          "SOMOGY",
          "SZABOLCS",
          "TOLNA",
          "VAS",
          "VESZPREM",
          "ZALA"
         ],
         "xaxis": "x",
         "y": [
          101.24521072796935,
          34.20498084291188,
          37.166666666666664,
          28.911877394636015,
          57.082375478927204,
          31.488505747126435,
          33.272030651341,
          41.4367816091954,
          47.09770114942529,
          29.691570881226053,
          40.86973180076628,
          25.64367816091954,
          21.850574712643677,
          86.1015325670498,
          27.60919540229885,
          29.8544061302682,
          20.35249042145594,
          22.467432950191572,
          40.6360153256705,
          19.873563218390803
         ],
         "yaxis": "y"
        }
       ],
       "layout": {
        "barmode": "relative",
        "legend": {
         "tracegroupgap": 0
        },
        "margin": {
         "t": 60
        },
        "template": {
         "data": {
          "bar": [
           {
            "error_x": {
             "color": "#2a3f5f"
            },
            "error_y": {
             "color": "#2a3f5f"
            },
            "marker": {
             "line": {
              "color": "#E5ECF6",
              "width": 0.5
             },
             "pattern": {
              "fillmode": "overlay",
              "size": 10,
              "solidity": 0.2
             }
            },
            "type": "bar"
           }
          ],
          "barpolar": [
           {
            "marker": {
             "line": {
              "color": "#E5ECF6",
              "width": 0.5
             },
             "pattern": {
              "fillmode": "overlay",
              "size": 10,
              "solidity": 0.2
             }
            },
            "type": "barpolar"
           }
          ],
          "carpet": [
           {
            "aaxis": {
             "endlinecolor": "#2a3f5f",
             "gridcolor": "white",
             "linecolor": "white",
             "minorgridcolor": "white",
             "startlinecolor": "#2a3f5f"
            },
            "baxis": {
             "endlinecolor": "#2a3f5f",
             "gridcolor": "white",
             "linecolor": "white",
             "minorgridcolor": "white",
             "startlinecolor": "#2a3f5f"
            },
            "type": "carpet"
           }
          ],
          "choropleth": [
           {
            "colorbar": {
             "outlinewidth": 0,
             "ticks": ""
            },
            "type": "choropleth"
           }
          ],
          "contour": [
           {
            "colorbar": {
             "outlinewidth": 0,
             "ticks": ""
            },
            "colorscale": [
             [
              0,
              "#0d0887"
             ],
             [
              0.1111111111111111,
              "#46039f"
             ],
             [
              0.2222222222222222,
              "#7201a8"
             ],
             [
              0.3333333333333333,
              "#9c179e"
             ],
             [
              0.4444444444444444,
              "#bd3786"
             ],
             [
              0.5555555555555556,
              "#d8576b"
             ],
             [
              0.6666666666666666,
              "#ed7953"
             ],
             [
              0.7777777777777778,
              "#fb9f3a"
             ],
             [
              0.8888888888888888,
              "#fdca26"
             ],
             [
              1,
              "#f0f921"
             ]
            ],
            "type": "contour"
           }
          ],
          "contourcarpet": [
           {
            "colorbar": {
             "outlinewidth": 0,
             "ticks": ""
            },
            "type": "contourcarpet"
           }
          ],
          "heatmap": [
           {
            "colorbar": {
             "outlinewidth": 0,
             "ticks": ""
            },
            "colorscale": [
             [
              0,
              "#0d0887"
             ],
             [
              0.1111111111111111,
              "#46039f"
             ],
             [
              0.2222222222222222,
              "#7201a8"
             ],
             [
              0.3333333333333333,
              "#9c179e"
             ],
             [
              0.4444444444444444,
              "#bd3786"
             ],
             [
              0.5555555555555556,
              "#d8576b"
             ],
             [
              0.6666666666666666,
              "#ed7953"
             ],
             [
              0.7777777777777778,
              "#fb9f3a"
             ],
             [
              0.8888888888888888,
              "#fdca26"
             ],
             [
              1,
              "#f0f921"
             ]
            ],
            "type": "heatmap"
           }
          ],
          "heatmapgl": [
           {
            "colorbar": {
             "outlinewidth": 0,
             "ticks": ""
            },
            "colorscale": [
             [
              0,
              "#0d0887"
             ],
             [
              0.1111111111111111,
              "#46039f"
             ],
             [
              0.2222222222222222,
              "#7201a8"
             ],
             [
              0.3333333333333333,
              "#9c179e"
             ],
             [
              0.4444444444444444,
              "#bd3786"
             ],
             [
              0.5555555555555556,
              "#d8576b"
             ],
             [
              0.6666666666666666,
              "#ed7953"
             ],
             [
              0.7777777777777778,
              "#fb9f3a"
             ],
             [
              0.8888888888888888,
              "#fdca26"
             ],
             [
              1,
              "#f0f921"
             ]
            ],
            "type": "heatmapgl"
           }
          ],
          "histogram": [
           {
            "marker": {
             "pattern": {
              "fillmode": "overlay",
              "size": 10,
              "solidity": 0.2
             }
            },
            "type": "histogram"
           }
          ],
          "histogram2d": [
           {
            "colorbar": {
             "outlinewidth": 0,
             "ticks": ""
            },
            "colorscale": [
             [
              0,
              "#0d0887"
             ],
             [
              0.1111111111111111,
              "#46039f"
             ],
             [
              0.2222222222222222,
              "#7201a8"
             ],
             [
              0.3333333333333333,
              "#9c179e"
             ],
             [
              0.4444444444444444,
              "#bd3786"
             ],
             [
              0.5555555555555556,
              "#d8576b"
             ],
             [
              0.6666666666666666,
              "#ed7953"
             ],
             [
              0.7777777777777778,
              "#fb9f3a"
             ],
             [
              0.8888888888888888,
              "#fdca26"
             ],
             [
              1,
              "#f0f921"
             ]
            ],
            "type": "histogram2d"
           }
          ],
          "histogram2dcontour": [
           {
            "colorbar": {
             "outlinewidth": 0,
             "ticks": ""
            },
            "colorscale": [
             [
              0,
              "#0d0887"
             ],
             [
              0.1111111111111111,
              "#46039f"
             ],
             [
              0.2222222222222222,
              "#7201a8"
             ],
             [
              0.3333333333333333,
              "#9c179e"
             ],
             [
              0.4444444444444444,
              "#bd3786"
             ],
             [
              0.5555555555555556,
              "#d8576b"
             ],
             [
              0.6666666666666666,
              "#ed7953"
             ],
             [
              0.7777777777777778,
              "#fb9f3a"
             ],
             [
              0.8888888888888888,
              "#fdca26"
             ],
             [
              1,
              "#f0f921"
             ]
            ],
            "type": "histogram2dcontour"
           }
          ],
          "mesh3d": [
           {
            "colorbar": {
             "outlinewidth": 0,
             "ticks": ""
            },
            "type": "mesh3d"
           }
          ],
          "parcoords": [
           {
            "line": {
             "colorbar": {
              "outlinewidth": 0,
              "ticks": ""
             }
            },
            "type": "parcoords"
           }
          ],
          "pie": [
           {
            "automargin": true,
            "type": "pie"
           }
          ],
          "scatter": [
           {
            "fillpattern": {
             "fillmode": "overlay",
             "size": 10,
             "solidity": 0.2
            },
            "type": "scatter"
           }
          ],
          "scatter3d": [
           {
            "line": {
             "colorbar": {
              "outlinewidth": 0,
              "ticks": ""
             }
            },
            "marker": {
             "colorbar": {
              "outlinewidth": 0,
              "ticks": ""
             }
            },
            "type": "scatter3d"
           }
          ],
          "scattercarpet": [
           {
            "marker": {
             "colorbar": {
              "outlinewidth": 0,
              "ticks": ""
             }
            },
            "type": "scattercarpet"
           }
          ],
          "scattergeo": [
           {
            "marker": {
             "colorbar": {
              "outlinewidth": 0,
              "ticks": ""
             }
            },
            "type": "scattergeo"
           }
          ],
          "scattergl": [
           {
            "marker": {
             "colorbar": {
              "outlinewidth": 0,
              "ticks": ""
             }
            },
            "type": "scattergl"
           }
          ],
          "scattermapbox": [
           {
            "marker": {
             "colorbar": {
              "outlinewidth": 0,
              "ticks": ""
             }
            },
            "type": "scattermapbox"
           }
          ],
          "scatterpolar": [
           {
            "marker": {
             "colorbar": {
              "outlinewidth": 0,
              "ticks": ""
             }
            },
            "type": "scatterpolar"
           }
          ],
          "scatterpolargl": [
           {
            "marker": {
             "colorbar": {
              "outlinewidth": 0,
              "ticks": ""
             }
            },
            "type": "scatterpolargl"
           }
          ],
          "scatterternary": [
           {
            "marker": {
             "colorbar": {
              "outlinewidth": 0,
              "ticks": ""
             }
            },
            "type": "scatterternary"
           }
          ],
          "surface": [
           {
            "colorbar": {
             "outlinewidth": 0,
             "ticks": ""
            },
            "colorscale": [
             [
              0,
              "#0d0887"
             ],
             [
              0.1111111111111111,
              "#46039f"
             ],
             [
              0.2222222222222222,
              "#7201a8"
             ],
             [
              0.3333333333333333,
              "#9c179e"
             ],
             [
              0.4444444444444444,
              "#bd3786"
             ],
             [
              0.5555555555555556,
              "#d8576b"
             ],
             [
              0.6666666666666666,
              "#ed7953"
             ],
             [
              0.7777777777777778,
              "#fb9f3a"
             ],
             [
              0.8888888888888888,
              "#fdca26"
             ],
             [
              1,
              "#f0f921"
             ]
            ],
            "type": "surface"
           }
          ],
          "table": [
           {
            "cells": {
             "fill": {
              "color": "#EBF0F8"
             },
             "line": {
              "color": "white"
             }
            },
            "header": {
             "fill": {
              "color": "#C8D4E3"
             },
             "line": {
              "color": "white"
             }
            },
            "type": "table"
           }
          ]
         },
         "layout": {
          "annotationdefaults": {
           "arrowcolor": "#2a3f5f",
           "arrowhead": 0,
           "arrowwidth": 1
          },
          "autotypenumbers": "strict",
          "coloraxis": {
           "colorbar": {
            "outlinewidth": 0,
            "ticks": ""
           }
          },
          "colorscale": {
           "diverging": [
            [
             0,
             "#8e0152"
            ],
            [
             0.1,
             "#c51b7d"
            ],
            [
             0.2,
             "#de77ae"
            ],
            [
             0.3,
             "#f1b6da"
            ],
            [
             0.4,
             "#fde0ef"
            ],
            [
             0.5,
             "#f7f7f7"
            ],
            [
             0.6,
             "#e6f5d0"
            ],
            [
             0.7,
             "#b8e186"
            ],
            [
             0.8,
             "#7fbc41"
            ],
            [
             0.9,
             "#4d9221"
            ],
            [
             1,
             "#276419"
            ]
           ],
           "sequential": [
            [
             0,
             "#0d0887"
            ],
            [
             0.1111111111111111,
             "#46039f"
            ],
            [
             0.2222222222222222,
             "#7201a8"
            ],
            [
             0.3333333333333333,
             "#9c179e"
            ],
            [
             0.4444444444444444,
             "#bd3786"
            ],
            [
             0.5555555555555556,
             "#d8576b"
            ],
            [
             0.6666666666666666,
             "#ed7953"
            ],
            [
             0.7777777777777778,
             "#fb9f3a"
            ],
            [
             0.8888888888888888,
             "#fdca26"
            ],
            [
             1,
             "#f0f921"
            ]
           ],
           "sequentialminus": [
            [
             0,
             "#0d0887"
            ],
            [
             0.1111111111111111,
             "#46039f"
            ],
            [
             0.2222222222222222,
             "#7201a8"
            ],
            [
             0.3333333333333333,
             "#9c179e"
            ],
            [
             0.4444444444444444,
             "#bd3786"
            ],
            [
             0.5555555555555556,
             "#d8576b"
            ],
            [
             0.6666666666666666,
             "#ed7953"
            ],
            [
             0.7777777777777778,
             "#fb9f3a"
            ],
            [
             0.8888888888888888,
             "#fdca26"
            ],
            [
             1,
             "#f0f921"
            ]
           ]
          },
          "colorway": [
           "#636efa",
           "#EF553B",
           "#00cc96",
           "#ab63fa",
           "#FFA15A",
           "#19d3f3",
           "#FF6692",
           "#B6E880",
           "#FF97FF",
           "#FECB52"
          ],
          "font": {
           "color": "#2a3f5f"
          },
          "geo": {
           "bgcolor": "white",
           "lakecolor": "white",
           "landcolor": "#E5ECF6",
           "showlakes": true,
           "showland": true,
           "subunitcolor": "white"
          },
          "hoverlabel": {
           "align": "left"
          },
          "hovermode": "closest",
          "mapbox": {
           "style": "light"
          },
          "paper_bgcolor": "white",
          "plot_bgcolor": "#E5ECF6",
          "polar": {
           "angularaxis": {
            "gridcolor": "white",
            "linecolor": "white",
            "ticks": ""
           },
           "bgcolor": "#E5ECF6",
           "radialaxis": {
            "gridcolor": "white",
            "linecolor": "white",
            "ticks": ""
           }
          },
          "scene": {
           "xaxis": {
            "backgroundcolor": "#E5ECF6",
            "gridcolor": "white",
            "gridwidth": 2,
            "linecolor": "white",
            "showbackground": true,
            "ticks": "",
            "zerolinecolor": "white"
           },
           "yaxis": {
            "backgroundcolor": "#E5ECF6",
            "gridcolor": "white",
            "gridwidth": 2,
            "linecolor": "white",
            "showbackground": true,
            "ticks": "",
            "zerolinecolor": "white"
           },
           "zaxis": {
            "backgroundcolor": "#E5ECF6",
            "gridcolor": "white",
            "gridwidth": 2,
            "linecolor": "white",
            "showbackground": true,
            "ticks": "",
            "zerolinecolor": "white"
           }
          },
          "shapedefaults": {
           "line": {
            "color": "#2a3f5f"
           }
          },
          "ternary": {
           "aaxis": {
            "gridcolor": "white",
            "linecolor": "white",
            "ticks": ""
           },
           "baxis": {
            "gridcolor": "white",
            "linecolor": "white",
            "ticks": ""
           },
           "bgcolor": "#E5ECF6",
           "caxis": {
            "gridcolor": "white",
            "linecolor": "white",
            "ticks": ""
           }
          },
          "title": {
           "x": 0.05
          },
          "xaxis": {
           "automargin": true,
           "gridcolor": "white",
           "linecolor": "white",
           "ticks": "",
           "title": {
            "standoff": 15
           },
           "zerolinecolor": "white",
           "zerolinewidth": 2
          },
          "yaxis": {
           "automargin": true,
           "gridcolor": "white",
           "linecolor": "white",
           "ticks": "",
           "title": {
            "standoff": 15
           },
           "zerolinecolor": "white",
           "zerolinewidth": 2
          }
         }
        },
        "title": {
         "text": "Distribution of the weekly mean Case Count per County"
        },
        "xaxis": {
         "anchor": "y",
         "domain": [
          0,
          1
         ],
         "tickangle": -45,
         "title": {
          "text": "County"
         }
        },
        "yaxis": {
         "anchor": "x",
         "domain": [
          0,
          1
         ],
         "title": {
          "text": "Mean Daily Cases"
         }
        }
       }
      }
     },
     "metadata": {},
     "output_type": "display_data"
    }
   ],
   "source": [
    "# Calculate the mean daily case count per county\n",
    "mean_daily_cases_per_county = chickenpox_df.drop(['Date', 'National_Total'], axis=1).mean(axis=0)\n",
    "\n",
    "# Create the bar plot\n",
    "fig = px.bar(x=mean_daily_cases_per_county.index, y=mean_daily_cases_per_county.values)\n",
    "\n",
    "# Update the layout\n",
    "fig.update_layout(\n",
    "    title='Distribution of the weekly mean Case Count per County',\n",
    "    xaxis_title='County',\n",
    "    yaxis_title='Mean Daily Cases',\n",
    "    xaxis_tickangle=-45\n",
    ")\n",
    "\n",
    "# Show the plot\n",
    "fig.show()"
   ]
  },
  {
   "cell_type": "code",
   "execution_count": 31,
   "id": "ce6b64a6",
   "metadata": {},
   "outputs": [
    {
     "data": {
      "image/png": "[encoded data removed]",
      "text/plain": [
       "<Figure size 1200x600 with 1 Axes>"
      ]
     },
     "metadata": {},
     "output_type": "display_data"
    }
   ],
   "source": [
    "plt.figure(figsize=(12, 6))\n",
    "sns.barplot(x=mean_daily_cases_per_county.index, y=mean_daily_cases_per_county.values)\n",
    "plt.title('Mean Daily Case Count per County')\n",
    "plt.xlabel('County')\n",
    "plt.ylabel('Mean Daily Cases')\n",
    "plt.xticks(rotation=90)\n",
    "plt.show()\n"
   ]
  },
  {
   "cell_type": "code",
   "execution_count": 38,
   "id": "14ad31a0",
   "metadata": {},
   "outputs": [],
   "source": [
    "# Mean daily count\n",
    "national_weekly_mean = chickenpox_df.describe().T['mean'][:-2]"
   ]
  },
  {
   "attachments": {},
   "cell_type": "markdown",
   "id": "3872dde9",
   "metadata": {},
   "source": [
    "#### Observations:\n",
    "* `Budapest` has the highest daily average case counts.\n",
    "* Followed by `Pest` then `Borsod`.\n",
    "* The county with the least total and least daily mean count is `Zala`."
   ]
  },
  {
   "cell_type": "code",
   "execution_count": 157,
   "id": "4779baf3",
   "metadata": {},
   "outputs": [],
   "source": [
    "# # Specify the path to the GeoJSON file\n",
    "# geojson_file = 'data/stanford-ng254tn4451-geojson.json'\n",
    "\n",
    "# # Load the GeoJSON file into a geopandas DataFrame\n",
    "# gdf = gpd.read_file(geojson_file)\n",
    "# gdf"
   ]
  },
  {
   "cell_type": "code",
   "execution_count": 158,
   "id": "2bb73156",
   "metadata": {},
   "outputs": [],
   "source": [
    "# import plotly.express as px\n",
    "\n",
    "# # Calculate the total number of cases for each county\n",
    "# county_totals = chickenpox_df.drop('Date', axis=1).sum()\n",
    "\n",
    "# # Create a DataFrame with county names and total cases\n",
    "# data = pd.DataFrame({'County': county_totals.index, 'Total Cases': county_totals.values})\n",
    "\n",
    "# # Merge the county-level data with the geographical data\n",
    "# merged_data = gdf.merge(data, left_on='cou', right_on='County', how='left')\n",
    "\n",
    "# # Create the choropleth map using Plotly\n",
    "# fig = px.choropleth(\n",
    "#     merged_data,\n",
    "#     geojson=merged_data.geometry,\n",
    "#     locations=merged_data.county_id,\n",
    "#     color='Total Cases',\n",
    "#     color_continuous_scale='Blues',\n",
    "#     labels={'Total Cases': 'Total Cases'},\n",
    "#     title='Distribution of Chickenpox Cases across Counties'\n",
    "# )\n",
    "# fig.update_geos(fitbounds='locations', visible=False)\n",
    "# fig.show()"
   ]
  },
  {
   "cell_type": "code",
   "execution_count": 53,
   "id": "1ae83d64",
   "metadata": {},
   "outputs": [
    {
     "data": {
      "application/vnd.plotly.v1+json": {
       "config": {
        "plotlyServerURL": "https://plot.ly"
       },
       "data": [
        {
         "name": "National_Total",
         "type": "scatter",
         "x": [
          2005,
          2006,
          2007,
          2008,
          2009,
          2010,
          2011,
          2012,
          2013,
          2014
         ],
         "y": [
          53213,
          45941,
          49575,
          37057,
          41452,
          38968,
          40084,
          34220,
          34696,
          30313
         ]
        },
        {
         "name": "month",
         "type": "scatter",
         "x": [
          2005,
          2006,
          2007,
          2008,
          2009,
          2010,
          2011,
          2012,
          2013,
          2014
         ],
         "y": [
          336,
          335,
          346,
          342,
          340,
          339,
          336,
          346,
          344,
          342
         ]
        }
       ],
       "layout": {
        "template": {
         "data": {
          "bar": [
           {
            "error_x": {
             "color": "#2a3f5f"
            },
            "error_y": {
             "color": "#2a3f5f"
            },
            "marker": {
             "line": {
              "color": "#E5ECF6",
              "width": 0.5
             },
             "pattern": {
              "fillmode": "overlay",
              "size": 10,
              "solidity": 0.2
             }
            },
            "type": "bar"
           }
          ],
          "barpolar": [
           {
            "marker": {
             "line": {
              "color": "#E5ECF6",
              "width": 0.5
             },
             "pattern": {
              "fillmode": "overlay",
              "size": 10,
              "solidity": 0.2
             }
            },
            "type": "barpolar"
           }
          ],
          "carpet": [
           {
            "aaxis": {
             "endlinecolor": "#2a3f5f",
             "gridcolor": "white",
             "linecolor": "white",
             "minorgridcolor": "white",
             "startlinecolor": "#2a3f5f"
            },
            "baxis": {
             "endlinecolor": "#2a3f5f",
             "gridcolor": "white",
             "linecolor": "white",
             "minorgridcolor": "white",
             "startlinecolor": "#2a3f5f"
            },
            "type": "carpet"
           }
          ],
          "choropleth": [
           {
            "colorbar": {
             "outlinewidth": 0,
             "ticks": ""
            },
            "type": "choropleth"
           }
          ],
          "contour": [
           {
            "colorbar": {
             "outlinewidth": 0,
             "ticks": ""
            },
            "colorscale": [
             [
              0,
              "#0d0887"
             ],
             [
              0.1111111111111111,
              "#46039f"
             ],
             [
              0.2222222222222222,
              "#7201a8"
             ],
             [
              0.3333333333333333,
              "#9c179e"
             ],
             [
              0.4444444444444444,
              "#bd3786"
             ],
             [
              0.5555555555555556,
              "#d8576b"
             ],
             [
              0.6666666666666666,
              "#ed7953"
             ],
             [
              0.7777777777777778,
              "#fb9f3a"
             ],
             [
              0.8888888888888888,
              "#fdca26"
             ],
             [
              1,
              "#f0f921"
             ]
            ],
            "type": "contour"
           }
          ],
          "contourcarpet": [
           {
            "colorbar": {
             "outlinewidth": 0,
             "ticks": ""
            },
            "type": "contourcarpet"
           }
          ],
          "heatmap": [
           {
            "colorbar": {
             "outlinewidth": 0,
             "ticks": ""
            },
            "colorscale": [
             [
              0,
              "#0d0887"
             ],
             [
              0.1111111111111111,
              "#46039f"
             ],
             [
              0.2222222222222222,
              "#7201a8"
             ],
             [
              0.3333333333333333,
              "#9c179e"
             ],
             [
              0.4444444444444444,
              "#bd3786"
             ],
             [
              0.5555555555555556,
              "#d8576b"
             ],
             [
              0.6666666666666666,
              "#ed7953"
             ],
             [
              0.7777777777777778,
              "#fb9f3a"
             ],
             [
              0.8888888888888888,
              "#fdca26"
             ],
             [
              1,
              "#f0f921"
             ]
            ],
            "type": "heatmap"
           }
          ],
          "heatmapgl": [
           {
            "colorbar": {
             "outlinewidth": 0,
             "ticks": ""
            },
            "colorscale": [
             [
              0,
              "#0d0887"
             ],
             [
              0.1111111111111111,
              "#46039f"
             ],
             [
              0.2222222222222222,
              "#7201a8"
             ],
             [
              0.3333333333333333,
              "#9c179e"
             ],
             [
              0.4444444444444444,
              "#bd3786"
             ],
             [
              0.5555555555555556,
              "#d8576b"
             ],
             [
              0.6666666666666666,
              "#ed7953"
             ],
             [
              0.7777777777777778,
              "#fb9f3a"
             ],
             [
              0.8888888888888888,
              "#fdca26"
             ],
             [
              1,
              "#f0f921"
             ]
            ],
            "type": "heatmapgl"
           }
          ],
          "histogram": [
           {
            "marker": {
             "pattern": {
              "fillmode": "overlay",
              "size": 10,
              "solidity": 0.2
             }
            },
            "type": "histogram"
           }
          ],
          "histogram2d": [
           {
            "colorbar": {
             "outlinewidth": 0,
             "ticks": ""
            },
            "colorscale": [
             [
              0,
              "#0d0887"
             ],
             [
              0.1111111111111111,
              "#46039f"
             ],
             [
              0.2222222222222222,
              "#7201a8"
             ],
             [
              0.3333333333333333,
              "#9c179e"
             ],
             [
              0.4444444444444444,
              "#bd3786"
             ],
             [
              0.5555555555555556,
              "#d8576b"
             ],
             [
              0.6666666666666666,
              "#ed7953"
             ],
             [
              0.7777777777777778,
              "#fb9f3a"
             ],
             [
              0.8888888888888888,
              "#fdca26"
             ],
             [
              1,
              "#f0f921"
             ]
            ],
            "type": "histogram2d"
           }
          ],
          "histogram2dcontour": [
           {
            "colorbar": {
             "outlinewidth": 0,
             "ticks": ""
            },
            "colorscale": [
             [
              0,
              "#0d0887"
             ],
             [
              0.1111111111111111,
              "#46039f"
             ],
             [
              0.2222222222222222,
              "#7201a8"
             ],
             [
              0.3333333333333333,
              "#9c179e"
             ],
             [
              0.4444444444444444,
              "#bd3786"
             ],
             [
              0.5555555555555556,
              "#d8576b"
             ],
             [
              0.6666666666666666,
              "#ed7953"
             ],
             [
              0.7777777777777778,
              "#fb9f3a"
             ],
             [
              0.8888888888888888,
              "#fdca26"
             ],
             [
              1,
              "#f0f921"
             ]
            ],
            "type": "histogram2dcontour"
           }
          ],
          "mesh3d": [
           {
            "colorbar": {
             "outlinewidth": 0,
             "ticks": ""
            },
            "type": "mesh3d"
           }
          ],
          "parcoords": [
           {
            "line": {
             "colorbar": {
              "outlinewidth": 0,
              "ticks": ""
             }
            },
            "type": "parcoords"
           }
          ],
          "pie": [
           {
            "automargin": true,
            "type": "pie"
           }
          ],
          "scatter": [
           {
            "fillpattern": {
             "fillmode": "overlay",
             "size": 10,
             "solidity": 0.2
            },
            "type": "scatter"
           }
          ],
          "scatter3d": [
           {
            "line": {
             "colorbar": {
              "outlinewidth": 0,
              "ticks": ""
             }
            },
            "marker": {
             "colorbar": {
              "outlinewidth": 0,
              "ticks": ""
             }
            },
            "type": "scatter3d"
           }
          ],
          "scattercarpet": [
           {
            "marker": {
             "colorbar": {
              "outlinewidth": 0,
              "ticks": ""
             }
            },
            "type": "scattercarpet"
           }
          ],
          "scattergeo": [
           {
            "marker": {
             "colorbar": {
              "outlinewidth": 0,
              "ticks": ""
             }
            },
            "type": "scattergeo"
           }
          ],
          "scattergl": [
           {
            "marker": {
             "colorbar": {
              "outlinewidth": 0,
              "ticks": ""
             }
            },
            "type": "scattergl"
           }
          ],
          "scattermapbox": [
           {
            "marker": {
             "colorbar": {
              "outlinewidth": 0,
              "ticks": ""
             }
            },
            "type": "scattermapbox"
           }
          ],
          "scatterpolar": [
           {
            "marker": {
             "colorbar": {
              "outlinewidth": 0,
              "ticks": ""
             }
            },
            "type": "scatterpolar"
           }
          ],
          "scatterpolargl": [
           {
            "marker": {
             "colorbar": {
              "outlinewidth": 0,
              "ticks": ""
             }
            },
            "type": "scatterpolargl"
           }
          ],
          "scatterternary": [
           {
            "marker": {
             "colorbar": {
              "outlinewidth": 0,
              "ticks": ""
             }
            },
            "type": "scatterternary"
           }
          ],
          "surface": [
           {
            "colorbar": {
             "outlinewidth": 0,
             "ticks": ""
            },
            "colorscale": [
             [
              0,
              "#0d0887"
             ],
             [
              0.1111111111111111,
              "#46039f"
             ],
             [
              0.2222222222222222,
              "#7201a8"
             ],
             [
              0.3333333333333333,
              "#9c179e"
             ],
             [
              0.4444444444444444,
              "#bd3786"
             ],
             [
              0.5555555555555556,
              "#d8576b"
             ],
             [
              0.6666666666666666,
              "#ed7953"
             ],
             [
              0.7777777777777778,
              "#fb9f3a"
             ],
             [
              0.8888888888888888,
              "#fdca26"
             ],
             [
              1,
              "#f0f921"
             ]
            ],
            "type": "surface"
           }
          ],
          "table": [
           {
            "cells": {
             "fill": {
              "color": "#EBF0F8"
             },
             "line": {
              "color": "white"
             }
            },
            "header": {
             "fill": {
              "color": "#C8D4E3"
             },
             "line": {
              "color": "white"
             }
            },
            "type": "table"
           }
          ]
         },
         "layout": {
          "annotationdefaults": {
           "arrowcolor": "#2a3f5f",
           "arrowhead": 0,
           "arrowwidth": 1
          },
          "autotypenumbers": "strict",
          "coloraxis": {
           "colorbar": {
            "outlinewidth": 0,
            "ticks": ""
           }
          },
          "colorscale": {
           "diverging": [
            [
             0,
             "#8e0152"
            ],
            [
             0.1,
             "#c51b7d"
            ],
            [
             0.2,
             "#de77ae"
            ],
            [
             0.3,
             "#f1b6da"
            ],
            [
             0.4,
             "#fde0ef"
            ],
            [
             0.5,
             "#f7f7f7"
            ],
            [
             0.6,
             "#e6f5d0"
            ],
            [
             0.7,
             "#b8e186"
            ],
            [
             0.8,
             "#7fbc41"
            ],
            [
             0.9,
             "#4d9221"
            ],
            [
             1,
             "#276419"
            ]
           ],
           "sequential": [
            [
             0,
             "#0d0887"
            ],
            [
             0.1111111111111111,
             "#46039f"
            ],
            [
             0.2222222222222222,
             "#7201a8"
            ],
            [
             0.3333333333333333,
             "#9c179e"
            ],
            [
             0.4444444444444444,
             "#bd3786"
            ],
            [
             0.5555555555555556,
             "#d8576b"
            ],
            [
             0.6666666666666666,
             "#ed7953"
            ],
            [
             0.7777777777777778,
             "#fb9f3a"
            ],
            [
             0.8888888888888888,
             "#fdca26"
            ],
            [
             1,
             "#f0f921"
            ]
           ],
           "sequentialminus": [
            [
             0,
             "#0d0887"
            ],
            [
             0.1111111111111111,
             "#46039f"
            ],
            [
             0.2222222222222222,
             "#7201a8"
            ],
            [
             0.3333333333333333,
             "#9c179e"
            ],
            [
             0.4444444444444444,
             "#bd3786"
            ],
            [
             0.5555555555555556,
             "#d8576b"
            ],
            [
             0.6666666666666666,
             "#ed7953"
            ],
            [
             0.7777777777777778,
             "#fb9f3a"
            ],
            [
             0.8888888888888888,
             "#fdca26"
            ],
            [
             1,
             "#f0f921"
            ]
           ]
          },
          "colorway": [
           "#636efa",
           "#EF553B",
           "#00cc96",
           "#ab63fa",
           "#FFA15A",
           "#19d3f3",
           "#FF6692",
           "#B6E880",
           "#FF97FF",
           "#FECB52"
          ],
          "font": {
           "color": "#2a3f5f"
          },
          "geo": {
           "bgcolor": "white",
           "lakecolor": "white",
           "landcolor": "#E5ECF6",
           "showlakes": true,
           "showland": true,
           "subunitcolor": "white"
          },
          "hoverlabel": {
           "align": "left"
          },
          "hovermode": "closest",
          "mapbox": {
           "style": "light"
          },
          "paper_bgcolor": "white",
          "plot_bgcolor": "#E5ECF6",
          "polar": {
           "angularaxis": {
            "gridcolor": "white",
            "linecolor": "white",
            "ticks": ""
           },
           "bgcolor": "#E5ECF6",
           "radialaxis": {
            "gridcolor": "white",
            "linecolor": "white",
            "ticks": ""
           }
          },
          "scene": {
           "xaxis": {
            "backgroundcolor": "#E5ECF6",
            "gridcolor": "white",
            "gridwidth": 2,
            "linecolor": "white",
            "showbackground": true,
            "ticks": "",
            "zerolinecolor": "white"
           },
           "yaxis": {
            "backgroundcolor": "#E5ECF6",
            "gridcolor": "white",
            "gridwidth": 2,
            "linecolor": "white",
            "showbackground": true,
            "ticks": "",
            "zerolinecolor": "white"
           },
           "zaxis": {
            "backgroundcolor": "#E5ECF6",
            "gridcolor": "white",
            "gridwidth": 2,
            "linecolor": "white",
            "showbackground": true,
            "ticks": "",
            "zerolinecolor": "white"
           }
          },
          "shapedefaults": {
           "line": {
            "color": "#2a3f5f"
           }
          },
          "ternary": {
           "aaxis": {
            "gridcolor": "white",
            "linecolor": "white",
            "ticks": ""
           },
           "baxis": {
            "gridcolor": "white",
            "linecolor": "white",
            "ticks": ""
           },
           "bgcolor": "#E5ECF6",
           "caxis": {
            "gridcolor": "white",
            "linecolor": "white",
            "ticks": ""
           }
          },
          "title": {
           "x": 0.05
          },
          "xaxis": {
           "automargin": true,
           "gridcolor": "white",
           "linecolor": "white",
           "ticks": "",
           "title": {
            "standoff": 15
           },
           "zerolinecolor": "white",
           "zerolinewidth": 2
          },
          "yaxis": {
           "automargin": true,
           "gridcolor": "white",
           "linecolor": "white",
           "ticks": "",
           "title": {
            "standoff": 15
           },
           "zerolinecolor": "white",
           "zerolinewidth": 2
          }
         }
        },
        "title": {
         "text": "Yearly Distribution of National Total Chickenpox Cases"
        },
        "xaxis": {
         "title": {
          "text": "Year"
         }
        },
        "yaxis": {
         "title": {
          "text": "Total Cases"
         }
        }
       }
      }
     },
     "metadata": {},
     "output_type": "display_data"
    }
   ],
   "source": [
    "# Convert the date column to datetime type\n",
    "chickenpox_df['Date'] = pd.to_datetime(chickenpox_df['Date'], dayfirst=True)\n",
    "\n",
    "# Extract the year from the date column\n",
    "chickenpox_df['Year'] = chickenpox_df['Date'].dt.year\n",
    "\n",
    "# Extract month\n",
    "chickenpox_df['month'] = chickenpox_df['Date'].dt.month\n",
    "\n",
    "# Calculate the sum of cases for each year\n",
    "yearly_cases = chickenpox_df.groupby('Year').sum()\n",
    "\n",
    "# We only need the column year\n",
    "yearly_cases = yearly_cases.drop(['BUDAPEST', 'BARANYA', 'BACS', 'BEKES', 'BORSOD', 'CSONGRAD',\n",
    "       'FEJER', 'GYOR', 'HAJDU', 'HEVES', 'JASZ', 'KOMAROM', 'NOGRAD', 'PEST',\n",
    "       'SOMOGY', 'SZABOLCS', 'TOLNA', 'VAS', 'VESZPREM', 'ZALA'], axis=1)\n",
    "\n",
    "# Create the bar plot\n",
    "fig = go.Figure(data=[\n",
    "    go.Scatter(x=yearly_cases.index, y=yearly_cases[column], name=column) for column in yearly_cases.columns\n",
    "])\n",
    "\n",
    "# Update the layout\n",
    "fig.update_layout(\n",
    "    title='Yearly Distribution of National Total Chickenpox Cases',\n",
    "    xaxis_title='Year',\n",
    "    yaxis_title='Total Cases'\n",
    ")\n",
    "\n",
    "# Show the plot\n",
    "fig.show()"
   ]
  },
  {
   "cell_type": "code",
   "execution_count": 42,
   "id": "620b944b",
   "metadata": {},
   "outputs": [
    {
     "data": {
      "image/png": "[encoded data removed]",
      "text/plain": [
       "<Figure size 1200x600 with 1 Axes>"
      ]
     },
     "metadata": {},
     "output_type": "display_data"
    }
   ],
   "source": [
    "plt.figure(figsize=(12, 6))\n",
    "sns.barplot(x=national_weekly_mean.index, y=national_weekly_mean.values)\n",
    "plt.title('National Total Weekly Mean Case Count')\n",
    "plt.xlabel('Week')\n",
    "plt.ylabel('Mean Case Count')\n",
    "plt.xticks(rotation=60)\n",
    "plt.show()"
   ]
  },
  {
   "cell_type": "code",
   "execution_count": 45,
   "id": "94947fbb",
   "metadata": {},
   "outputs": [
    {
     "data": {
      "application/vnd.plotly.v1+json": {
       "config": {
        "plotlyServerURL": "https://plot.ly"
       },
       "data": [
        {
         "mode": "lines",
         "name": "Weekly Case Count",
         "type": "scatter",
         "x": [
          "2005-01-03T00:00:00",
          "2005-01-10T00:00:00",
          "2005-01-17T00:00:00",
          "2005-01-24T00:00:00",
          "2005-01-31T00:00:00",
          "2005-02-07T00:00:00",
          "2005-02-14T00:00:00",
          "2005-02-21T00:00:00",
          "2005-02-28T00:00:00",
          "2005-03-07T00:00:00",
          "2005-03-14T00:00:00",
          "2005-03-21T00:00:00",
          "2005-03-28T00:00:00",
          "2005-04-04T00:00:00",
          "2005-04-11T00:00:00",
          "2005-04-18T00:00:00",
          "2005-04-25T00:00:00",
          "2005-05-02T00:00:00",
          "2005-05-09T00:00:00",
          "2005-05-16T00:00:00",
          "2005-05-23T00:00:00",
          "2005-05-30T00:00:00",
          "2005-06-06T00:00:00",
          "2005-06-13T00:00:00",
          "2005-06-20T00:00:00",
          "2005-06-27T00:00:00",
          "2005-07-04T00:00:00",
          "2005-07-11T00:00:00",
          "2005-07-18T00:00:00",
          "2005-07-25T00:00:00",
          "2005-08-01T00:00:00",
          "2005-08-08T00:00:00",
          "2005-08-15T00:00:00",
          "2005-08-22T00:00:00",
          "2005-08-29T00:00:00",
          "2005-09-05T00:00:00",
          "2005-09-12T00:00:00",
          "2005-09-19T00:00:00",
          "2005-09-26T00:00:00",
          "2005-10-03T00:00:00",
          "2005-10-10T00:00:00",
          "2005-10-17T00:00:00",
          "2005-10-24T00:00:00",
          "2005-10-31T00:00:00",
          "2005-11-07T00:00:00",
          "2005-11-14T00:00:00",
          "2005-11-21T00:00:00",
          "2005-11-28T00:00:00",
          "2005-12-05T00:00:00",
          "2005-12-12T00:00:00",
          "2005-12-19T00:00:00",
          "2005-12-26T00:00:00",
          "2006-01-02T00:00:00",
          "2006-01-09T00:00:00",
          "2006-01-16T00:00:00",
          "2006-01-23T00:00:00",
          "2006-01-30T00:00:00",
          "2006-02-06T00:00:00",
          "2006-02-13T00:00:00",
          "2006-02-20T00:00:00",
          "2006-02-27T00:00:00",
          "2006-03-06T00:00:00",
          "2006-03-13T00:00:00",
          "2006-03-20T00:00:00",
          "2006-03-27T00:00:00",
          "2006-04-03T00:00:00",
          "2006-04-10T00:00:00",
          "2006-04-17T00:00:00",
          "2006-04-24T00:00:00",
          "2006-05-01T00:00:00",
          "2006-05-08T00:00:00",
          "2006-05-15T00:00:00",
          "2006-05-22T00:00:00",
          "2006-05-29T00:00:00",
          "2006-06-05T00:00:00",
          "2006-06-12T00:00:00",
          "2006-06-19T00:00:00",
          "2006-06-26T00:00:00",
          "2006-07-03T00:00:00",
          "2006-07-10T00:00:00",
          "2006-07-17T00:00:00",
          "2006-07-24T00:00:00",
          "2006-07-31T00:00:00",
          "2006-08-07T00:00:00",
          "2006-08-14T00:00:00",
          "2006-08-21T00:00:00",
          "2006-08-28T00:00:00",
          "2006-09-04T00:00:00",
          "2006-09-11T00:00:00",
          "2006-09-18T00:00:00",
          "2006-09-25T00:00:00",
          "2006-10-02T00:00:00",
          "2006-10-09T00:00:00",
          "2006-10-16T00:00:00",
          "2006-10-23T00:00:00",
          "2006-10-30T00:00:00",
          "2006-11-06T00:00:00",
          "2006-11-13T00:00:00",
          "2006-11-20T00:00:00",
          "2006-11-27T00:00:00",
          "2006-12-04T00:00:00",
          "2006-12-11T00:00:00",
          "2006-12-18T00:00:00",
          "2006-12-25T00:00:00",
          "2007-01-01T00:00:00",
          "2007-01-08T00:00:00",
          "2007-01-15T00:00:00",
          "2007-01-22T00:00:00",
          "2007-01-29T00:00:00",
          "2007-02-05T00:00:00",
          "2007-02-12T00:00:00",
          "2007-02-19T00:00:00",
          "2007-02-26T00:00:00",
          "2007-03-05T00:00:00",
          "2007-03-12T00:00:00",
          "2007-03-19T00:00:00",
          "2007-03-26T00:00:00",
          "2007-04-02T00:00:00",
          "2007-04-09T00:00:00",
          "2007-04-16T00:00:00",
          "2007-04-23T00:00:00",
          "2007-04-30T00:00:00",
          "2007-05-07T00:00:00",
          "2007-05-14T00:00:00",
          "2007-05-21T00:00:00",
          "2007-05-28T00:00:00",
          "2007-06-04T00:00:00",
          "2007-06-11T00:00:00",
          "2007-06-18T00:00:00",
          "2007-06-25T00:00:00",
          "2007-07-02T00:00:00",
          "2007-07-09T00:00:00",
          "2007-07-16T00:00:00",
          "2007-07-23T00:00:00",
          "2007-07-30T00:00:00",
          "2007-08-06T00:00:00",
          "2007-08-13T00:00:00",
          "2007-08-20T00:00:00",
          "2007-08-27T00:00:00",
          "2007-09-03T00:00:00",
          "2007-09-10T00:00:00",
          "2007-09-17T00:00:00",
          "2007-09-24T00:00:00",
          "2007-10-01T00:00:00",
          "2007-10-08T00:00:00",
          "2007-10-15T00:00:00",
          "2007-10-22T00:00:00",
          "2007-10-29T00:00:00",
          "2007-11-05T00:00:00",
          "2007-11-12T00:00:00",
          "2007-11-19T00:00:00",
          "2007-11-26T00:00:00",
          "2007-12-03T00:00:00",
          "2007-12-10T00:00:00",
          "2007-12-17T00:00:00",
          "2007-12-24T00:00:00",
          "2007-12-31T00:00:00",
          "2008-01-07T00:00:00",
          "2008-01-14T00:00:00",
          "2008-01-21T00:00:00",
          "2008-01-28T00:00:00",
          "2008-02-04T00:00:00",
          "2008-02-11T00:00:00",
          "2008-02-18T00:00:00",
          "2008-02-25T00:00:00",
          "2008-03-03T00:00:00",
          "2008-03-10T00:00:00",
          "2008-03-17T00:00:00",
          "2008-03-24T00:00:00",
          "2008-03-31T00:00:00",
          "2008-04-07T00:00:00",
          "2008-04-14T00:00:00",
          "2008-04-21T00:00:00",
          "2008-04-28T00:00:00",
          "2008-05-05T00:00:00",
          "2008-05-12T00:00:00",
          "2008-05-19T00:00:00",
          "2008-05-26T00:00:00",
          "2008-06-02T00:00:00",
          "2008-06-09T00:00:00",
          "2008-06-16T00:00:00",
          "2008-06-23T00:00:00",
          "2008-06-30T00:00:00",
          "2008-07-07T00:00:00",
          "2008-07-14T00:00:00",
          "2008-07-21T00:00:00",
          "2008-07-28T00:00:00",
          "2008-08-04T00:00:00",
          "2008-08-11T00:00:00",
          "2008-08-18T00:00:00",
          "2008-08-25T00:00:00",
          "2008-09-01T00:00:00",
          "2008-09-08T00:00:00",
          "2008-09-15T00:00:00",
          "2008-09-22T00:00:00",
          "2008-09-29T00:00:00",
          "2008-10-06T00:00:00",
          "2008-10-13T00:00:00",
          "2008-10-20T00:00:00",
          "2008-10-27T00:00:00",
          "2008-11-03T00:00:00",
          "2008-11-10T00:00:00",
          "2008-11-17T00:00:00",
          "2008-11-24T00:00:00",
          "2008-12-01T00:00:00",
          "2008-12-08T00:00:00",
          "2008-12-15T00:00:00",
          "2008-12-22T00:00:00",
          "2008-12-29T00:00:00",
          "2009-01-05T00:00:00",
          "2009-01-12T00:00:00",
          "2009-01-19T00:00:00",
          "2009-01-26T00:00:00",
          "2009-02-02T00:00:00",
          "2009-02-09T00:00:00",
          "2009-02-16T00:00:00",
          "2009-02-23T00:00:00",
          "2009-03-02T00:00:00",
          "2009-03-09T00:00:00",
          "2009-03-16T00:00:00",
          "2009-03-23T00:00:00",
          "2009-03-30T00:00:00",
          "2009-04-06T00:00:00",
          "2009-04-13T00:00:00",
          "2009-04-20T00:00:00",
          "2009-04-27T00:00:00",
          "2009-05-04T00:00:00",
          "2009-05-11T00:00:00",
          "2009-05-18T00:00:00",
          "2009-05-25T00:00:00",
          "2009-06-01T00:00:00",
          "2009-06-08T00:00:00",
          "2009-06-15T00:00:00",
          "2009-06-22T00:00:00",
          "2009-06-29T00:00:00",
          "2009-07-06T00:00:00",
          "2009-07-13T00:00:00",
          "2009-07-20T00:00:00",
          "2009-07-27T00:00:00",
          "2009-08-03T00:00:00",
          "2009-08-10T00:00:00",
          "2009-08-17T00:00:00",
          "2009-08-24T00:00:00",
          "2009-08-31T00:00:00",
          "2009-09-07T00:00:00",
          "2009-09-14T00:00:00",
          "2009-09-21T00:00:00",
          "2009-09-28T00:00:00",
          "2009-10-05T00:00:00",
          "2009-10-12T00:00:00",
          "2009-10-19T00:00:00",
          "2009-10-26T00:00:00",
          "2009-11-02T00:00:00",
          "2009-11-09T00:00:00",
          "2009-11-16T00:00:00",
          "2009-11-23T00:00:00",
          "2009-11-30T00:00:00",
          "2009-12-07T00:00:00",
          "2009-12-14T00:00:00",
          "2009-12-21T00:00:00",
          "2009-12-28T00:00:00",
          "2010-01-04T00:00:00",
          "2010-01-11T00:00:00",
          "2010-01-18T00:00:00",
          "2010-01-25T00:00:00",
          "2010-02-01T00:00:00",
          "2010-02-08T00:00:00",
          "2010-02-15T00:00:00",
          "2010-02-22T00:00:00",
          "2010-03-01T00:00:00",
          "2010-03-08T00:00:00",
          "2010-03-15T00:00:00",
          "2010-03-22T00:00:00",
          "2010-03-29T00:00:00",
          "2010-04-05T00:00:00",
          "2010-04-12T00:00:00",
          "2010-04-19T00:00:00",
          "2010-04-26T00:00:00",
          "2010-05-03T00:00:00",
          "2010-05-10T00:00:00",
          "2010-05-17T00:00:00",
          "2010-05-24T00:00:00",
          "2010-05-31T00:00:00",
          "2010-06-07T00:00:00",
          "2010-06-14T00:00:00",
          "2010-06-21T00:00:00",
          "2010-06-28T00:00:00",
          "2010-07-05T00:00:00",
          "2010-07-12T00:00:00",
          "2010-07-19T00:00:00",
          "2010-07-26T00:00:00",
          "2010-08-02T00:00:00",
          "2010-08-09T00:00:00",
          "2010-08-16T00:00:00",
          "2010-08-23T00:00:00",
          "2010-08-30T00:00:00",
          "2010-09-06T00:00:00",
          "2010-09-13T00:00:00",
          "2010-09-20T00:00:00",
          "2010-09-27T00:00:00",
          "2010-10-04T00:00:00",
          "2010-10-11T00:00:00",
          "2010-10-18T00:00:00",
          "2010-10-25T00:00:00",
          "2010-11-01T00:00:00",
          "2010-11-08T00:00:00",
          "2010-11-15T00:00:00",
          "2010-11-22T00:00:00",
          "2010-11-29T00:00:00",
          "2010-12-06T00:00:00",
          "2010-12-13T00:00:00",
          "2010-12-20T00:00:00",
          "2010-12-27T00:00:00",
          "2011-01-03T00:00:00",
          "2011-01-10T00:00:00",
          "2011-01-17T00:00:00",
          "2011-01-24T00:00:00",
          "2011-01-31T00:00:00",
          "2011-02-07T00:00:00",
          "2011-02-14T00:00:00",
          "2011-02-21T00:00:00",
          "2011-02-28T00:00:00",
          "2011-03-07T00:00:00",
          "2011-03-14T00:00:00",
          "2011-03-21T00:00:00",
          "2011-03-28T00:00:00",
          "2011-04-04T00:00:00",
          "2011-04-11T00:00:00",
          "2011-04-18T00:00:00",
          "2011-04-25T00:00:00",
          "2011-05-02T00:00:00",
          "2011-05-09T00:00:00",
          "2011-05-16T00:00:00",
          "2011-05-23T00:00:00",
          "2011-05-30T00:00:00",
          "2011-06-06T00:00:00",
          "2011-06-13T00:00:00",
          "2011-06-20T00:00:00",
          "2011-06-27T00:00:00",
          "2011-07-04T00:00:00",
          "2011-07-11T00:00:00",
          "2011-07-18T00:00:00",
          "2011-07-25T00:00:00",
          "2011-08-01T00:00:00",
          "2011-08-08T00:00:00",
          "2011-08-15T00:00:00",
          "2011-08-22T00:00:00",
          "2011-08-29T00:00:00",
          "2011-09-05T00:00:00",
          "2011-09-12T00:00:00",
          "2011-09-19T00:00:00",
          "2011-09-26T00:00:00",
          "2011-10-03T00:00:00",
          "2011-10-10T00:00:00",
          "2011-10-17T00:00:00",
          "2011-10-24T00:00:00",
          "2011-10-31T00:00:00",
          "2011-11-07T00:00:00",
          "2011-11-14T00:00:00",
          "2011-11-21T00:00:00",
          "2011-11-28T00:00:00",
          "2011-12-05T00:00:00",
          "2011-12-12T00:00:00",
          "2011-12-19T00:00:00",
          "2011-12-26T00:00:00",
          "2012-01-02T00:00:00",
          "2012-01-09T00:00:00",
          "2012-01-16T00:00:00",
          "2012-01-23T00:00:00",
          "2012-01-30T00:00:00",
          "2012-02-06T00:00:00",
          "2012-02-13T00:00:00",
          "2012-02-20T00:00:00",
          "2012-02-27T00:00:00",
          "2012-03-05T00:00:00",
          "2012-03-12T00:00:00",
          "2012-03-19T00:00:00",
          "2012-03-26T00:00:00",
          "2012-04-02T00:00:00",
          "2012-04-09T00:00:00",
          "2012-04-16T00:00:00",
          "2012-04-23T00:00:00",
          "2012-04-30T00:00:00",
          "2012-05-07T00:00:00",
          "2012-05-14T00:00:00",
          "2012-05-21T00:00:00",
          "2012-05-28T00:00:00",
          "2012-06-04T00:00:00",
          "2012-06-11T00:00:00",
          "2012-06-18T00:00:00",
          "2012-06-25T00:00:00",
          "2012-07-02T00:00:00",
          "2012-07-09T00:00:00",
          "2012-07-16T00:00:00",
          "2012-07-23T00:00:00",
          "2012-07-30T00:00:00",
          "2012-08-06T00:00:00",
          "2012-08-13T00:00:00",
          "2012-08-20T00:00:00",
          "2012-08-27T00:00:00",
          "2012-09-03T00:00:00",
          "2012-09-10T00:00:00",
          "2012-09-17T00:00:00",
          "2012-09-24T00:00:00",
          "2012-10-01T00:00:00",
          "2012-10-08T00:00:00",
          "2012-10-15T00:00:00",
          "2012-10-22T00:00:00",
          "2012-10-29T00:00:00",
          "2012-11-05T00:00:00",
          "2012-11-12T00:00:00",
          "2012-11-19T00:00:00",
          "2012-11-26T00:00:00",
          "2012-12-03T00:00:00",
          "2012-12-10T00:00:00",
          "2012-12-17T00:00:00",
          "2012-12-24T00:00:00",
          "2012-12-31T00:00:00",
          "2013-01-07T00:00:00",
          "2013-01-14T00:00:00",
          "2013-01-21T00:00:00",
          "2013-01-28T00:00:00",
          "2013-02-04T00:00:00",
          "2013-02-11T00:00:00",
          "2013-02-18T00:00:00",
          "2013-02-25T00:00:00",
          "2013-03-04T00:00:00",
          "2013-03-11T00:00:00",
          "2013-03-18T00:00:00",
          "2013-03-25T00:00:00",
          "2013-04-01T00:00:00",
          "2013-04-08T00:00:00",
          "2013-04-15T00:00:00",
          "2013-04-22T00:00:00",
          "2013-04-29T00:00:00",
          "2013-05-06T00:00:00",
          "2013-05-13T00:00:00",
          "2013-05-20T00:00:00",
          "2013-05-27T00:00:00",
          "2013-06-03T00:00:00",
          "2013-06-10T00:00:00",
          "2013-06-17T00:00:00",
          "2013-06-24T00:00:00",
          "2013-07-01T00:00:00",
          "2013-07-08T00:00:00",
          "2013-07-15T00:00:00",
          "2013-07-22T00:00:00",
          "2013-07-29T00:00:00",
          "2013-08-05T00:00:00",
          "2013-08-12T00:00:00",
          "2013-08-19T00:00:00",
          "2013-08-26T00:00:00",
          "2013-09-02T00:00:00",
          "2013-09-09T00:00:00",
          "2013-09-16T00:00:00",
          "2013-09-23T00:00:00",
          "2013-09-30T00:00:00",
          "2013-10-07T00:00:00",
          "2013-10-14T00:00:00",
          "2013-10-21T00:00:00",
          "2013-10-28T00:00:00",
          "2013-11-04T00:00:00",
          "2013-11-11T00:00:00",
          "2013-11-18T00:00:00",
          "2013-11-25T00:00:00",
          "2013-12-02T00:00:00",
          "2013-12-09T00:00:00",
          "2013-12-16T00:00:00",
          "2013-12-23T00:00:00",
          "2013-12-30T00:00:00",
          "2014-01-06T00:00:00",
          "2014-01-13T00:00:00",
          "2014-01-20T00:00:00",
          "2014-01-27T00:00:00",
          "2014-02-03T00:00:00",
          "2014-02-10T00:00:00",
          "2014-02-17T00:00:00",
          "2014-02-24T00:00:00",
          "2014-03-03T00:00:00",
          "2014-03-10T00:00:00",
          "2014-03-17T00:00:00",
          "2014-03-24T00:00:00",
          "2014-03-31T00:00:00",
          "2014-04-07T00:00:00",
          "2014-04-14T00:00:00",
          "2014-04-21T00:00:00",
          "2014-04-28T00:00:00",
          "2014-05-05T00:00:00",
          "2014-05-12T00:00:00",
          "2014-05-19T00:00:00",
          "2014-05-26T00:00:00",
          "2014-06-02T00:00:00",
          "2014-06-09T00:00:00",
          "2014-06-16T00:00:00",
          "2014-06-23T00:00:00",
          "2014-06-30T00:00:00",
          "2014-07-07T00:00:00",
          "2014-07-14T00:00:00",
          "2014-07-21T00:00:00",
          "2014-07-28T00:00:00",
          "2014-08-04T00:00:00",
          "2014-08-11T00:00:00",
          "2014-08-18T00:00:00",
          "2014-08-25T00:00:00",
          "2014-09-01T00:00:00",
          "2014-09-08T00:00:00",
          "2014-09-15T00:00:00",
          "2014-09-22T00:00:00",
          "2014-09-29T00:00:00",
          "2014-10-06T00:00:00",
          "2014-10-13T00:00:00",
          "2014-10-20T00:00:00",
          "2014-10-27T00:00:00",
          "2014-11-03T00:00:00",
          "2014-11-10T00:00:00",
          "2014-11-17T00:00:00",
          "2014-11-24T00:00:00",
          "2014-12-01T00:00:00",
          "2014-12-08T00:00:00",
          "2014-12-15T00:00:00",
          "2014-12-22T00:00:00",
          "2014-12-29T00:00:00"
         ],
         "y": [
          1807,
          1407,
          1284,
          1255,
          1478,
          1816,
          1839,
          1907,
          1705,
          1892,
          1618,
          1965,
          1534,
          1735,
          1409,
          1489,
          1625,
          1228,
          1925,
          1529,
          2078,
          1651,
          1789,
          1258,
          1571,
          1044,
          1020,
          662,
          418,
          288,
          217,
          131,
          91,
          118,
          72,
          82,
          62,
          112,
          125,
          231,
          277,
          424,
          531,
          465,
          664,
          532,
          489,
          773,
          739,
          1025,
          875,
          952,
          1382,
          1286,
          842,
          1250,
          1050,
          1227,
          1455,
          1559,
          1652,
          1655,
          1471,
          1756,
          1546,
          1549,
          1529,
          1570,
          2003,
          1339,
          1520,
          1186,
          1459,
          1494,
          1022,
          1365,
          1147,
          1065,
          977,
          447,
          360,
          217,
          138,
          132,
          120,
          82,
          90,
          64,
          61,
          74,
          125,
          129,
          214,
          224,
          250,
          328,
          477,
          541,
          601,
          771,
          829,
          807,
          913,
          591,
          1166,
          1618,
          1097,
          1357,
          1362,
          1392,
          1259,
          1784,
          1545,
          1819,
          1118,
          2052,
          1993,
          1473,
          1416,
          2256,
          1598,
          935,
          1923,
          1701,
          2040,
          1399,
          1835,
          1203,
          885,
          748,
          576,
          394,
          297,
          208,
          140,
          93,
          73,
          39,
          63,
          56,
          37,
          49,
          109,
          146,
          275,
          326,
          272,
          268,
          636,
          625,
          538,
          893,
          778,
          893,
          957,
          719,
          1141,
          1314,
          2646,
          1107,
          1035,
          851,
          750,
          930,
          978,
          939,
          943,
          1066,
          1002,
          1353,
          963,
          1194,
          1417,
          576,
          1416,
          845,
          1551,
          1287,
          1277,
          1090,
          824,
          742,
          493,
          442,
          333,
          282,
          191,
          136,
          111,
          35,
          49,
          41,
          47,
          79,
          101,
          123,
          280,
          353,
          259,
          407,
          466,
          438,
          459,
          569,
          544,
          841,
          1011,
          377,
          494,
          1740,
          1618,
          862,
          1188,
          1083,
          1235,
          1289,
          1569,
          1341,
          1413,
          1383,
          1314,
          1672,
          1116,
          1417,
          1953,
          1220,
          1350,
          1447,
          1310,
          1359,
          1148,
          1367,
          1096,
          998,
          695,
          697,
          522,
          286,
          203,
          125,
          114,
          38,
          83,
          51,
          50,
          46,
          69,
          79,
          109,
          174,
          238,
          225,
          377,
          296,
          336,
          536,
          525,
          728,
          592,
          335,
          435,
          937,
          590,
          542,
          867,
          730,
          789,
          1015,
          1045,
          892,
          1141,
          1037,
          1380,
          1258,
          1006,
          1619,
          1460,
          1198,
          1407,
          1195,
          1366,
          988,
          1444,
          1218,
          1205,
          1312,
          592,
          744,
          469,
          299,
          241,
          102,
          99,
          104,
          60,
          62,
          42,
          43,
          98,
          123,
          200,
          317,
          333,
          533,
          376,
          754,
          805,
          711,
          801,
          910,
          854,
          813,
          842,
          699,
          1596,
          945,
          1120,
          914,
          1109,
          1126,
          1520,
          1114,
          1476,
          1199,
          1820,
          1449,
          1422,
          1402,
          980,
          1003,
          1556,
          1341,
          1342,
          1339,
          1390,
          1129,
          888,
          927,
          628,
          645,
          377,
          310,
          189,
          111,
          128,
          83,
          104,
          54,
          69,
          85,
          74,
          90,
          158,
          134,
          260,
          433,
          229,
          433,
          479,
          556,
          572,
          688,
          754,
          961,
          674,
          1181,
          1382,
          971,
          1320,
          820,
          1241,
          1143,
          1123,
          954,
          878,
          656,
          1406,
          1006,
          930,
          728,
          1168,
          863,
          458,
          1193,
          1080,
          938,
          842,
          1148,
          919,
          949,
          663,
          602,
          512,
          316,
          230,
          125,
          121,
          99,
          27,
          33,
          87,
          55,
          69,
          60,
          107,
          116,
          205,
          259,
          201,
          474,
          514,
          318,
          687,
          513,
          695,
          693,
          311,
          831,
          1430,
          1057,
          930,
          1105,
          1141,
          947,
          1055,
          1223,
          839,
          1010,
          1123,
          1592,
          952,
          1232,
          1077,
          1127,
          956,
          1122,
          1203,
          966,
          1050,
          772,
          821,
          883,
          984,
          581,
          598,
          476,
          380,
          344,
          143,
          97,
          76,
          101,
          50,
          63,
          80,
          71,
          101,
          158,
          164,
          346,
          306,
          486,
          490,
          356,
          492,
          543,
          505,
          665,
          38,
          389,
          1062,
          864,
          546,
          848,
          483,
          681,
          914,
          876,
          813,
          868,
          1165,
          1116,
          1072,
          1094,
          1021,
          384,
          88,
          1140,
          1841,
          1101,
          1066,
          1044,
          518,
          1057,
          726,
          428,
          515,
          435,
          347,
          283,
          229,
          120,
          93,
          50,
          43,
          36,
          83,
          73,
          120,
          177,
          126,
          270,
          221,
          272,
          305,
          394,
          201,
          608,
          536,
          286,
          299,
          1375
         ]
        },
        {
         "line": {
          "color": "red"
         },
         "mode": "lines",
         "name": "National Mean",
         "type": "scatter",
         "x": [
          "2005-01-03T00:00:00",
          "2005-01-10T00:00:00",
          "2005-01-17T00:00:00",
          "2005-01-24T00:00:00",
          "2005-01-31T00:00:00",
          "2005-02-07T00:00:00",
          "2005-02-14T00:00:00",
          "2005-02-21T00:00:00",
          "2005-02-28T00:00:00",
          "2005-03-07T00:00:00",
          "2005-03-14T00:00:00",
          "2005-03-21T00:00:00",
          "2005-03-28T00:00:00",
          "2005-04-04T00:00:00",
          "2005-04-11T00:00:00",
          "2005-04-18T00:00:00",
          "2005-04-25T00:00:00",
          "2005-05-02T00:00:00",
          "2005-05-09T00:00:00",
          "2005-05-16T00:00:00",
          "2005-05-23T00:00:00",
          "2005-05-30T00:00:00",
          "2005-06-06T00:00:00",
          "2005-06-13T00:00:00",
          "2005-06-20T00:00:00",
          "2005-06-27T00:00:00",
          "2005-07-04T00:00:00",
          "2005-07-11T00:00:00",
          "2005-07-18T00:00:00",
          "2005-07-25T00:00:00",
          "2005-08-01T00:00:00",
          "2005-08-08T00:00:00",
          "2005-08-15T00:00:00",
          "2005-08-22T00:00:00",
          "2005-08-29T00:00:00",
          "2005-09-05T00:00:00",
          "2005-09-12T00:00:00",
          "2005-09-19T00:00:00",
          "2005-09-26T00:00:00",
          "2005-10-03T00:00:00",
          "2005-10-10T00:00:00",
          "2005-10-17T00:00:00",
          "2005-10-24T00:00:00",
          "2005-10-31T00:00:00",
          "2005-11-07T00:00:00",
          "2005-11-14T00:00:00",
          "2005-11-21T00:00:00",
          "2005-11-28T00:00:00",
          "2005-12-05T00:00:00",
          "2005-12-12T00:00:00",
          "2005-12-19T00:00:00",
          "2005-12-26T00:00:00",
          "2006-01-02T00:00:00",
          "2006-01-09T00:00:00",
          "2006-01-16T00:00:00",
          "2006-01-23T00:00:00",
          "2006-01-30T00:00:00",
          "2006-02-06T00:00:00",
          "2006-02-13T00:00:00",
          "2006-02-20T00:00:00",
          "2006-02-27T00:00:00",
          "2006-03-06T00:00:00",
          "2006-03-13T00:00:00",
          "2006-03-20T00:00:00",
          "2006-03-27T00:00:00",
          "2006-04-03T00:00:00",
          "2006-04-10T00:00:00",
          "2006-04-17T00:00:00",
          "2006-04-24T00:00:00",
          "2006-05-01T00:00:00",
          "2006-05-08T00:00:00",
          "2006-05-15T00:00:00",
          "2006-05-22T00:00:00",
          "2006-05-29T00:00:00",
          "2006-06-05T00:00:00",
          "2006-06-12T00:00:00",
          "2006-06-19T00:00:00",
          "2006-06-26T00:00:00",
          "2006-07-03T00:00:00",
          "2006-07-10T00:00:00",
          "2006-07-17T00:00:00",
          "2006-07-24T00:00:00",
          "2006-07-31T00:00:00",
          "2006-08-07T00:00:00",
          "2006-08-14T00:00:00",
          "2006-08-21T00:00:00",
          "2006-08-28T00:00:00",
          "2006-09-04T00:00:00",
          "2006-09-11T00:00:00",
          "2006-09-18T00:00:00",
          "2006-09-25T00:00:00",
          "2006-10-02T00:00:00",
          "2006-10-09T00:00:00",
          "2006-10-16T00:00:00",
          "2006-10-23T00:00:00",
          "2006-10-30T00:00:00",
          "2006-11-06T00:00:00",
          "2006-11-13T00:00:00",
          "2006-11-20T00:00:00",
          "2006-11-27T00:00:00",
          "2006-12-04T00:00:00",
          "2006-12-11T00:00:00",
          "2006-12-18T00:00:00",
          "2006-12-25T00:00:00",
          "2007-01-01T00:00:00",
          "2007-01-08T00:00:00",
          "2007-01-15T00:00:00",
          "2007-01-22T00:00:00",
          "2007-01-29T00:00:00",
          "2007-02-05T00:00:00",
          "2007-02-12T00:00:00",
          "2007-02-19T00:00:00",
          "2007-02-26T00:00:00",
          "2007-03-05T00:00:00",
          "2007-03-12T00:00:00",
          "2007-03-19T00:00:00",
          "2007-03-26T00:00:00",
          "2007-04-02T00:00:00",
          "2007-04-09T00:00:00",
          "2007-04-16T00:00:00",
          "2007-04-23T00:00:00",
          "2007-04-30T00:00:00",
          "2007-05-07T00:00:00",
          "2007-05-14T00:00:00",
          "2007-05-21T00:00:00",
          "2007-05-28T00:00:00",
          "2007-06-04T00:00:00",
          "2007-06-11T00:00:00",
          "2007-06-18T00:00:00",
          "2007-06-25T00:00:00",
          "2007-07-02T00:00:00",
          "2007-07-09T00:00:00",
          "2007-07-16T00:00:00",
          "2007-07-23T00:00:00",
          "2007-07-30T00:00:00",
          "2007-08-06T00:00:00",
          "2007-08-13T00:00:00",
          "2007-08-20T00:00:00",
          "2007-08-27T00:00:00",
          "2007-09-03T00:00:00",
          "2007-09-10T00:00:00",
          "2007-09-17T00:00:00",
          "2007-09-24T00:00:00",
          "2007-10-01T00:00:00",
          "2007-10-08T00:00:00",
          "2007-10-15T00:00:00",
          "2007-10-22T00:00:00",
          "2007-10-29T00:00:00",
          "2007-11-05T00:00:00",
          "2007-11-12T00:00:00",
          "2007-11-19T00:00:00",
          "2007-11-26T00:00:00",
          "2007-12-03T00:00:00",
          "2007-12-10T00:00:00",
          "2007-12-17T00:00:00",
          "2007-12-24T00:00:00",
          "2007-12-31T00:00:00",
          "2008-01-07T00:00:00",
          "2008-01-14T00:00:00",
          "2008-01-21T00:00:00",
          "2008-01-28T00:00:00",
          "2008-02-04T00:00:00",
          "2008-02-11T00:00:00",
          "2008-02-18T00:00:00",
          "2008-02-25T00:00:00",
          "2008-03-03T00:00:00",
          "2008-03-10T00:00:00",
          "2008-03-17T00:00:00",
          "2008-03-24T00:00:00",
          "2008-03-31T00:00:00",
          "2008-04-07T00:00:00",
          "2008-04-14T00:00:00",
          "2008-04-21T00:00:00",
          "2008-04-28T00:00:00",
          "2008-05-05T00:00:00",
          "2008-05-12T00:00:00",
          "2008-05-19T00:00:00",
          "2008-05-26T00:00:00",
          "2008-06-02T00:00:00",
          "2008-06-09T00:00:00",
          "2008-06-16T00:00:00",
          "2008-06-23T00:00:00",
          "2008-06-30T00:00:00",
          "2008-07-07T00:00:00",
          "2008-07-14T00:00:00",
          "2008-07-21T00:00:00",
          "2008-07-28T00:00:00",
          "2008-08-04T00:00:00",
          "2008-08-11T00:00:00",
          "2008-08-18T00:00:00",
          "2008-08-25T00:00:00",
          "2008-09-01T00:00:00",
          "2008-09-08T00:00:00",
          "2008-09-15T00:00:00",
          "2008-09-22T00:00:00",
          "2008-09-29T00:00:00",
          "2008-10-06T00:00:00",
          "2008-10-13T00:00:00",
          "2008-10-20T00:00:00",
          "2008-10-27T00:00:00",
          "2008-11-03T00:00:00",
          "2008-11-10T00:00:00",
          "2008-11-17T00:00:00",
          "2008-11-24T00:00:00",
          "2008-12-01T00:00:00",
          "2008-12-08T00:00:00",
          "2008-12-15T00:00:00",
          "2008-12-22T00:00:00",
          "2008-12-29T00:00:00",
          "2009-01-05T00:00:00",
          "2009-01-12T00:00:00",
          "2009-01-19T00:00:00",
          "2009-01-26T00:00:00",
          "2009-02-02T00:00:00",
          "2009-02-09T00:00:00",
          "2009-02-16T00:00:00",
          "2009-02-23T00:00:00",
          "2009-03-02T00:00:00",
          "2009-03-09T00:00:00",
          "2009-03-16T00:00:00",
          "2009-03-23T00:00:00",
          "2009-03-30T00:00:00",
          "2009-04-06T00:00:00",
          "2009-04-13T00:00:00",
          "2009-04-20T00:00:00",
          "2009-04-27T00:00:00",
          "2009-05-04T00:00:00",
          "2009-05-11T00:00:00",
          "2009-05-18T00:00:00",
          "2009-05-25T00:00:00",
          "2009-06-01T00:00:00",
          "2009-06-08T00:00:00",
          "2009-06-15T00:00:00",
          "2009-06-22T00:00:00",
          "2009-06-29T00:00:00",
          "2009-07-06T00:00:00",
          "2009-07-13T00:00:00",
          "2009-07-20T00:00:00",
          "2009-07-27T00:00:00",
          "2009-08-03T00:00:00",
          "2009-08-10T00:00:00",
          "2009-08-17T00:00:00",
          "2009-08-24T00:00:00",
          "2009-08-31T00:00:00",
          "2009-09-07T00:00:00",
          "2009-09-14T00:00:00",
          "2009-09-21T00:00:00",
          "2009-09-28T00:00:00",
          "2009-10-05T00:00:00",
          "2009-10-12T00:00:00",
          "2009-10-19T00:00:00",
          "2009-10-26T00:00:00",
          "2009-11-02T00:00:00",
          "2009-11-09T00:00:00",
          "2009-11-16T00:00:00",
          "2009-11-23T00:00:00",
          "2009-11-30T00:00:00",
          "2009-12-07T00:00:00",
          "2009-12-14T00:00:00",
          "2009-12-21T00:00:00",
          "2009-12-28T00:00:00",
          "2010-01-04T00:00:00",
          "2010-01-11T00:00:00",
          "2010-01-18T00:00:00",
          "2010-01-25T00:00:00",
          "2010-02-01T00:00:00",
          "2010-02-08T00:00:00",
          "2010-02-15T00:00:00",
          "2010-02-22T00:00:00",
          "2010-03-01T00:00:00",
          "2010-03-08T00:00:00",
          "2010-03-15T00:00:00",
          "2010-03-22T00:00:00",
          "2010-03-29T00:00:00",
          "2010-04-05T00:00:00",
          "2010-04-12T00:00:00",
          "2010-04-19T00:00:00",
          "2010-04-26T00:00:00",
          "2010-05-03T00:00:00",
          "2010-05-10T00:00:00",
          "2010-05-17T00:00:00",
          "2010-05-24T00:00:00",
          "2010-05-31T00:00:00",
          "2010-06-07T00:00:00",
          "2010-06-14T00:00:00",
          "2010-06-21T00:00:00",
          "2010-06-28T00:00:00",
          "2010-07-05T00:00:00",
          "2010-07-12T00:00:00",
          "2010-07-19T00:00:00",
          "2010-07-26T00:00:00",
          "2010-08-02T00:00:00",
          "2010-08-09T00:00:00",
          "2010-08-16T00:00:00",
          "2010-08-23T00:00:00",
          "2010-08-30T00:00:00",
          "2010-09-06T00:00:00",
          "2010-09-13T00:00:00",
          "2010-09-20T00:00:00",
          "2010-09-27T00:00:00",
          "2010-10-04T00:00:00",
          "2010-10-11T00:00:00",
          "2010-10-18T00:00:00",
          "2010-10-25T00:00:00",
          "2010-11-01T00:00:00",
          "2010-11-08T00:00:00",
          "2010-11-15T00:00:00",
          "2010-11-22T00:00:00",
          "2010-11-29T00:00:00",
          "2010-12-06T00:00:00",
          "2010-12-13T00:00:00",
          "2010-12-20T00:00:00",
          "2010-12-27T00:00:00",
          "2011-01-03T00:00:00",
          "2011-01-10T00:00:00",
          "2011-01-17T00:00:00",
          "2011-01-24T00:00:00",
          "2011-01-31T00:00:00",
          "2011-02-07T00:00:00",
          "2011-02-14T00:00:00",
          "2011-02-21T00:00:00",
          "2011-02-28T00:00:00",
          "2011-03-07T00:00:00",
          "2011-03-14T00:00:00",
          "2011-03-21T00:00:00",
          "2011-03-28T00:00:00",
          "2011-04-04T00:00:00",
          "2011-04-11T00:00:00",
          "2011-04-18T00:00:00",
          "2011-04-25T00:00:00",
          "2011-05-02T00:00:00",
          "2011-05-09T00:00:00",
          "2011-05-16T00:00:00",
          "2011-05-23T00:00:00",
          "2011-05-30T00:00:00",
          "2011-06-06T00:00:00",
          "2011-06-13T00:00:00",
          "2011-06-20T00:00:00",
          "2011-06-27T00:00:00",
          "2011-07-04T00:00:00",
          "2011-07-11T00:00:00",
          "2011-07-18T00:00:00",
          "2011-07-25T00:00:00",
          "2011-08-01T00:00:00",
          "2011-08-08T00:00:00",
          "2011-08-15T00:00:00",
          "2011-08-22T00:00:00",
          "2011-08-29T00:00:00",
          "2011-09-05T00:00:00",
          "2011-09-12T00:00:00",
          "2011-09-19T00:00:00",
          "2011-09-26T00:00:00",
          "2011-10-03T00:00:00",
          "2011-10-10T00:00:00",
          "2011-10-17T00:00:00",
          "2011-10-24T00:00:00",
          "2011-10-31T00:00:00",
          "2011-11-07T00:00:00",
          "2011-11-14T00:00:00",
          "2011-11-21T00:00:00",
          "2011-11-28T00:00:00",
          "2011-12-05T00:00:00",
          "2011-12-12T00:00:00",
          "2011-12-19T00:00:00",
          "2011-12-26T00:00:00",
          "2012-01-02T00:00:00",
          "2012-01-09T00:00:00",
          "2012-01-16T00:00:00",
          "2012-01-23T00:00:00",
          "2012-01-30T00:00:00",
          "2012-02-06T00:00:00",
          "2012-02-13T00:00:00",
          "2012-02-20T00:00:00",
          "2012-02-27T00:00:00",
          "2012-03-05T00:00:00",
          "2012-03-12T00:00:00",
          "2012-03-19T00:00:00",
          "2012-03-26T00:00:00",
          "2012-04-02T00:00:00",
          "2012-04-09T00:00:00",
          "2012-04-16T00:00:00",
          "2012-04-23T00:00:00",
          "2012-04-30T00:00:00",
          "2012-05-07T00:00:00",
          "2012-05-14T00:00:00",
          "2012-05-21T00:00:00",
          "2012-05-28T00:00:00",
          "2012-06-04T00:00:00",
          "2012-06-11T00:00:00",
          "2012-06-18T00:00:00",
          "2012-06-25T00:00:00",
          "2012-07-02T00:00:00",
          "2012-07-09T00:00:00",
          "2012-07-16T00:00:00",
          "2012-07-23T00:00:00",
          "2012-07-30T00:00:00",
          "2012-08-06T00:00:00",
          "2012-08-13T00:00:00",
          "2012-08-20T00:00:00",
          "2012-08-27T00:00:00",
          "2012-09-03T00:00:00",
          "2012-09-10T00:00:00",
          "2012-09-17T00:00:00",
          "2012-09-24T00:00:00",
          "2012-10-01T00:00:00",
          "2012-10-08T00:00:00",
          "2012-10-15T00:00:00",
          "2012-10-22T00:00:00",
          "2012-10-29T00:00:00",
          "2012-11-05T00:00:00",
          "2012-11-12T00:00:00",
          "2012-11-19T00:00:00",
          "2012-11-26T00:00:00",
          "2012-12-03T00:00:00",
          "2012-12-10T00:00:00",
          "2012-12-17T00:00:00",
          "2012-12-24T00:00:00",
          "2012-12-31T00:00:00",
          "2013-01-07T00:00:00",
          "2013-01-14T00:00:00",
          "2013-01-21T00:00:00",
          "2013-01-28T00:00:00",
          "2013-02-04T00:00:00",
          "2013-02-11T00:00:00",
          "2013-02-18T00:00:00",
          "2013-02-25T00:00:00",
          "2013-03-04T00:00:00",
          "2013-03-11T00:00:00",
          "2013-03-18T00:00:00",
          "2013-03-25T00:00:00",
          "2013-04-01T00:00:00",
          "2013-04-08T00:00:00",
          "2013-04-15T00:00:00",
          "2013-04-22T00:00:00",
          "2013-04-29T00:00:00",
          "2013-05-06T00:00:00",
          "2013-05-13T00:00:00",
          "2013-05-20T00:00:00",
          "2013-05-27T00:00:00",
          "2013-06-03T00:00:00",
          "2013-06-10T00:00:00",
          "2013-06-17T00:00:00",
          "2013-06-24T00:00:00",
          "2013-07-01T00:00:00",
          "2013-07-08T00:00:00",
          "2013-07-15T00:00:00",
          "2013-07-22T00:00:00",
          "2013-07-29T00:00:00",
          "2013-08-05T00:00:00",
          "2013-08-12T00:00:00",
          "2013-08-19T00:00:00",
          "2013-08-26T00:00:00",
          "2013-09-02T00:00:00",
          "2013-09-09T00:00:00",
          "2013-09-16T00:00:00",
          "2013-09-23T00:00:00",
          "2013-09-30T00:00:00",
          "2013-10-07T00:00:00",
          "2013-10-14T00:00:00",
          "2013-10-21T00:00:00",
          "2013-10-28T00:00:00",
          "2013-11-04T00:00:00",
          "2013-11-11T00:00:00",
          "2013-11-18T00:00:00",
          "2013-11-25T00:00:00",
          "2013-12-02T00:00:00",
          "2013-12-09T00:00:00",
          "2013-12-16T00:00:00",
          "2013-12-23T00:00:00",
          "2013-12-30T00:00:00",
          "2014-01-06T00:00:00",
          "2014-01-13T00:00:00",
          "2014-01-20T00:00:00",
          "2014-01-27T00:00:00",
          "2014-02-03T00:00:00",
          "2014-02-10T00:00:00",
          "2014-02-17T00:00:00",
          "2014-02-24T00:00:00",
          "2014-03-03T00:00:00",
          "2014-03-10T00:00:00",
          "2014-03-17T00:00:00",
          "2014-03-24T00:00:00",
          "2014-03-31T00:00:00",
          "2014-04-07T00:00:00",
          "2014-04-14T00:00:00",
          "2014-04-21T00:00:00",
          "2014-04-28T00:00:00",
          "2014-05-05T00:00:00",
          "2014-05-12T00:00:00",
          "2014-05-19T00:00:00",
          "2014-05-26T00:00:00",
          "2014-06-02T00:00:00",
          "2014-06-09T00:00:00",
          "2014-06-16T00:00:00",
          "2014-06-23T00:00:00",
          "2014-06-30T00:00:00",
          "2014-07-07T00:00:00",
          "2014-07-14T00:00:00",
          "2014-07-21T00:00:00",
          "2014-07-28T00:00:00",
          "2014-08-04T00:00:00",
          "2014-08-11T00:00:00",
          "2014-08-18T00:00:00",
          "2014-08-25T00:00:00",
          "2014-09-01T00:00:00",
          "2014-09-08T00:00:00",
          "2014-09-15T00:00:00",
          "2014-09-22T00:00:00",
          "2014-09-29T00:00:00",
          "2014-10-06T00:00:00",
          "2014-10-13T00:00:00",
          "2014-10-20T00:00:00",
          "2014-10-27T00:00:00",
          "2014-11-03T00:00:00",
          "2014-11-10T00:00:00",
          "2014-11-17T00:00:00",
          "2014-11-24T00:00:00",
          "2014-12-01T00:00:00",
          "2014-12-08T00:00:00",
          "2014-12-15T00:00:00",
          "2014-12-22T00:00:00",
          "2014-12-29T00:00:00"
         ],
         "y": [
          776.8563218390805,
          776.8563218390805,
          776.8563218390805,
          776.8563218390805,
          776.8563218390805,
          776.8563218390805,
          776.8563218390805,
          776.8563218390805,
          776.8563218390805,
          776.8563218390805,
          776.8563218390805,
          776.8563218390805,
          776.8563218390805,
          776.8563218390805,
          776.8563218390805,
          776.8563218390805,
          776.8563218390805,
          776.8563218390805,
          776.8563218390805,
          776.8563218390805,
          776.8563218390805,
          776.8563218390805,
          776.8563218390805,
          776.8563218390805,
          776.8563218390805,
          776.8563218390805,
          776.8563218390805,
          776.8563218390805,
          776.8563218390805,
          776.8563218390805,
          776.8563218390805,
          776.8563218390805,
          776.8563218390805,
          776.8563218390805,
          776.8563218390805,
          776.8563218390805,
          776.8563218390805,
          776.8563218390805,
          776.8563218390805,
          776.8563218390805,
          776.8563218390805,
          776.8563218390805,
          776.8563218390805,
          776.8563218390805,
          776.8563218390805,
          776.8563218390805,
          776.8563218390805,
          776.8563218390805,
          776.8563218390805,
          776.8563218390805,
          776.8563218390805,
          776.8563218390805,
          776.8563218390805,
          776.8563218390805,
          776.8563218390805,
          776.8563218390805,
          776.8563218390805,
          776.8563218390805,
          776.8563218390805,
          776.8563218390805,
          776.8563218390805,
          776.8563218390805,
          776.8563218390805,
          776.8563218390805,
          776.8563218390805,
          776.8563218390805,
          776.8563218390805,
          776.8563218390805,
          776.8563218390805,
          776.8563218390805,
          776.8563218390805,
          776.8563218390805,
          776.8563218390805,
          776.8563218390805,
          776.8563218390805,
          776.8563218390805,
          776.8563218390805,
          776.8563218390805,
          776.8563218390805,
          776.8563218390805,
          776.8563218390805,
          776.8563218390805,
          776.8563218390805,
          776.8563218390805,
          776.8563218390805,
          776.8563218390805,
          776.8563218390805,
          776.8563218390805,
          776.8563218390805,
          776.8563218390805,
          776.8563218390805,
          776.8563218390805,
          776.8563218390805,
          776.8563218390805,
          776.8563218390805,
          776.8563218390805,
          776.8563218390805,
          776.8563218390805,
          776.8563218390805,
          776.8563218390805,
          776.8563218390805,
          776.8563218390805,
          776.8563218390805,
          776.8563218390805,
          776.8563218390805,
          776.8563218390805,
          776.8563218390805,
          776.8563218390805,
          776.8563218390805,
          776.8563218390805,
          776.8563218390805,
          776.8563218390805,
          776.8563218390805,
          776.8563218390805,
          776.8563218390805,
          776.8563218390805,
          776.8563218390805,
          776.8563218390805,
          776.8563218390805,
          776.8563218390805,
          776.8563218390805,
          776.8563218390805,
          776.8563218390805,
          776.8563218390805,
          776.8563218390805,
          776.8563218390805,
          776.8563218390805,
          776.8563218390805,
          776.8563218390805,
          776.8563218390805,
          776.8563218390805,
          776.8563218390805,
          776.8563218390805,
          776.8563218390805,
          776.8563218390805,
          776.8563218390805,
          776.8563218390805,
          776.8563218390805,
          776.8563218390805,
          776.8563218390805,
          776.8563218390805,
          776.8563218390805,
          776.8563218390805,
          776.8563218390805,
          776.8563218390805,
          776.8563218390805,
          776.8563218390805,
          776.8563218390805,
          776.8563218390805,
          776.8563218390805,
          776.8563218390805,
          776.8563218390805,
          776.8563218390805,
          776.8563218390805,
          776.8563218390805,
          776.8563218390805,
          776.8563218390805,
          776.8563218390805,
          776.8563218390805,
          776.8563218390805,
          776.8563218390805,
          776.8563218390805,
          776.8563218390805,
          776.8563218390805,
          776.8563218390805,
          776.8563218390805,
          776.8563218390805,
          776.8563218390805,
          776.8563218390805,
          776.8563218390805,
          776.8563218390805,
          776.8563218390805,
          776.8563218390805,
          776.8563218390805,
          776.8563218390805,
          776.8563218390805,
          776.8563218390805,
          776.8563218390805,
          776.8563218390805,
          776.8563218390805,
          776.8563218390805,
          776.8563218390805,
          776.8563218390805,
          776.8563218390805,
          776.8563218390805,
          776.8563218390805,
          776.8563218390805,
          776.8563218390805,
          776.8563218390805,
          776.8563218390805,
          776.8563218390805,
          776.8563218390805,
          776.8563218390805,
          776.8563218390805,
          776.8563218390805,
          776.8563218390805,
          776.8563218390805,
          776.8563218390805,
          776.8563218390805,
          776.8563218390805,
          776.8563218390805,
          776.8563218390805,
          776.8563218390805,
          776.8563218390805,
          776.8563218390805,
          776.8563218390805,
          776.8563218390805,
          776.8563218390805,
          776.8563218390805,
          776.8563218390805,
          776.8563218390805,
          776.8563218390805,
          776.8563218390805,
          776.8563218390805,
          776.8563218390805,
          776.8563218390805,
          776.8563218390805,
          776.8563218390805,
          776.8563218390805,
          776.8563218390805,
          776.8563218390805,
          776.8563218390805,
          776.8563218390805,
          776.8563218390805,
          776.8563218390805,
          776.8563218390805,
          776.8563218390805,
          776.8563218390805,
          776.8563218390805,
          776.8563218390805,
          776.8563218390805,
          776.8563218390805,
          776.8563218390805,
          776.8563218390805,
          776.8563218390805,
          776.8563218390805,
          776.8563218390805,
          776.8563218390805,
          776.8563218390805,
          776.8563218390805,
          776.8563218390805,
          776.8563218390805,
          776.8563218390805,
          776.8563218390805,
          776.8563218390805,
          776.8563218390805,
          776.8563218390805,
          776.8563218390805,
          776.8563218390805,
          776.8563218390805,
          776.8563218390805,
          776.8563218390805,
          776.8563218390805,
          776.8563218390805,
          776.8563218390805,
          776.8563218390805,
          776.8563218390805,
          776.8563218390805,
          776.8563218390805,
          776.8563218390805,
          776.8563218390805,
          776.8563218390805,
          776.8563218390805,
          776.8563218390805,
          776.8563218390805,
          776.8563218390805,
          776.8563218390805,
          776.8563218390805,
          776.8563218390805,
          776.8563218390805,
          776.8563218390805,
          776.8563218390805,
          776.8563218390805,
          776.8563218390805,
          776.8563218390805,
          776.8563218390805,
          776.8563218390805,
          776.8563218390805,
          776.8563218390805,
          776.8563218390805,
          776.8563218390805,
          776.8563218390805,
          776.8563218390805,
          776.8563218390805,
          776.8563218390805,
          776.8563218390805,
          776.8563218390805,
          776.8563218390805,
          776.8563218390805,
          776.8563218390805,
          776.8563218390805,
          776.8563218390805,
          776.8563218390805,
          776.8563218390805,
          776.8563218390805,
          776.8563218390805,
          776.8563218390805,
          776.8563218390805,
          776.8563218390805,
          776.8563218390805,
          776.8563218390805,
          776.8563218390805,
          776.8563218390805,
          776.8563218390805,
          776.8563218390805,
          776.8563218390805,
          776.8563218390805,
          776.8563218390805,
          776.8563218390805,
          776.8563218390805,
          776.8563218390805,
          776.8563218390805,
          776.8563218390805,
          776.8563218390805,
          776.8563218390805,
          776.8563218390805,
          776.8563218390805,
          776.8563218390805,
          776.8563218390805,
          776.8563218390805,
          776.8563218390805,
          776.8563218390805,
          776.8563218390805,
          776.8563218390805,
          776.8563218390805,
          776.8563218390805,
          776.8563218390805,
          776.8563218390805,
          776.8563218390805,
          776.8563218390805,
          776.8563218390805,
          776.8563218390805,
          776.8563218390805,
          776.8563218390805,
          776.8563218390805,
          776.8563218390805,
          776.8563218390805,
          776.8563218390805,
          776.8563218390805,
          776.8563218390805,
          776.8563218390805,
          776.8563218390805,
          776.8563218390805,
          776.8563218390805,
          776.8563218390805,
          776.8563218390805,
          776.8563218390805,
          776.8563218390805,
          776.8563218390805,
          776.8563218390805,
          776.8563218390805,
          776.8563218390805,
          776.8563218390805,
          776.8563218390805,
          776.8563218390805,
          776.8563218390805,
          776.8563218390805,
          776.8563218390805,
          776.8563218390805,
          776.8563218390805,
          776.8563218390805,
          776.8563218390805,
          776.8563218390805,
          776.8563218390805,
          776.8563218390805,
          776.8563218390805,
          776.8563218390805,
          776.8563218390805,
          776.8563218390805,
          776.8563218390805,
          776.8563218390805,
          776.8563218390805,
          776.8563218390805,
          776.8563218390805,
          776.8563218390805,
          776.8563218390805,
          776.8563218390805,
          776.8563218390805,
          776.8563218390805,
          776.8563218390805,
          776.8563218390805,
          776.8563218390805,
          776.8563218390805,
          776.8563218390805,
          776.8563218390805,
          776.8563218390805,
          776.8563218390805,
          776.8563218390805,
          776.8563218390805,
          776.8563218390805,
          776.8563218390805,
          776.8563218390805,
          776.8563218390805,
          776.8563218390805,
          776.8563218390805,
          776.8563218390805,
          776.8563218390805,
          776.8563218390805,
          776.8563218390805,
          776.8563218390805,
          776.8563218390805,
          776.8563218390805,
          776.8563218390805,
          776.8563218390805,
          776.8563218390805,
          776.8563218390805,
          776.8563218390805,
          776.8563218390805,
          776.8563218390805,
          776.8563218390805,
          776.8563218390805,
          776.8563218390805,
          776.8563218390805,
          776.8563218390805,
          776.8563218390805,
          776.8563218390805,
          776.8563218390805,
          776.8563218390805,
          776.8563218390805,
          776.8563218390805,
          776.8563218390805,
          776.8563218390805,
          776.8563218390805,
          776.8563218390805,
          776.8563218390805,
          776.8563218390805,
          776.8563218390805,
          776.8563218390805,
          776.8563218390805,
          776.8563218390805,
          776.8563218390805,
          776.8563218390805,
          776.8563218390805,
          776.8563218390805,
          776.8563218390805,
          776.8563218390805,
          776.8563218390805,
          776.8563218390805,
          776.8563218390805,
          776.8563218390805,
          776.8563218390805,
          776.8563218390805,
          776.8563218390805,
          776.8563218390805,
          776.8563218390805,
          776.8563218390805,
          776.8563218390805,
          776.8563218390805,
          776.8563218390805,
          776.8563218390805,
          776.8563218390805,
          776.8563218390805,
          776.8563218390805,
          776.8563218390805,
          776.8563218390805,
          776.8563218390805,
          776.8563218390805,
          776.8563218390805,
          776.8563218390805,
          776.8563218390805,
          776.8563218390805,
          776.8563218390805,
          776.8563218390805,
          776.8563218390805,
          776.8563218390805,
          776.8563218390805,
          776.8563218390805,
          776.8563218390805,
          776.8563218390805,
          776.8563218390805,
          776.8563218390805,
          776.8563218390805,
          776.8563218390805,
          776.8563218390805,
          776.8563218390805,
          776.8563218390805,
          776.8563218390805,
          776.8563218390805,
          776.8563218390805,
          776.8563218390805,
          776.8563218390805,
          776.8563218390805,
          776.8563218390805,
          776.8563218390805,
          776.8563218390805,
          776.8563218390805,
          776.8563218390805,
          776.8563218390805,
          776.8563218390805,
          776.8563218390805,
          776.8563218390805,
          776.8563218390805,
          776.8563218390805,
          776.8563218390805,
          776.8563218390805,
          776.8563218390805,
          776.8563218390805,
          776.8563218390805,
          776.8563218390805,
          776.8563218390805,
          776.8563218390805,
          776.8563218390805,
          776.8563218390805,
          776.8563218390805,
          776.8563218390805,
          776.8563218390805,
          776.8563218390805,
          776.8563218390805,
          776.8563218390805,
          776.8563218390805,
          776.8563218390805,
          776.8563218390805,
          776.8563218390805,
          776.8563218390805,
          776.8563218390805,
          776.8563218390805,
          776.8563218390805,
          776.8563218390805,
          776.8563218390805,
          776.8563218390805,
          776.8563218390805,
          776.8563218390805
         ]
        }
       ],
       "layout": {
        "template": {
         "data": {
          "bar": [
           {
            "error_x": {
             "color": "#2a3f5f"
            },
            "error_y": {
             "color": "#2a3f5f"
            },
            "marker": {
             "line": {
              "color": "#E5ECF6",
              "width": 0.5
             },
             "pattern": {
              "fillmode": "overlay",
              "size": 10,
              "solidity": 0.2
             }
            },
            "type": "bar"
           }
          ],
          "barpolar": [
           {
            "marker": {
             "line": {
              "color": "#E5ECF6",
              "width": 0.5
             },
             "pattern": {
              "fillmode": "overlay",
              "size": 10,
              "solidity": 0.2
             }
            },
            "type": "barpolar"
           }
          ],
          "carpet": [
           {
            "aaxis": {
             "endlinecolor": "#2a3f5f",
             "gridcolor": "white",
             "linecolor": "white",
             "minorgridcolor": "white",
             "startlinecolor": "#2a3f5f"
            },
            "baxis": {
             "endlinecolor": "#2a3f5f",
             "gridcolor": "white",
             "linecolor": "white",
             "minorgridcolor": "white",
             "startlinecolor": "#2a3f5f"
            },
            "type": "carpet"
           }
          ],
          "choropleth": [
           {
            "colorbar": {
             "outlinewidth": 0,
             "ticks": ""
            },
            "type": "choropleth"
           }
          ],
          "contour": [
           {
            "colorbar": {
             "outlinewidth": 0,
             "ticks": ""
            },
            "colorscale": [
             [
              0,
              "#0d0887"
             ],
             [
              0.1111111111111111,
              "#46039f"
             ],
             [
              0.2222222222222222,
              "#7201a8"
             ],
             [
              0.3333333333333333,
              "#9c179e"
             ],
             [
              0.4444444444444444,
              "#bd3786"
             ],
             [
              0.5555555555555556,
              "#d8576b"
             ],
             [
              0.6666666666666666,
              "#ed7953"
             ],
             [
              0.7777777777777778,
              "#fb9f3a"
             ],
             [
              0.8888888888888888,
              "#fdca26"
             ],
             [
              1,
              "#f0f921"
             ]
            ],
            "type": "contour"
           }
          ],
          "contourcarpet": [
           {
            "colorbar": {
             "outlinewidth": 0,
             "ticks": ""
            },
            "type": "contourcarpet"
           }
          ],
          "heatmap": [
           {
            "colorbar": {
             "outlinewidth": 0,
             "ticks": ""
            },
            "colorscale": [
             [
              0,
              "#0d0887"
             ],
             [
              0.1111111111111111,
              "#46039f"
             ],
             [
              0.2222222222222222,
              "#7201a8"
             ],
             [
              0.3333333333333333,
              "#9c179e"
             ],
             [
              0.4444444444444444,
              "#bd3786"
             ],
             [
              0.5555555555555556,
              "#d8576b"
             ],
             [
              0.6666666666666666,
              "#ed7953"
             ],
             [
              0.7777777777777778,
              "#fb9f3a"
             ],
             [
              0.8888888888888888,
              "#fdca26"
             ],
             [
              1,
              "#f0f921"
             ]
            ],
            "type": "heatmap"
           }
          ],
          "heatmapgl": [
           {
            "colorbar": {
             "outlinewidth": 0,
             "ticks": ""
            },
            "colorscale": [
             [
              0,
              "#0d0887"
             ],
             [
              0.1111111111111111,
              "#46039f"
             ],
             [
              0.2222222222222222,
              "#7201a8"
             ],
             [
              0.3333333333333333,
              "#9c179e"
             ],
             [
              0.4444444444444444,
              "#bd3786"
             ],
             [
              0.5555555555555556,
              "#d8576b"
             ],
             [
              0.6666666666666666,
              "#ed7953"
             ],
             [
              0.7777777777777778,
              "#fb9f3a"
             ],
             [
              0.8888888888888888,
              "#fdca26"
             ],
             [
              1,
              "#f0f921"
             ]
            ],
            "type": "heatmapgl"
           }
          ],
          "histogram": [
           {
            "marker": {
             "pattern": {
              "fillmode": "overlay",
              "size": 10,
              "solidity": 0.2
             }
            },
            "type": "histogram"
           }
          ],
          "histogram2d": [
           {
            "colorbar": {
             "outlinewidth": 0,
             "ticks": ""
            },
            "colorscale": [
             [
              0,
              "#0d0887"
             ],
             [
              0.1111111111111111,
              "#46039f"
             ],
             [
              0.2222222222222222,
              "#7201a8"
             ],
             [
              0.3333333333333333,
              "#9c179e"
             ],
             [
              0.4444444444444444,
              "#bd3786"
             ],
             [
              0.5555555555555556,
              "#d8576b"
             ],
             [
              0.6666666666666666,
              "#ed7953"
             ],
             [
              0.7777777777777778,
              "#fb9f3a"
             ],
             [
              0.8888888888888888,
              "#fdca26"
             ],
             [
              1,
              "#f0f921"
             ]
            ],
            "type": "histogram2d"
           }
          ],
          "histogram2dcontour": [
           {
            "colorbar": {
             "outlinewidth": 0,
             "ticks": ""
            },
            "colorscale": [
             [
              0,
              "#0d0887"
             ],
             [
              0.1111111111111111,
              "#46039f"
             ],
             [
              0.2222222222222222,
              "#7201a8"
             ],
             [
              0.3333333333333333,
              "#9c179e"
             ],
             [
              0.4444444444444444,
              "#bd3786"
             ],
             [
              0.5555555555555556,
              "#d8576b"
             ],
             [
              0.6666666666666666,
              "#ed7953"
             ],
             [
              0.7777777777777778,
              "#fb9f3a"
             ],
             [
              0.8888888888888888,
              "#fdca26"
             ],
             [
              1,
              "#f0f921"
             ]
            ],
            "type": "histogram2dcontour"
           }
          ],
          "mesh3d": [
           {
            "colorbar": {
             "outlinewidth": 0,
             "ticks": ""
            },
            "type": "mesh3d"
           }
          ],
          "parcoords": [
           {
            "line": {
             "colorbar": {
              "outlinewidth": 0,
              "ticks": ""
             }
            },
            "type": "parcoords"
           }
          ],
          "pie": [
           {
            "automargin": true,
            "type": "pie"
           }
          ],
          "scatter": [
           {
            "fillpattern": {
             "fillmode": "overlay",
             "size": 10,
             "solidity": 0.2
            },
            "type": "scatter"
           }
          ],
          "scatter3d": [
           {
            "line": {
             "colorbar": {
              "outlinewidth": 0,
              "ticks": ""
             }
            },
            "marker": {
             "colorbar": {
              "outlinewidth": 0,
              "ticks": ""
             }
            },
            "type": "scatter3d"
           }
          ],
          "scattercarpet": [
           {
            "marker": {
             "colorbar": {
              "outlinewidth": 0,
              "ticks": ""
             }
            },
            "type": "scattercarpet"
           }
          ],
          "scattergeo": [
           {
            "marker": {
             "colorbar": {
              "outlinewidth": 0,
              "ticks": ""
             }
            },
            "type": "scattergeo"
           }
          ],
          "scattergl": [
           {
            "marker": {
             "colorbar": {
              "outlinewidth": 0,
              "ticks": ""
             }
            },
            "type": "scattergl"
           }
          ],
          "scattermapbox": [
           {
            "marker": {
             "colorbar": {
              "outlinewidth": 0,
              "ticks": ""
             }
            },
            "type": "scattermapbox"
           }
          ],
          "scatterpolar": [
           {
            "marker": {
             "colorbar": {
              "outlinewidth": 0,
              "ticks": ""
             }
            },
            "type": "scatterpolar"
           }
          ],
          "scatterpolargl": [
           {
            "marker": {
             "colorbar": {
              "outlinewidth": 0,
              "ticks": ""
             }
            },
            "type": "scatterpolargl"
           }
          ],
          "scatterternary": [
           {
            "marker": {
             "colorbar": {
              "outlinewidth": 0,
              "ticks": ""
             }
            },
            "type": "scatterternary"
           }
          ],
          "surface": [
           {
            "colorbar": {
             "outlinewidth": 0,
             "ticks": ""
            },
            "colorscale": [
             [
              0,
              "#0d0887"
             ],
             [
              0.1111111111111111,
              "#46039f"
             ],
             [
              0.2222222222222222,
              "#7201a8"
             ],
             [
              0.3333333333333333,
              "#9c179e"
             ],
             [
              0.4444444444444444,
              "#bd3786"
             ],
             [
              0.5555555555555556,
              "#d8576b"
             ],
             [
              0.6666666666666666,
              "#ed7953"
             ],
             [
              0.7777777777777778,
              "#fb9f3a"
             ],
             [
              0.8888888888888888,
              "#fdca26"
             ],
             [
              1,
              "#f0f921"
             ]
            ],
            "type": "surface"
           }
          ],
          "table": [
           {
            "cells": {
             "fill": {
              "color": "#EBF0F8"
             },
             "line": {
              "color": "white"
             }
            },
            "header": {
             "fill": {
              "color": "#C8D4E3"
             },
             "line": {
              "color": "white"
             }
            },
            "type": "table"
           }
          ]
         },
         "layout": {
          "annotationdefaults": {
           "arrowcolor": "#2a3f5f",
           "arrowhead": 0,
           "arrowwidth": 1
          },
          "autotypenumbers": "strict",
          "coloraxis": {
           "colorbar": {
            "outlinewidth": 0,
            "ticks": ""
           }
          },
          "colorscale": {
           "diverging": [
            [
             0,
             "#8e0152"
            ],
            [
             0.1,
             "#c51b7d"
            ],
            [
             0.2,
             "#de77ae"
            ],
            [
             0.3,
             "#f1b6da"
            ],
            [
             0.4,
             "#fde0ef"
            ],
            [
             0.5,
             "#f7f7f7"
            ],
            [
             0.6,
             "#e6f5d0"
            ],
            [
             0.7,
             "#b8e186"
            ],
            [
             0.8,
             "#7fbc41"
            ],
            [
             0.9,
             "#4d9221"
            ],
            [
             1,
             "#276419"
            ]
           ],
           "sequential": [
            [
             0,
             "#0d0887"
            ],
            [
             0.1111111111111111,
             "#46039f"
            ],
            [
             0.2222222222222222,
             "#7201a8"
            ],
            [
             0.3333333333333333,
             "#9c179e"
            ],
            [
             0.4444444444444444,
             "#bd3786"
            ],
            [
             0.5555555555555556,
             "#d8576b"
            ],
            [
             0.6666666666666666,
             "#ed7953"
            ],
            [
             0.7777777777777778,
             "#fb9f3a"
            ],
            [
             0.8888888888888888,
             "#fdca26"
            ],
            [
             1,
             "#f0f921"
            ]
           ],
           "sequentialminus": [
            [
             0,
             "#0d0887"
            ],
            [
             0.1111111111111111,
             "#46039f"
            ],
            [
             0.2222222222222222,
             "#7201a8"
            ],
            [
             0.3333333333333333,
             "#9c179e"
            ],
            [
             0.4444444444444444,
             "#bd3786"
            ],
            [
             0.5555555555555556,
             "#d8576b"
            ],
            [
             0.6666666666666666,
             "#ed7953"
            ],
            [
             0.7777777777777778,
             "#fb9f3a"
            ],
            [
             0.8888888888888888,
             "#fdca26"
            ],
            [
             1,
             "#f0f921"
            ]
           ]
          },
          "colorway": [
           "#636efa",
           "#EF553B",
           "#00cc96",
           "#ab63fa",
           "#FFA15A",
           "#19d3f3",
           "#FF6692",
           "#B6E880",
           "#FF97FF",
           "#FECB52"
          ],
          "font": {
           "color": "#2a3f5f"
          },
          "geo": {
           "bgcolor": "white",
           "lakecolor": "white",
           "landcolor": "#E5ECF6",
           "showlakes": true,
           "showland": true,
           "subunitcolor": "white"
          },
          "hoverlabel": {
           "align": "left"
          },
          "hovermode": "closest",
          "mapbox": {
           "style": "light"
          },
          "paper_bgcolor": "white",
          "plot_bgcolor": "#E5ECF6",
          "polar": {
           "angularaxis": {
            "gridcolor": "white",
            "linecolor": "white",
            "ticks": ""
           },
           "bgcolor": "#E5ECF6",
           "radialaxis": {
            "gridcolor": "white",
            "linecolor": "white",
            "ticks": ""
           }
          },
          "scene": {
           "xaxis": {
            "backgroundcolor": "#E5ECF6",
            "gridcolor": "white",
            "gridwidth": 2,
            "linecolor": "white",
            "showbackground": true,
            "ticks": "",
            "zerolinecolor": "white"
           },
           "yaxis": {
            "backgroundcolor": "#E5ECF6",
            "gridcolor": "white",
            "gridwidth": 2,
            "linecolor": "white",
            "showbackground": true,
            "ticks": "",
            "zerolinecolor": "white"
           },
           "zaxis": {
            "backgroundcolor": "#E5ECF6",
            "gridcolor": "white",
            "gridwidth": 2,
            "linecolor": "white",
            "showbackground": true,
            "ticks": "",
            "zerolinecolor": "white"
           }
          },
          "shapedefaults": {
           "line": {
            "color": "#2a3f5f"
           }
          },
          "ternary": {
           "aaxis": {
            "gridcolor": "white",
            "linecolor": "white",
            "ticks": ""
           },
           "baxis": {
            "gridcolor": "white",
            "linecolor": "white",
            "ticks": ""
           },
           "bgcolor": "#E5ECF6",
           "caxis": {
            "gridcolor": "white",
            "linecolor": "white",
            "ticks": ""
           }
          },
          "title": {
           "x": 0.05
          },
          "xaxis": {
           "automargin": true,
           "gridcolor": "white",
           "linecolor": "white",
           "ticks": "",
           "title": {
            "standoff": 15
           },
           "zerolinecolor": "white",
           "zerolinewidth": 2
          },
          "yaxis": {
           "automargin": true,
           "gridcolor": "white",
           "linecolor": "white",
           "ticks": "",
           "title": {
            "standoff": 15
           },
           "zerolinecolor": "white",
           "zerolinewidth": 2
          }
         }
        },
        "title": {
         "text": "National Total Weekly Mean Case Count"
        },
        "xaxis": {
         "title": {
          "text": "Date"
         }
        },
        "yaxis": {
         "title": {
          "text": "Case Count"
         }
        }
       }
      }
     },
     "metadata": {},
     "output_type": "display_data"
    }
   ],
   "source": [
    "# Calculate the national total weekly mean case count\n",
    "national_mean_cases = chickenpox_df['National_Total'].mean()\n",
    "\n",
    "# Create the line plot\n",
    "fig = go.Figure(data=[\n",
    "    go.Scatter(x=chickenpox_df['Date'], y=chickenpox_df['National_Total'], mode='lines', name='Weekly Case Count')\n",
    "])\n",
    "\n",
    "# Update the layout\n",
    "fig.update_layout(\n",
    "    title='National Total Weekly Mean Case Count',\n",
    "    xaxis_title='Date',\n",
    "    yaxis_title='Case Count'\n",
    ")\n",
    "\n",
    "# Add a line for the national mean case count\n",
    "fig.add_trace(go.Scatter(x=chickenpox_df['Date'], y=[national_mean_cases] * len(chickenpox_df),\n",
    "                         name='National Mean', mode='lines', line=dict(color='red')))\n",
    "\n",
    "# Show the plot\n",
    "fig.show()"
   ]
  },
  {
   "cell_type": "code",
   "execution_count": 58,
   "id": "39d09baf",
   "metadata": {},
   "outputs": [
    {
     "data": {
      "image/png": "[encoded data removed]",
      "text/plain": [
       "<Figure size 1200x600 with 1 Axes>"
      ]
     },
     "metadata": {},
     "output_type": "display_data"
    }
   ],
   "source": [
    "# National monthly\n",
    "chickenpox_df['month'] = chickenpox_df['month'].map(lambda x: calendar.month_name[x])\n",
    "plt.figure(figsize=(12, 6))\n",
    "sns.barplot(x=chickenpox_df['month'], y=chickenpox_df['National_Total'], data=chickenpox_df)\n",
    "plt.title('National Total Monthly Case Count')\n",
    "plt.xlabel('Month')\n",
    "plt.ylabel('Total Cases')\n",
    "plt.xticks(rotation=45)\n",
    "plt.show()\n"
   ]
  },
  {
   "attachments": {},
   "cell_type": "markdown",
   "id": "4e5fbc6d",
   "metadata": {
    "notebookRunGroups": {
     "groupValue": ""
    }
   },
   "source": [
    "#### Observations:\n",
    "* There is an aspect of seasonality whereby the case count starts to decline around June of every year and reaches its trough in August then the case counts start to rise again till it reaches its peak which is in April.\n",
    "* The peak period is between April and May and the off-peak period is between August and September. **Further investigation needed**"
   ]
  },
  {
   "cell_type": "code",
   "execution_count": 161,
   "id": "5d647ca9",
   "metadata": {},
   "outputs": [
    {
     "name": "stdout",
     "output_type": "stream",
     "text": [
      "43.03459680905042\n"
     ]
    }
   ],
   "source": [
    "# Decline percentage\n",
    "decline_pct = (53213 - 30313)/53213 * 100\n",
    "\n",
    "print(decline_pct)"
   ]
  },
  {
   "attachments": {},
   "cell_type": "markdown",
   "id": "efb08846",
   "metadata": {},
   "source": [
    "#### Observations:\n",
    "* There is a general decline in the case counts of chickenpox.\n",
    "* In 2005, there was a total of about 53,213 while in 2014 there was a total of about 30,313 cases.\n",
    "* This represents a decline of about 43.03% which shows that the situation is actually better."
   ]
  },
  {
   "cell_type": "code",
   "execution_count": 165,
   "id": "29ab0e25",
   "metadata": {},
   "outputs": [
    {
     "data": {
      "application/vnd.plotly.v1+json": {
       "config": {
        "plotlyServerURL": "https://plot.ly"
       },
       "data": [
        {
         "type": "bar",
         "x": [
          "January",
          "February",
          "March",
          "April",
          "May",
          "June",
          "July",
          "August",
          "September",
          "October",
          "November",
          "December",
          "January",
          "February",
          "March",
          "April",
          "May",
          "June",
          "July",
          "August",
          "September",
          "October",
          "November",
          "December",
          "January",
          "February",
          "March",
          "April",
          "May",
          "June",
          "July",
          "August",
          "September",
          "October",
          "November",
          "December",
          "January",
          "February",
          "March",
          "April",
          "May",
          "June",
          "July",
          "August",
          "September",
          "October",
          "November",
          "December",
          "January",
          "February",
          "March",
          "April",
          "May",
          "June",
          "July",
          "August",
          "September",
          "October",
          "November",
          "December",
          "January",
          "February",
          "March",
          "April",
          "May",
          "June",
          "July",
          "August",
          "September",
          "October",
          "November",
          "December",
          "January",
          "February",
          "March",
          "April",
          "May",
          "June",
          "July",
          "August",
          "September",
          "October",
          "November",
          "December",
          "January",
          "February",
          "March",
          "April",
          "May",
          "June",
          "July",
          "August",
          "September",
          "October",
          "November",
          "December",
          "January",
          "February",
          "March",
          "April",
          "May",
          "June",
          "July",
          "August",
          "September",
          "October",
          "November",
          "December",
          "January",
          "February",
          "March",
          "April",
          "May",
          "June",
          "July",
          "August",
          "September",
          "October",
          "November",
          "December"
         ],
         "y": [
          7231,
          7267,
          7009,
          6258,
          8411,
          5662,
          2388,
          629,
          381,
          1928,
          2458,
          3591,
          5810,
          5893,
          6428,
          6651,
          6998,
          4599,
          2139,
          424,
          324,
          1145,
          2390,
          3140,
          6600,
          5980,
          6982,
          7678,
          7063,
          4671,
          1615,
          268,
          251,
          1287,
          2692,
          4488,
          6102,
          3509,
          5303,
          4150,
          5099,
          4426,
          1248,
          331,
          391,
          1299,
          1932,
          3267,
          5408,
          5176,
          7123,
          5706,
          5466,
          5304,
          1708,
          411,
          244,
          746,
          2070,
          2090,
          2936,
          3579,
          5708,
          5283,
          6400,
          4327,
          1753,
          427,
          306,
          1383,
          3447,
          3419,
          5274,
          4869,
          5944,
          4807,
          6968,
          3572,
          1521,
          480,
          318,
          1214,
          2040,
          3077,
          5674,
          4461,
          3946,
          4147,
          4053,
          3679,
          1785,
          280,
          271,
          888,
          1993,
          3043,
          4522,
          4366,
          4564,
          5344,
          4341,
          3460,
          2379,
          417,
          365,
          974,
          1824,
          2140,
          3320,
          2954,
          5034,
          2587,
          5148,
          3773,
          1580,
          492,
          355,
          794,
          1172,
          3104
         ]
        }
       ],
       "layout": {
        "template": {
         "data": {
          "bar": [
           {
            "error_x": {
             "color": "#2a3f5f"
            },
            "error_y": {
             "color": "#2a3f5f"
            },
            "marker": {
             "line": {
              "color": "#E5ECF6",
              "width": 0.5
             },
             "pattern": {
              "fillmode": "overlay",
              "size": 10,
              "solidity": 0.2
             }
            },
            "type": "bar"
           }
          ],
          "barpolar": [
           {
            "marker": {
             "line": {
              "color": "#E5ECF6",
              "width": 0.5
             },
             "pattern": {
              "fillmode": "overlay",
              "size": 10,
              "solidity": 0.2
             }
            },
            "type": "barpolar"
           }
          ],
          "carpet": [
           {
            "aaxis": {
             "endlinecolor": "#2a3f5f",
             "gridcolor": "white",
             "linecolor": "white",
             "minorgridcolor": "white",
             "startlinecolor": "#2a3f5f"
            },
            "baxis": {
             "endlinecolor": "#2a3f5f",
             "gridcolor": "white",
             "linecolor": "white",
             "minorgridcolor": "white",
             "startlinecolor": "#2a3f5f"
            },
            "type": "carpet"
           }
          ],
          "choropleth": [
           {
            "colorbar": {
             "outlinewidth": 0,
             "ticks": ""
            },
            "type": "choropleth"
           }
          ],
          "contour": [
           {
            "colorbar": {
             "outlinewidth": 0,
             "ticks": ""
            },
            "colorscale": [
             [
              0,
              "#0d0887"
             ],
             [
              0.1111111111111111,
              "#46039f"
             ],
             [
              0.2222222222222222,
              "#7201a8"
             ],
             [
              0.3333333333333333,
              "#9c179e"
             ],
             [
              0.4444444444444444,
              "#bd3786"
             ],
             [
              0.5555555555555556,
              "#d8576b"
             ],
             [
              0.6666666666666666,
              "#ed7953"
             ],
             [
              0.7777777777777778,
              "#fb9f3a"
             ],
             [
              0.8888888888888888,
              "#fdca26"
             ],
             [
              1,
              "#f0f921"
             ]
            ],
            "type": "contour"
           }
          ],
          "contourcarpet": [
           {
            "colorbar": {
             "outlinewidth": 0,
             "ticks": ""
            },
            "type": "contourcarpet"
           }
          ],
          "heatmap": [
           {
            "colorbar": {
             "outlinewidth": 0,
             "ticks": ""
            },
            "colorscale": [
             [
              0,
              "#0d0887"
             ],
             [
              0.1111111111111111,
              "#46039f"
             ],
             [
              0.2222222222222222,
              "#7201a8"
             ],
             [
              0.3333333333333333,
              "#9c179e"
             ],
             [
              0.4444444444444444,
              "#bd3786"
             ],
             [
              0.5555555555555556,
              "#d8576b"
             ],
             [
              0.6666666666666666,
              "#ed7953"
             ],
             [
              0.7777777777777778,
              "#fb9f3a"
             ],
             [
              0.8888888888888888,
              "#fdca26"
             ],
             [
              1,
              "#f0f921"
             ]
            ],
            "type": "heatmap"
           }
          ],
          "heatmapgl": [
           {
            "colorbar": {
             "outlinewidth": 0,
             "ticks": ""
            },
            "colorscale": [
             [
              0,
              "#0d0887"
             ],
             [
              0.1111111111111111,
              "#46039f"
             ],
             [
              0.2222222222222222,
              "#7201a8"
             ],
             [
              0.3333333333333333,
              "#9c179e"
             ],
             [
              0.4444444444444444,
              "#bd3786"
             ],
             [
              0.5555555555555556,
              "#d8576b"
             ],
             [
              0.6666666666666666,
              "#ed7953"
             ],
             [
              0.7777777777777778,
              "#fb9f3a"
             ],
             [
              0.8888888888888888,
              "#fdca26"
             ],
             [
              1,
              "#f0f921"
             ]
            ],
            "type": "heatmapgl"
           }
          ],
          "histogram": [
           {
            "marker": {
             "pattern": {
              "fillmode": "overlay",
              "size": 10,
              "solidity": 0.2
             }
            },
            "type": "histogram"
           }
          ],
          "histogram2d": [
           {
            "colorbar": {
             "outlinewidth": 0,
             "ticks": ""
            },
            "colorscale": [
             [
              0,
              "#0d0887"
             ],
             [
              0.1111111111111111,
              "#46039f"
             ],
             [
              0.2222222222222222,
              "#7201a8"
             ],
             [
              0.3333333333333333,
              "#9c179e"
             ],
             [
              0.4444444444444444,
              "#bd3786"
             ],
             [
              0.5555555555555556,
              "#d8576b"
             ],
             [
              0.6666666666666666,
              "#ed7953"
             ],
             [
              0.7777777777777778,
              "#fb9f3a"
             ],
             [
              0.8888888888888888,
              "#fdca26"
             ],
             [
              1,
              "#f0f921"
             ]
            ],
            "type": "histogram2d"
           }
          ],
          "histogram2dcontour": [
           {
            "colorbar": {
             "outlinewidth": 0,
             "ticks": ""
            },
            "colorscale": [
             [
              0,
              "#0d0887"
             ],
             [
              0.1111111111111111,
              "#46039f"
             ],
             [
              0.2222222222222222,
              "#7201a8"
             ],
             [
              0.3333333333333333,
              "#9c179e"
             ],
             [
              0.4444444444444444,
              "#bd3786"
             ],
             [
              0.5555555555555556,
              "#d8576b"
             ],
             [
              0.6666666666666666,
              "#ed7953"
             ],
             [
              0.7777777777777778,
              "#fb9f3a"
             ],
             [
              0.8888888888888888,
              "#fdca26"
             ],
             [
              1,
              "#f0f921"
             ]
            ],
            "type": "histogram2dcontour"
           }
          ],
          "mesh3d": [
           {
            "colorbar": {
             "outlinewidth": 0,
             "ticks": ""
            },
            "type": "mesh3d"
           }
          ],
          "parcoords": [
           {
            "line": {
             "colorbar": {
              "outlinewidth": 0,
              "ticks": ""
             }
            },
            "type": "parcoords"
           }
          ],
          "pie": [
           {
            "automargin": true,
            "type": "pie"
           }
          ],
          "scatter": [
           {
            "fillpattern": {
             "fillmode": "overlay",
             "size": 10,
             "solidity": 0.2
            },
            "type": "scatter"
           }
          ],
          "scatter3d": [
           {
            "line": {
             "colorbar": {
              "outlinewidth": 0,
              "ticks": ""
             }
            },
            "marker": {
             "colorbar": {
              "outlinewidth": 0,
              "ticks": ""
             }
            },
            "type": "scatter3d"
           }
          ],
          "scattercarpet": [
           {
            "marker": {
             "colorbar": {
              "outlinewidth": 0,
              "ticks": ""
             }
            },
            "type": "scattercarpet"
           }
          ],
          "scattergeo": [
           {
            "marker": {
             "colorbar": {
              "outlinewidth": 0,
              "ticks": ""
             }
            },
            "type": "scattergeo"
           }
          ],
          "scattergl": [
           {
            "marker": {
             "colorbar": {
              "outlinewidth": 0,
              "ticks": ""
             }
            },
            "type": "scattergl"
           }
          ],
          "scattermapbox": [
           {
            "marker": {
             "colorbar": {
              "outlinewidth": 0,
              "ticks": ""
             }
            },
            "type": "scattermapbox"
           }
          ],
          "scatterpolar": [
           {
            "marker": {
             "colorbar": {
              "outlinewidth": 0,
              "ticks": ""
             }
            },
            "type": "scatterpolar"
           }
          ],
          "scatterpolargl": [
           {
            "marker": {
             "colorbar": {
              "outlinewidth": 0,
              "ticks": ""
             }
            },
            "type": "scatterpolargl"
           }
          ],
          "scatterternary": [
           {
            "marker": {
             "colorbar": {
              "outlinewidth": 0,
              "ticks": ""
             }
            },
            "type": "scatterternary"
           }
          ],
          "surface": [
           {
            "colorbar": {
             "outlinewidth": 0,
             "ticks": ""
            },
            "colorscale": [
             [
              0,
              "#0d0887"
             ],
             [
              0.1111111111111111,
              "#46039f"
             ],
             [
              0.2222222222222222,
              "#7201a8"
             ],
             [
              0.3333333333333333,
              "#9c179e"
             ],
             [
              0.4444444444444444,
              "#bd3786"
             ],
             [
              0.5555555555555556,
              "#d8576b"
             ],
             [
              0.6666666666666666,
              "#ed7953"
             ],
             [
              0.7777777777777778,
              "#fb9f3a"
             ],
             [
              0.8888888888888888,
              "#fdca26"
             ],
             [
              1,
              "#f0f921"
             ]
            ],
            "type": "surface"
           }
          ],
          "table": [
           {
            "cells": {
             "fill": {
              "color": "#EBF0F8"
             },
             "line": {
              "color": "white"
             }
            },
            "header": {
             "fill": {
              "color": "#C8D4E3"
             },
             "line": {
              "color": "white"
             }
            },
            "type": "table"
           }
          ]
         },
         "layout": {
          "annotationdefaults": {
           "arrowcolor": "#2a3f5f",
           "arrowhead": 0,
           "arrowwidth": 1
          },
          "autotypenumbers": "strict",
          "coloraxis": {
           "colorbar": {
            "outlinewidth": 0,
            "ticks": ""
           }
          },
          "colorscale": {
           "diverging": [
            [
             0,
             "#8e0152"
            ],
            [
             0.1,
             "#c51b7d"
            ],
            [
             0.2,
             "#de77ae"
            ],
            [
             0.3,
             "#f1b6da"
            ],
            [
             0.4,
             "#fde0ef"
            ],
            [
             0.5,
             "#f7f7f7"
            ],
            [
             0.6,
             "#e6f5d0"
            ],
            [
             0.7,
             "#b8e186"
            ],
            [
             0.8,
             "#7fbc41"
            ],
            [
             0.9,
             "#4d9221"
            ],
            [
             1,
             "#276419"
            ]
           ],
           "sequential": [
            [
             0,
             "#0d0887"
            ],
            [
             0.1111111111111111,
             "#46039f"
            ],
            [
             0.2222222222222222,
             "#7201a8"
            ],
            [
             0.3333333333333333,
             "#9c179e"
            ],
            [
             0.4444444444444444,
             "#bd3786"
            ],
            [
             0.5555555555555556,
             "#d8576b"
            ],
            [
             0.6666666666666666,
             "#ed7953"
            ],
            [
             0.7777777777777778,
             "#fb9f3a"
            ],
            [
             0.8888888888888888,
             "#fdca26"
            ],
            [
             1,
             "#f0f921"
            ]
           ],
           "sequentialminus": [
            [
             0,
             "#0d0887"
            ],
            [
             0.1111111111111111,
             "#46039f"
            ],
            [
             0.2222222222222222,
             "#7201a8"
            ],
            [
             0.3333333333333333,
             "#9c179e"
            ],
            [
             0.4444444444444444,
             "#bd3786"
            ],
            [
             0.5555555555555556,
             "#d8576b"
            ],
            [
             0.6666666666666666,
             "#ed7953"
            ],
            [
             0.7777777777777778,
             "#fb9f3a"
            ],
            [
             0.8888888888888888,
             "#fdca26"
            ],
            [
             1,
             "#f0f921"
            ]
           ]
          },
          "colorway": [
           "#636efa",
           "#EF553B",
           "#00cc96",
           "#ab63fa",
           "#FFA15A",
           "#19d3f3",
           "#FF6692",
           "#B6E880",
           "#FF97FF",
           "#FECB52"
          ],
          "font": {
           "color": "#2a3f5f"
          },
          "geo": {
           "bgcolor": "white",
           "lakecolor": "white",
           "landcolor": "#E5ECF6",
           "showlakes": true,
           "showland": true,
           "subunitcolor": "white"
          },
          "hoverlabel": {
           "align": "left"
          },
          "hovermode": "closest",
          "mapbox": {
           "style": "light"
          },
          "paper_bgcolor": "white",
          "plot_bgcolor": "#E5ECF6",
          "polar": {
           "angularaxis": {
            "gridcolor": "white",
            "linecolor": "white",
            "ticks": ""
           },
           "bgcolor": "#E5ECF6",
           "radialaxis": {
            "gridcolor": "white",
            "linecolor": "white",
            "ticks": ""
           }
          },
          "scene": {
           "xaxis": {
            "backgroundcolor": "#E5ECF6",
            "gridcolor": "white",
            "gridwidth": 2,
            "linecolor": "white",
            "showbackground": true,
            "ticks": "",
            "zerolinecolor": "white"
           },
           "yaxis": {
            "backgroundcolor": "#E5ECF6",
            "gridcolor": "white",
            "gridwidth": 2,
            "linecolor": "white",
            "showbackground": true,
            "ticks": "",
            "zerolinecolor": "white"
           },
           "zaxis": {
            "backgroundcolor": "#E5ECF6",
            "gridcolor": "white",
            "gridwidth": 2,
            "linecolor": "white",
            "showbackground": true,
            "ticks": "",
            "zerolinecolor": "white"
           }
          },
          "shapedefaults": {
           "line": {
            "color": "#2a3f5f"
           }
          },
          "ternary": {
           "aaxis": {
            "gridcolor": "white",
            "linecolor": "white",
            "ticks": ""
           },
           "baxis": {
            "gridcolor": "white",
            "linecolor": "white",
            "ticks": ""
           },
           "bgcolor": "#E5ECF6",
           "caxis": {
            "gridcolor": "white",
            "linecolor": "white",
            "ticks": ""
           }
          },
          "title": {
           "x": 0.05
          },
          "xaxis": {
           "automargin": true,
           "gridcolor": "white",
           "linecolor": "white",
           "ticks": "",
           "title": {
            "standoff": 15
           },
           "zerolinecolor": "white",
           "zerolinewidth": 2
          },
          "yaxis": {
           "automargin": true,
           "gridcolor": "white",
           "linecolor": "white",
           "ticks": "",
           "title": {
            "standoff": 15
           },
           "zerolinecolor": "white",
           "zerolinewidth": 2
          }
         }
        },
        "title": {
         "text": "National Total Monthly Case Count"
        },
        "xaxis": {
         "title": {
          "text": "Month"
         }
        },
        "yaxis": {
         "title": {
          "text": "Total Cases"
         }
        }
       }
      }
     },
     "metadata": {},
     "output_type": "display_data"
    }
   ],
   "source": [
    "# Group the data by year and month, and calculate the sum of cases\n",
    "monthly_cases = chickenpox_df.groupby([chickenpox_df['Date'].dt.year.rename('Year'), chickenpox_df['Date'].dt.month.rename('Month')])['National_Total'].sum().reset_index()\n",
    "\n",
    "# Map month numbers to month names\n",
    "monthly_cases['Month'] = monthly_cases['Month'].map(lambda x: calendar.month_name[x])\n",
    "\n",
    "# Create the bar plot\n",
    "fig = go.Figure(data=[\n",
    "    go.Bar(x=monthly_cases['Month'], y=monthly_cases['National_Total'])\n",
    "])\n",
    "\n",
    "# Update the layout\n",
    "fig.update_layout(\n",
    "    title='National Total Monthly Case Count',\n",
    "    xaxis_title='Month',\n",
    "    yaxis_title='Total Cases'\n",
    ")\n",
    "\n",
    "# Show the plot\n",
    "fig.show()"
   ]
  },
  {
   "attachments": {},
   "cell_type": "markdown",
   "id": "053d8d5d",
   "metadata": {},
   "source": [
    "According to this article that performed a spectral analysis of chicken pox in China in 2017 [here](https://www.ncbi.nlm.nih.gov/pmc/articles/PMC5541728/), the study revealed that for both Hong Kong and Wuhan, there chickenpox infection had two peaks in a year, one being during Spring and the other during Winter and that there exists a positive correlation between the case count and the mean average temperature and rainfall of each city. The study concluded that mean temperature has a significant influence on chickenpox.\n",
    "\n",
    "The Hungarian data behaves in a similar manner to the findings from the chickenpox study in China in that the peak periods of chickenpox are in Spring and Winter. Spring in Hundary falls during the months of March, April and May. Winter falls during the months of December, January and February according to [Elte University](https://www.elte.hu/en/about-hungary/climate#:~:text=There%20are%20four%20seasons%20in,September%2C%20October%2C%20November)"
   ]
  },
  {
   "cell_type": "code",
   "execution_count": 61,
   "id": "f027a31b",
   "metadata": {},
   "outputs": [
    {
     "data": {
      "image/png": "[encoded data removed]",
      "text/plain": [
       "<Figure size 1200x600 with 1 Axes>"
      ]
     },
     "metadata": {},
     "output_type": "display_data"
    }
   ],
   "source": [
    "case_count_columns = chickenpox_df.columns.drop(['Date', 'National_Total', 'Year', 'month'])\n",
    "chickenpox_df[case_count_columns] = chickenpox_df[case_count_columns].apply(pd.to_numeric, errors='coerce')\n",
    "\n",
    "# Calculate the total national case count\n",
    "total_cases = chickenpox_df['National_Total'].sum()\n",
    "\n",
    "# Calculate the proportion of each county's case count\n",
    "county_proportions = chickenpox_df[case_count_columns].sum() / total_cases\n",
    "\n",
    "# Plot the county proportions\n",
    "plt.figure(figsize=(12, 6))\n",
    "sns.barplot(x=county_proportions.index, y=county_proportions.values)\n",
    "plt.xlabel('County')\n",
    "plt.ylabel('Proportion')\n",
    "plt.title('Proportion of National Case Count contributed by each County')\n",
    "plt.xticks(rotation=90)\n",
    "plt.show()"
   ]
  },
  {
   "cell_type": "code",
   "execution_count": 63,
   "id": "4861371c",
   "metadata": {},
   "outputs": [
    {
     "data": {
      "text/plain": [
       "BUDAPEST    0.130327\n",
       "PEST        0.110833\n",
       "BORSOD      0.073479\n",
       "HAJDU       0.060626\n",
       "GYOR        0.053339\n",
       "JASZ        0.052609\n",
       "VESZPREM    0.052308\n",
       "BACS        0.047842\n",
       "BARANYA     0.044030\n",
       "FEJER       0.042829\n",
       "CSONGRAD    0.040533\n",
       "SZABOLCS    0.038430\n",
       "HEVES       0.038220\n",
       "BEKES       0.037217\n",
       "SOMOGY      0.035540\n",
       "KOMAROM     0.033010\n",
       "VAS         0.028921\n",
       "NOGRAD      0.028127\n",
       "TOLNA       0.026199\n",
       "ZALA        0.025582\n",
       "dtype: float64"
      ]
     },
     "execution_count": 63,
     "metadata": {},
     "output_type": "execute_result"
    }
   ],
   "source": [
    "# Showing the numbers as they are\n",
    "county_proportions.sort_values(ascending=False)"
   ]
  },
  {
   "attachments": {},
   "cell_type": "markdown",
   "id": "ebdae3b6",
   "metadata": {},
   "source": [
    "Budapest case counts contributes to 13% of the national tally whicg is quite high considering that counties like Zala contribute to just 2% of the national tally.\n",
    "Generally, the counties with a significantly high percentage of rural population as of 2015 [here](https://en.wikipedia.org/wiki/Ranked_list_of_Hungarian_counties), a threshold of 40% (`Zala, Tolna, Somogy, Nograd and Heves with the exception of Borsod`) each contribute to less than 4% of the national tally."
   ]
  },
  {
   "attachments": {},
   "cell_type": "markdown",
   "id": "1e4b9fee",
   "metadata": {},
   "source": [
    "## Multivariate Data Analysis\n",
    "> In this phase the study shall seek to understand the patterns that exist when at least two variables are considered."
   ]
  },
  {
   "cell_type": "code",
   "execution_count": null,
   "id": "2a95251b",
   "metadata": {},
   "outputs": [],
   "source": []
  }
 ],
 "metadata": {
  "kernelspec": {
   "display_name": "fizzy_env",
   "language": "python",
   "name": "python3"
  },
  "language_info": {
   "codemirror_mode": {
    "name": "ipython",
    "version": 3
   },
   "file_extension": ".py",
   "mimetype": "text/x-python",
   "name": "python",
   "nbconvert_exporter": "python",
   "pygments_lexer": "ipython3",
   "version": "3.9.16"
  }
 },
 "nbformat": 4,
 "nbformat_minor": 5
}
